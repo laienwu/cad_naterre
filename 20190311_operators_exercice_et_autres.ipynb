{
 "cells": [
  {
   "cell_type": "markdown",
   "metadata": {},
   "source": [
    "# Exercices"
   ]
  },
  {
   "cell_type": "markdown",
   "metadata": {},
   "source": [
    "Jouer avec les différents opérateurs \"and\" ou \"or\" ou \"not\""
   ]
  },
  {
   "cell_type": "code",
   "execution_count": 152,
   "metadata": {},
   "outputs": [],
   "source": [
    "a=True\n",
    "b=False\n",
    "if a and b:\n",
    "    print(\"Test\")"
   ]
  },
  {
   "cell_type": "markdown",
   "metadata": {},
   "source": [
    "Ecrivez une fonction qui prend en entrée un jour de la semaine et qui retourne True si c'est on est dans le weekend ou False si on est en semeine"
   ]
  },
  {
   "cell_type": "code",
   "execution_count": 154,
   "metadata": {},
   "outputs": [
    {
     "data": {
      "text/plain": [
       "True"
      ]
     },
     "execution_count": 154,
     "metadata": {},
     "output_type": "execute_result"
    }
   ],
   "source": [
    "def is_true(jr,week_end=['sam','dim']):\n",
    "    tmp= jr in week_end\n",
    "    return tmp\n",
    "is_true('sam',['lun',\"sam\",'dim'])"
   ]
  },
  {
   "cell_type": "markdown",
   "metadata": {},
   "source": [
    "Ecrivez une fonction qui retourne la soustraction de la valeur maximal et minimal de 3 nombre"
   ]
  },
  {
   "cell_type": "code",
   "execution_count": 158,
   "metadata": {},
   "outputs": [
    {
     "data": {
      "text/plain": [
       "'le maximum est9, et le minimum est -6'"
      ]
     },
     "execution_count": 158,
     "metadata": {},
     "output_type": "execute_result"
    }
   ],
   "source": [
    "def min_et_max(a,b,c):\n",
    "    if a>b:\n",
    "        if a>c:\n",
    "            maxi=a \n",
    "            if c<b:\n",
    "                mini=c\n",
    "            else:\n",
    "                mini=b\n",
    "        else: # c > a \n",
    "            maxi=c\n",
    "            mini=b\n",
    "    else: # b > a\n",
    "        if b > c:\n",
    "            maxi=b\n",
    "            if c<a:\n",
    "                mini=c\n",
    "            else:\n",
    "                mini=a\n",
    "        else:\n",
    "            maxi=c\n",
    "            mini=a\n",
    "    return f'le maximum est{maxi}, et le minimum est {mini}'\n",
    "min_et_max(9,-6,4)"
   ]
  },
  {
   "cell_type": "code",
   "execution_count": null,
   "metadata": {},
   "outputs": [],
   "source": [
    "def min_et_max(a,b,c):\n",
    "    if a < b < c:\n",
    "        return a, c\n",
    "    if a < c < b:\n",
    "        return a, b\n",
    "    if b < a < c:\n",
    "        pass\n",
    "    if b < c < a:\n",
    "        pass\n",
    "    if c < b < a:\n",
    "        pass\n",
    "    if c < a < b:\n",
    "        pass"
   ]
  },
  {
   "cell_type": "markdown",
   "metadata": {},
   "source": [
    "Faire une fonction qui va calculer votre âge en jours en fonction de votre date de naissance et de la date d'aujourd'hui. Exemple : si votre date de naissance est le 23 novembre 1990, vous avez 27 ans et 8 jours.\n"
   ]
  },
  {
   "cell_type": "code",
   "execution_count": 163,
   "metadata": {},
   "outputs": [
    {
     "data": {
      "text/plain": [
       "relativedelta(years=+31, months=+9, days=+14)"
      ]
     },
     "execution_count": 163,
     "metadata": {},
     "output_type": "execute_result"
    }
   ],
   "source": [
    "import datetime\n",
    "from dateutil.relativedelta import relativedelta\n",
    "\n",
    "def mon_age(annee,mois,jour):\n",
    "    today=datetime.date.today()\n",
    "    born=datetime.date(annee,mois,jour)\n",
    "    return relativedelta(today, born)\n",
    "\n",
    "mon_age(1988,4,2)\n"
   ]
  },
  {
   "cell_type": "markdown",
   "metadata": {},
   "source": [
    "# Exercices"
   ]
  },
  {
   "cell_type": "markdown",
   "metadata": {},
   "source": [
    "Faire une fonction qui calcul la factorielle d'un nombre. La factorielle de 5 (noté 5!) est égale à 1x2x3x4x5. "
   ]
  },
  {
   "cell_type": "code",
   "execution_count": 164,
   "metadata": {},
   "outputs": [
    {
     "data": {
      "text/plain": [
       "362880"
      ]
     },
     "execution_count": 164,
     "metadata": {},
     "output_type": "execute_result"
    }
   ],
   "source": [
    "def factorielle(n):\n",
    "    d={\"monfactoriel\":1}\n",
    "    [d.update({\"monfactoriel\":d['monfactoriel']*i})for i in range(2,n)]\n",
    "    return d['monfactoriel']\n",
    "\n",
    "factorielle(10)"
   ]
  },
  {
   "cell_type": "code",
   "execution_count": 228,
   "metadata": {},
   "outputs": [
    {
     "data": {
      "text/plain": [
       "362880"
      ]
     },
     "execution_count": 228,
     "metadata": {},
     "output_type": "execute_result"
    }
   ],
   "source": [
    "def fact2(n):\n",
    "    if n<2:\n",
    "        return 1\n",
    "    else:\n",
    "        return n*fact2(n-1)\n",
    "factorielle(10)"
   ]
  },
  {
   "cell_type": "code",
   "execution_count": 227,
   "metadata": {},
   "outputs": [
    {
     "data": {
      "text/plain": [
       "362880"
      ]
     },
     "execution_count": 227,
     "metadata": {},
     "output_type": "execute_result"
    }
   ],
   "source": [
    "from functools import reduce\n",
    "def fact3(n):\n",
    "    liste=[i for i in range(1,n)]\n",
    "    return reduce(lambda x,y:x*y,liste)\n",
    "fact3(10)"
   ]
  },
  {
   "cell_type": "markdown",
   "metadata": {},
   "source": [
    "Faire une fonction qui prend en arguments deux string et qui retourne la deuxième  si tout les caractères de la deuxième string sont présents dans la première et dans le cas contraire qui retourne \"Pas bon\" "
   ]
  },
  {
   "cell_type": "code",
   "execution_count": 175,
   "metadata": {},
   "outputs": [
    {
     "data": {
      "text/plain": [
       "'abc'"
      ]
     },
     "execution_count": 175,
     "metadata": {},
     "output_type": "execute_result"
    }
   ],
   "source": [
    "#une version sans regex\n",
    "str1 = \"abcdef\"\n",
    "str2 = \"abc\"\n",
    "\n",
    "def func(s1, s2):\n",
    "    for c in s2:\n",
    "        if c not in s1:\n",
    "            return False\n",
    "    return s2\n",
    "\n",
    "func(str1, str2)"
   ]
  },
  {
   "cell_type": "code",
   "execution_count": 229,
   "metadata": {},
   "outputs": [
    {
     "name": "stdout",
     "output_type": "stream",
     "text": [
      "Pas bon\n",
      "zezaeaze\n"
     ]
    }
   ],
   "source": [
    "#une version avec regex, histoire de s'habituer pour plus loin\n",
    "import re\n",
    "s1=\"zaeazeazeazezaeaze\"\n",
    "s2=\"zaeazeasdqsdqqd\"\n",
    "s3=\"zaeazeazeazezaeaze\"\n",
    "s4=\"zezaeaze\"\n",
    "\n",
    "def is_contenu(contenant,contenu):\n",
    "    #pattern = re.compile(contenu)\n",
    "    tmp=re.search(contenu,contenant)\n",
    "    if tmp :\n",
    "        return contenu\n",
    "    else:\n",
    "        return 'Pas bon'\n",
    "print(is_contenu(s1,s2))\n",
    "print(is_contenu(s3,s4))\n"
   ]
  },
  {
   "cell_type": "markdown",
   "metadata": {},
   "source": [
    "Faire une fonction qui compte le nombre de mots dans un texte"
   ]
  },
  {
   "cell_type": "code",
   "execution_count": 221,
   "metadata": {},
   "outputs": [
    {
     "name": "stdout",
     "output_type": "stream",
     "text": [
      "['The', 'European', 'languages', 'are', 'members', 'of', 'the', 'same', 'family.', 'Their', 'separate', 'existence', 'is', 'a', 'myth.', 'For', 'science,', 'music,', 'sport,', 'etc,', 'Europe', 'uses', 'the', 'same', 'vocabulary.', 'The', 'languages', 'only', 'differ', 'in', 'their', 'grammar,', 'their', 'pronunciation', 'and', 'their', 'most', 'common', 'words.', 'Everyone', 'realizes', 'why', 'a', 'new', 'common', 'language', 'would', 'be', 'desirable:', 'one', 'could', 'refuse', 'to', 'pay', 'expensive', 'translators.', 'To', 'achieve', 'this,', 'it', 'would', 'be', 'necessary', 'to', 'have', 'uniform', 'grammar,', 'pronunciation', 'and', 'more', 'common', 'words.', 'If', 'several', 'languages', 'coalesce,', 'the', 'grammar', 'of', 'the', 'resulting', 'language', 'is', 'more', 'simple', 'and', 'regular', 'than', 'that', 'of', 'the', 'individual', 'languages.', 'The', 'new', 'common', 'language', 'will', 'be', 'more', 'simple', 'and', 'regular', 'than', 'the', 'existing', 'European', 'languages.', 'It', 'will', 'be', 'as', 'simple', 'as', 'Occidental;', 'in', 'fact,', 'it', 'will', 'be', 'Occidental.', 'To', 'an', 'English', 'person,', 'it', 'will', 'seem', 'like', 'simplified', 'English,', 'as', 'a', 'skeptical', 'Cambridge', 'friend', 'of', 'mine', 'told', 'me', 'what', 'Occidental', 'is.', 'The', 'European', 'languages', 'are', 'members', 'of', 'the', 'same', 'family.', 'Their', 'separate', 'existence', 'is', 'a', 'myth.', 'For', 'science,', 'music,', 'sport,', 'etc,', 'Europe', 'uses', 'the', 'same', 'vocabulary.', 'The', 'languages', 'only', 'differ', 'in', 'their', 'grammar,', 'their', 'pronunciation', 'and', 'their', 'most', 'common', 'words.', 'Everyone', 'realizes', 'why', 'a', 'new', 'common', 'language', 'would', 'be', 'desirable:', 'one', 'could', 'refuse', 'to', 'pay', 'expensive', 'translators.', 'To']\n"
     ]
    },
    {
     "data": {
      "text/plain": [
       "200"
      ]
     },
     "execution_count": 221,
     "metadata": {},
     "output_type": "execute_result"
    }
   ],
   "source": [
    "text=\"The European languages are members of the same family. Their separate existence is a myth. For science, music, sport, etc, Europe uses the same vocabulary. The languages only differ in their grammar, their pronunciation and their most common words. Everyone realizes why a new common language would be desirable: one could refuse to pay expensive translators. To achieve this, it would be necessary to have uniform grammar, pronunciation and more common words. If several languages coalesce, the grammar of the resulting language is more simple and regular than that of the individual languages. The new common language will be more simple and regular than the existing European languages. It will be as simple as Occidental; in fact, it will be Occidental. To an English person, it will seem like simplified English, as a skeptical Cambridge friend of mine told me what Occidental is. The European languages are members of the same family. Their separate existence is a myth. For science, music, sport, etc, Europe uses the same vocabulary. The languages only differ in their grammar, their pronunciation and their most common words. Everyone realizes why a new common language would be desirable: one could refuse to pay expensive translators. To\"\n",
    "\n",
    "def nombre_mot(phrase):\n",
    "    return len(phrase.split())\n",
    "\n",
    "\n",
    "nombre_mot(text)#si dans votre propre resultat vous trouvez 199 au lieu de 200, c'est normal, j'ai corrigé une coquille dans le string de mon côté."
   ]
  },
  {
   "cell_type": "markdown",
   "metadata": {},
   "source": [
    "Faire une fonction, qui prend en entrée le temps passé (en s) et la distance (km)\n",
    "parcouru d'une particule entre deux points. La fonction retourne le ratio entre la vitesse de la particule et la vitesse de la lumière"
   ]
  },
  {
   "cell_type": "code",
   "execution_count": 126,
   "metadata": {},
   "outputs": [
    {
     "data": {
      "text/plain": [
       "1.0"
      ]
     },
     "execution_count": 126,
     "metadata": {},
     "output_type": "execute_result"
    }
   ],
   "source": [
    "def vitesse(temps,distance):\n",
    "    return distance/temps/300\n",
    "vitesse(1,300)"
   ]
  },
  {
   "cell_type": "markdown",
   "metadata": {},
   "source": [
    "Faire une fonction qui convertit les heures et les minutes en secondes."
   ]
  },
  {
   "cell_type": "code",
   "execution_count": null,
   "metadata": {},
   "outputs": [],
   "source": [
    "def conversion(h=0,m=0,s=0):\n",
    "    return h*3600+m*60+s"
   ]
  },
  {
   "cell_type": "markdown",
   "metadata": {},
   "source": [
    "Faire une fonction qui prend en entrée une lettre minuscule et retourne la lettre qui suit dans l'alphabet\n",
    "(z retourne a)."
   ]
  },
  {
   "cell_type": "code",
   "execution_count": 150,
   "metadata": {},
   "outputs": [
    {
     "data": {
      "text/plain": [
       "'a'"
      ]
     },
     "execution_count": 150,
     "metadata": {},
     "output_type": "execute_result"
    }
   ],
   "source": [
    "from string import ascii_lowercase as alphabet\n",
    "\n",
    "def next_lettre(lettre):\n",
    "    return alphabet[alphabet.index(lettre)+1-26]\n",
    "\n",
    "next_lettre('z')"
   ]
  },
  {
   "cell_type": "markdown",
   "metadata": {},
   "source": [
    "Faire une fonction qui prend en entrée une lettre minuscule et un chiffre entier n. La fonction retourne la lettre qui suit la première après n pas dans l'alphabet."
   ]
  },
  {
   "cell_type": "code",
   "execution_count": 191,
   "metadata": {},
   "outputs": [
    {
     "data": {
      "text/plain": [
       "'b'"
      ]
     },
     "execution_count": 191,
     "metadata": {},
     "output_type": "execute_result"
    }
   ],
   "source": [
    "def n_pas_lettre(lettre,n):#ici on suppose qu'il n'existe pas de pas supérieur strictement a 26, soit la taille de l'alphabet\n",
    "    return alphabet[alphabet.index(lettre)+n-26]\n",
    "\n",
    "n_pas_lettre('a',1)\n"
   ]
  },
  {
   "cell_type": "code",
   "execution_count": 202,
   "metadata": {},
   "outputs": [
    {
     "data": {
      "text/plain": [
       "'w'"
      ]
     },
     "execution_count": 202,
     "metadata": {},
     "output_type": "execute_result"
    }
   ],
   "source": [
    "#une autre solution visiblement privilégié par qui semble plus intuitive pour la majorité\n",
    "def n_pas_modulo(lettre, pas):\n",
    "    position=alphabet.index(lettre)\n",
    "    return alphabet[(position+pas)%26]\n",
    "\n",
    "n_pas_modulo(\"a\",100)    "
   ]
  },
  {
   "cell_type": "markdown",
   "metadata": {},
   "source": [
    "Faire une fonction qui décale chaque lettre d'un mot par la lettre qui suis dans l'alphabet.\n",
    "Exemple : \"mars\" => \"nbst\""
   ]
  },
  {
   "cell_type": "code",
   "execution_count": 112,
   "metadata": {},
   "outputs": [
    {
     "data": {
      "text/plain": [
       "'nbst'"
      ]
     },
     "execution_count": 112,
     "metadata": {},
     "output_type": "execute_result"
    }
   ],
   "source": [
    "def decalage(mot):\n",
    "    mot_nouveau=[]\n",
    "    for lettre in mot:\n",
    "        mot_nouveau.append(next_lettre(lettre))\n",
    "    mot_nouveau=''.join(mot_nouveau)\n",
    "    return mot_nouveau\n",
    "\n",
    "decalage(\"mars\")"
   ]
  },
  {
   "cell_type": "markdown",
   "metadata": {},
   "source": [
    "Faire une fonction qui prend en entrée une liste composé de plusieurs éléments identiques et qui doit sortir l'élément qui est répété le plus dans cette liste.\n",
    "Exemple : [1, 2, 2, 3, 3, 3, 2, 2, 1] => 3"
   ]
  },
  {
   "cell_type": "code",
   "execution_count": 138,
   "metadata": {},
   "outputs": [
    {
     "data": {
      "text/plain": [
       "3"
      ]
     },
     "execution_count": 138,
     "metadata": {},
     "output_type": "execute_result"
    }
   ],
   "source": [
    "from itertools import groupby\n",
    "def le_plus_nombreux(liste):\n",
    "    tmp=[(key,len(list(group))) for key, group in groupby(liste)]\n",
    "    tmp.sort(key=lambda x: x[1])\n",
    "    return tmp[-1][0]\n",
    "a=[1, 2, 2, 3, 3, 3, 2, 2, 1]\n",
    "le_plus_nombreux(a)"
   ]
  },
  {
   "cell_type": "markdown",
   "metadata": {},
   "source": [
    "Faire une fonction qui prend en entrée un texte. La fonction doit retourner la fréquence de chaque mots qui sont présents dans le texte sous la forme d'un dictionnaire."
   ]
  },
  {
   "cell_type": "code",
   "execution_count": 230,
   "metadata": {},
   "outputs": [
    {
     "name": "stdout",
     "output_type": "stream",
     "text": [
      "la longeur des mots distincts dans le text est de 84,dont la liste complete est:['The', 'European', 'languages', 'are', 'members', 'of', 'the', 'same', 'family', 'Their', 'separate', 'existence', 'is', 'a', 'myth', 'For', 'science', 'music', 'sport', 'etc', 'Europe', 'uses', 'vocabulary', 'only', 'differ', 'in', 'their', 'grammar', 'pronunciation', 'and', 'most', 'common', 'words', 'Everyone', 'realizes', 'why', 'new', 'language', 'would', 'be', 'desirable', 'one', 'could', 'refuse', 'to', 'pay', 'expensive', 'translators', 'To', 'achieve', 'this', 'it', 'necessary', 'have', 'uniform', 'more', 'If', 'several', 'coalesce', 'resulting', 'simple', 'regular', 'than', 'that', 'individual', 'will', 'existing', 'It', 'as', 'Occidental', 'fact', 'an', 'English', 'person', 'seem', 'like', 'simplified', 'skeptical', 'Cambridge', 'friend', 'mine', 'told', 'me', 'what']\n"
     ]
    }
   ],
   "source": [
    "text=\"The European languages are members of the same family. Their separate existence is a myth. For science, music, sport, etc, Europe uses the same vocabulary. The languages only differ in their grammar, their pronunciation and their most common words. Everyone realizes why a new common language would be desirable: one could refuse to pay expensive translators. To achieve this, it would be necessary to have uniform grammar, pronunciation and more common words. If several languages coalesce, the grammar of the resulting language is more simple and regular than that of the individual languages. The new common language will be more simple and regular than the existing European languages. It will be as simple as Occidental; in fact, it will be Occidental. To an English person, it will seem like simplified English, as a skeptical Cambridge friend of mine told me what Occidental is. The European languages are members of the same family. Their separate existence is a myth. For science, music, sport, etc, Europe uses the same vocabulary. The languages only differ in their grammar, their pronunciation and their most common words. Everyone realizes why a new common language would be desirable: one could refuse to pay expensive translators. To\"\n",
    "def repetition_mot(phrase):\n",
    "    liste_mot= re.findall(r\"\\w+\", phrase)\n",
    "    dico = {}\n",
    "    for mot in liste_mot:\n",
    "        if mot not in dico:\n",
    "            dico[mot] = 1\n",
    "        else:\n",
    "            dico[mot] += 1\n",
    "    return dico\n",
    "dico=repetition_mot(text)\n",
    "print(f'la longeur des mots distincts dans le text est de {len(list(dico.keys()))},dont la liste complete est:{list(dico.keys())}')# on vérifie que dans les clefs, tous les mots sont des vrai_mots"
   ]
  },
  {
   "cell_type": "markdown",
   "metadata": {},
   "source": [
    "# Exercice 2 : Trouver l'âme soeur"
   ]
  },
  {
   "cell_type": "markdown",
   "metadata": {},
   "source": [
    "Le but de cet exercice est de déterminer si une personne pourrait plaire à une autre et si elles sont mutuellement compatibles.\n",
    "Il faut d'abord enregistrer les attributs de chacun dans un dictionnaire en fonction des informations qui vous serons données.\n",
    "Ensuite, il faut déterminer pour chaque personne quelles autres personnes sont compatibles en fonction de ses critères\n",
    "\n"
   ]
  },
  {
   "cell_type": "markdown",
   "metadata": {},
   "source": [
    "Emmanuel a 28 ans, mesure 1.82 m, pèse 72 kg, a les cheveux blonds, a les yeux bleu et joue à Starcraft II. Il aime les personnes qui sont plus grandes que lui, qui a les cheveux noirs et une personne qui est plus âgée que lui ou qui joue à Starcraft II.\n",
    "Allan a 28 ans, mesure 1.72, pèse 72 kg, est musclé, a les cheveux blonds et les yeux marrons. Il aime les personnes qui sont de même taille ou plus petite que lui, qui ne joue pas à Stacraft II, les personnes de moins de 60kg et les personnes qui ont au moins deux ans de moins que lui.\n",
    "Brune a 29 ans, mesure 1.70, pèse 80 kg, a les cheveux noirs, les yeux marrons et est musclée. Elle aime les personnes qui sont musclés et qui ont les cheveux blonds\n",
    "Mirielle a 29 ans, mesure 1.85, pèse 60 kg, a les cheveux noirs et ne joue pas à Stacraft II. Elle aime les personnes qui pèse entre 65 et 75 kg et qui ont les yeux bleus.\n",
    "Mistinguette a 17 ans, pèse 45 kg, a les cheveux roux et joue a Starcraft II. Elle aime juste les personnes musclées\n"
   ]
  },
  {
   "cell_type": "code",
   "execution_count": null,
   "metadata": {},
   "outputs": [],
   "source": []
  },
  {
   "cell_type": "markdown",
   "metadata": {},
   "source": [
    "# Gros projet : le Morpion\n"
   ]
  },
  {
   "cell_type": "markdown",
   "metadata": {},
   "source": [
    "Créer un jeu Tic Tac Toe (faire l'algo sur papier avant). Au début programmez l'ordi afin qu'il joue une case aléatoirement, puis rajouter un peu d'intelligence."
   ]
  },
  {
   "cell_type": "code",
   "execution_count": null,
   "metadata": {},
   "outputs": [],
   "source": []
  }
 ],
 "metadata": {
  "kernelspec": {
   "display_name": "Python 3",
   "language": "python",
   "name": "python3"
  },
  "language_info": {
   "codemirror_mode": {
    "name": "ipython",
    "version": 3
   },
   "file_extension": ".py",
   "mimetype": "text/x-python",
   "name": "python",
   "nbconvert_exporter": "python",
   "pygments_lexer": "ipython3",
   "version": "3.6.9"
  }
 },
 "nbformat": 4,
 "nbformat_minor": 2
}
