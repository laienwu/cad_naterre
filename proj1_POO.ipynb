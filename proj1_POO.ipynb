{
 "cells": [
  {
   "cell_type": "markdown",
   "metadata": {},
   "source": [
    "## Projet1 POO"
   ]
  },
  {
   "cell_type": "markdown",
   "metadata": {},
   "source": [
    "#### Soit le fichier animaux.py en bas\n",
    "\n",
    "complétez les classes Animal et Chien pour qu'elles passent avec succès tous les tests unitaires suivants:\n"
   ]
  },
  {
   "cell_type": "code",
   "execution_count": 375,
   "metadata": {},
   "outputs": [],
   "source": [
    "# start-tests\n",
    "\n",
    "\n",
    "def test_empty_init():\n",
    "    with pytest.raises(TypeError):\n",
    "        Animal()\n",
    "\n",
    "\n",
    "def test_wrong_init():\n",
    "    with pytest.raises(ValueError):\n",
    "        Animal('Youpi', 'lalala')\n",
    "\n",
    "\n",
    "def test_init():\n",
    "    youpi = Animal('Youpi', 600)\n",
    "    assert youpi.masse == 600\n",
    "    assert youpi.vivant\n",
    "    assert youpi.estVivant()\n",
    "    assert not youpi.empoisonne\n",
    "\n",
    "\n",
    "def test_str():\n",
    "    youpi = Animal('Youpi', 600)\n",
    "    assert str(youpi) == 'Youpi (600.0 kg)'\n",
    "\n",
    "\n",
    "def test_mort():\n",
    "    youpi = Animal('Youpi', 600)\n",
    "    assert youpi.estVivant()\n",
    "    youpi.mourir()\n",
    "    assert not youpi.estVivant()\n",
    "\n",
    "\n",
    "def test_mange():\n",
    "    medor = Animal('Medor', 600)\n",
    "    kiki = Animal('Kiki', 20)\n",
    "    medor(kiki)                 # Médor mange Kiki\n",
    "    assert medor.estVivant()\n",
    "    assert not kiki.estVivant()\n",
    "    assert kiki.masse == 0\n",
    "    assert medor.masse == 620\n",
    "    kiki = Animal(\"Kiki Jr.\", 20)\n",
    "    kiki(medor)                 # Kiki Jr. mange Médor\n",
    "    assert not medor.estVivant()\n",
    "    assert kiki.estVivant()\n",
    "    assert kiki.masse == 22\n",
    "    assert medor.masse == 618   # Médor a perdu du poids en se faisant manger!\n",
    "\n",
    "\n",
    "def test_init_chien():\n",
    "    medor = Chien('Medor', 600)\n",
    "    assert isinstance(medor, Animal)\n",
    "    assert isinstance(medor, Chien)\n",
    "    assert medor.odorat == 0.5\n",
    "    assert str(medor) == 'Medor (Chien, 600.0 kg)'\n",
    "    assert medor.estVivant()\n"
   ]
  },
  {
   "cell_type": "code",
   "execution_count": 377,
   "metadata": {},
   "outputs": [
    {
     "ename": "NameError",
     "evalue": "name '__cmp__' is not defined",
     "output_type": "error",
     "traceback": [
      "\u001b[0;31m---------------------------------------------------------------------------\u001b[0m",
      "\u001b[0;31mNameError\u001b[0m                                 Traceback (most recent call last)",
      "\u001b[0;32m<ipython-input-377-e98ec8fa0be3>\u001b[0m in \u001b[0;36m<module>\u001b[0;34m\u001b[0m\n\u001b[0;32m----> 1\u001b[0;31m \u001b[0m__cmp__\u001b[0m\u001b[0;34m(\u001b[0m\u001b[0mmedor\u001b[0m\u001b[0;34m,\u001b[0m\u001b[0mkiki\u001b[0m\u001b[0;34m)\u001b[0m\u001b[0;34m\u001b[0m\u001b[0;34m\u001b[0m\u001b[0m\n\u001b[0m",
      "\u001b[0;31mNameError\u001b[0m: name '__cmp__' is not defined"
     ]
    }
   ],
   "source": [
    "__cmp__(medor,)"
   ]
  },
  {
   "cell_type": "markdown",
   "metadata": {},
   "source": [
    "* animaux.py"
   ]
  },
  {
   "cell_type": "code",
   "execution_count": 374,
   "metadata": {},
   "outputs": [],
   "source": [
    "class Animal(object):  # *object* est la classe dont dérivent toutes les autres\n",
    "\n",
    "    \"\"\"\n",
    "    Classe définissant un `Animal`, caractérisé par son nom et son\n",
    "    poids.\n",
    "    \"\"\"\n",
    "\n",
    "    def __init__(self, nom, masse):\n",
    "        \"\"\"\n",
    "        Méthode d'instanciation à partir d'un nom (str) et d'un poids (float).\n",
    "        \"\"\"\n",
    "        # Ici, convertir les paramètres pour être sûr qu'il ont le bon\n",
    "        # type. On utilisera `str` et `float`\n",
    "        self.nom = nom\n",
    "        self.masse = masse\n",
    "        \n",
    "        self.vivant = True       # Les animaux sont vivant à l'instantiation\n",
    "        self.empoisonne = False  # Animal empoisonné?\n",
    "\n",
    "    def __str__(self):\n",
    "        \"\"\"\n",
    "        Surcharge de l'opérateur `str`: l'affichage *informel* de l'objet\n",
    "        dans l'interpréteur, p.ex. `print self` sera résolu comme\n",
    "        `self.__str__()`\n",
    "\n",
    "        Retourne une chaîne de caractères.\n",
    "        \"\"\"\n",
    "\n",
    "        return f\"{self.nom} {(self.masse)}\"\n",
    "\n",
    "    def estVivant(self):\n",
    "        \"\"\"Méthode booléenne, vraie si l'animal est vivant.\"\"\"\n",
    "        return self.vivant\n",
    "\n",
    "    def mourir(self):\n",
    "        \"\"\"Change l'état interne de l'objet (ne retourne rien).\"\"\"\n",
    "        self.vivant=False\n",
    "        pass\n",
    "\n",
    "    def __cmp__(self, other):\n",
    "        \"\"\"\n",
    "        Surcharge des opérateurs de comparaison, sur la base de la masse\n",
    "        des animaux.\n",
    "        \"\"\"\n",
    "        return cmp(self.masse, other.masse)\n",
    "    \n",
    "    def __call__(self, other):\n",
    "        \"\"\"\n",
    "        Surcharge de l'opérateur '()' pour manger un autre animal (qui\n",
    "        meurt s'il est vivant) et prendre du poids (mais pas plus que\n",
    "        la masse de l'autre ou 10% de son propre poids).  Attention aux\n",
    "        animaux empoisonnés!\n",
    "\n",
    "        L'instruction `self(other)` sera résolue comme\n",
    "        `self.__call__(other).\n",
    "        \"\"\"\n",
    "\n",
    "        pass\n",
    "\n",
    "\n",
    "class Chien(Animal):\n",
    "\n",
    "    \"\"\"\n",
    "    Un `Chien` hérite de `Animal` avec des méthodes additionnelles\n",
    "    (p.ex. l'aboyement et l'odorat).\n",
    "    \"\"\"\n",
    "\n",
    "    def __init__(self, nom, masse=20, odorat=0.5):\n",
    "        \"\"\"Définit un chien plus ou moins fin limier.\"\"\"\n",
    "\n",
    "        # Initialisation de la classe parente\n",
    "        Animal.__init__(self, nom, masse)\n",
    "\n",
    "        # Attribut propre à la classe dérivée\n",
    "        self.odorat = float(odorat)\n",
    "\n",
    "    def aboyer(self):\n",
    "        \"\"\"Une méthode bien spécifique aux chiens.\"\"\"\n",
    "\n",
    "        print(\"Ouaf ! Ouaf !\")\n",
    "\n",
    "    def estVivant(self):\n",
    "        \"\"\"Quand on vérifie qu'un chien est vivant, il aboie.\"\"\"\n",
    "\n",
    "        vivant = Animal.estVivant(self)\n",
    "\n",
    "        if vivant:\n",
    "            self.aboyer()\n",
    "\n",
    "        return vivant\n",
    "    \n",
    "    \n"
   ]
  },
  {
   "cell_type": "code",
   "execution_count": null,
   "metadata": {},
   "outputs": [],
   "source": [
    "py.test animaux.py"
   ]
  },
  {
   "cell_type": "markdown",
   "metadata": {},
   "source": [
    "### indication:\n",
    "Les doctests peuvent être exécutés de différentes façons (voir ci-dessous) :\n",
    "\n",
    "•avec le module standard doctest : \n",
    "\n",
    "python -m doctest -v programme.py ;\n",
    "\n",
    "•avec pytest : \n",
    "\n",
    "py.test --doctest-modules -v programme.py ;\n",
    "\n",
    "•les fonctions dont le nom commence par test_ et contenant des assert sont automatiquement détectées par\n",
    "pytest, Cette méthode permet d'effectuer des tests plus poussés que les doctests, éventuellement dans un fichier séparé du code à tester. \n",
    " "
   ]
  },
  {
   "cell_type": "code",
   "execution_count": 391,
   "metadata": {},
   "outputs": [
    {
     "name": "stdout",
     "output_type": "stream",
     "text": [
      "['fata', 'tony']\n",
      "['imane', 'marc-henri']\n",
      "['cecile', 'mathusha']\n"
     ]
    }
   ],
   "source": [
    "from random import sample\n",
    "\n",
    "dico={\"cecile\":1,'mathusha':1,'imane':1,'tony':1,'marc-henri':1,'fata':1,'mohamed':1,'laien':0,'nour':0,'yassine':0,'bastien':0,'mohamed2':0,'emmanuelle':0,'louis-filipe':0,'alexandre':0,'gaetan':0,'jozef':0}\n",
    "\n",
    "def choisir(dico):\n",
    "    for i in dico:\n",
    "        verif=True\n",
    "        while verif:\n",
    "            tmp=input(f'souhaitez-vous switcher dans le group random {i} 0/1(1, si voulez, 0 sinon): ')\n",
    "            if tmp in ['0','1']: \n",
    "                dico[i]=tmp\n",
    "                verif=False\n",
    "    return dico\n",
    "\n",
    "\n",
    "\n",
    "def tirage(dico):\n",
    "    les_choix=[k for k in dico if dico[k]]\n",
    "    liste_couple=[]\n",
    "    while len(dico)>3:\n",
    "        tmp=(sample(dico.keys(),2))\n",
    "        print(tmp)\n",
    "        del dico[tmp[0]]\n",
    "        del dico[tmp[1]]\n",
    "    print (list(dico))\n",
    "       \n",
    "#choisir(dico)\n",
    "tirage(dico2)"
   ]
  },
  {
   "cell_type": "code",
   "execution_count": 401,
   "metadata": {},
   "outputs": [
    {
     "data": {
      "text/plain": [
       "['cecile', 'mathusha', 'imane', 'tony', 'marc-henri']"
      ]
     },
     "execution_count": 401,
     "metadata": {},
     "output_type": "execute_result"
    }
   ],
   "source": [
    "dico2={\"cecile\":1,'mathusha':1,'imane':1,'tony':1,'marc-henri':1,'fata':0}\n",
    "choix=[k for k in dico2 if dico2[k]==1]\n",
    "choix"
   ]
  },
  {
   "cell_type": "code",
   "execution_count": null,
   "metadata": {},
   "outputs": [],
   "source": []
  },
  {
   "cell_type": "code",
   "execution_count": null,
   "metadata": {},
   "outputs": [],
   "source": []
  },
  {
   "cell_type": "code",
   "execution_count": null,
   "metadata": {},
   "outputs": [],
   "source": []
  },
  {
   "cell_type": "code",
   "execution_count": null,
   "metadata": {},
   "outputs": [],
   "source": []
  },
  {
   "cell_type": "code",
   "execution_count": 402,
   "metadata": {},
   "outputs": [
    {
     "data": {
      "text/plain": [
       "0"
      ]
     },
     "execution_count": 402,
     "metadata": {},
     "output_type": "execute_result"
    }
   ],
   "source": [
    "dico2['fata']"
   ]
  },
  {
   "cell_type": "code",
   "execution_count": 322,
   "metadata": {},
   "outputs": [
    {
     "name": "stdout",
     "output_type": "stream",
     "text": [
      "souhaitez-vous switcher dans le group random cecile 0/1(1, si voulez, 0 sinon): 1\n",
      "souhaitez-vous switcher dans le group random mathusha 0/1(1, si voulez, 0 sinon): 1\n",
      "souhaitez-vous switcher dans le group random imane 0/1(1, si voulez, 0 sinon): 1\n",
      "souhaitez-vous switcher dans le group random tony 0/1(1, si voulez, 0 sinon): 1\n",
      "souhaitez-vous switcher dans le group random marc-henri 0/1(1, si voulez, 0 sinon): 1\n",
      "souhaitez-vous switcher dans le group random fata 0/1(1, si voulez, 0 sinon): 1\n",
      "souhaitez-vous switcher dans le group random mohamed 0/1(1, si voulez, 0 sinon): 1\n",
      "souhaitez-vous switcher dans le group random laien 0/1(1, si voulez, 0 sinon): 1\n",
      "souhaitez-vous switcher dans le group random nour 0/1(1, si voulez, 0 sinon): 1\n",
      "souhaitez-vous switcher dans le group random yassine 0/1(1, si voulez, 0 sinon): 1\n",
      "souhaitez-vous switcher dans le group random bastien 0/1(1, si voulez, 0 sinon): 1\n",
      "souhaitez-vous switcher dans le group random mohamed2 0/1(1, si voulez, 0 sinon): 1\n",
      "souhaitez-vous switcher dans le group random emmanuelle 0/1(1, si voulez, 0 sinon): 1\n",
      "souhaitez-vous switcher dans le group random louis-filipe 0/1(1, si voulez, 0 sinon): 1\n",
      "souhaitez-vous switcher dans le group random alexandre 0/1(1, si voulez, 0 sinon): 1\n",
      "souhaitez-vous switcher dans le group random gaetan 0/1(1, si voulez, 0 sinon): 1\n",
      "souhaitez-vous switcher dans le group random jozef 0/1(1, si voulez, 0 sinon): 1\n",
      "{'cecile': '1', 'mathusha': '1', 'imane': '1', 'tony': '1', 'marc-henri': '1', 'fata': '1', 'mohamed': '1', 'laien': '1', 'nour': '1', 'yassine': '1', 'bastien': '1', 'mohamed2': '1', 'emmanuelle': '1', 'louis-filipe': '1', 'alexandre': '1', 'gaetan': '1', 'jozef': '1'}\n"
     ]
    }
   ],
   "source": [
    "from random import sample\n",
    "\n",
    "dico={\"cecile\":1,'mathusha':1,'imane':1,'tony':1,'marc-henri':1,'fata':1,'mohamed':1,'laien':0,'nour':0,'yassine':0,'bastien':0,'mohamed2':0,'emmanuelle':0,'louis-filipe':0,'alexandre':0,'gaetan':0,'jozef':0}\n",
    "for i in dico:\n",
    "    verif=True\n",
    "    while verif:\n",
    "        tmp=input(f'souhaitez-vous switcher dans le group random {i} 0/1(1, si voulez, 0 sinon): ')\n",
    "        if tmp =='0' or tmp=='1': \n",
    "            dico[i]=tmp\n",
    "            verif=False\n",
    "liste=[k for k in dico if dico[k]==1]\n",
    "def tirage(liste):\n",
    "    liste_couple=[]\n",
    "    while len(liste)>3:\n",
    "        tmp=(sample(liste,2))\n",
    "        print(tmp)\n",
    "        liste.remove(tmp[0])\n",
    "        liste.remove(tmp[1])\n",
    "    print (liste)\n",
    "       \n",
    "        \n",
    "print(dico)\n"
   ]
  },
  {
   "cell_type": "code",
   "execution_count": 328,
   "metadata": {},
   "outputs": [],
   "source": [
    "liste=[k for k in dico if dico[k]=='1']"
   ]
  },
  {
   "cell_type": "code",
   "execution_count": 329,
   "metadata": {},
   "outputs": [
    {
     "data": {
      "text/plain": [
       "['cecile',\n",
       " 'mathusha',\n",
       " 'imane',\n",
       " 'tony',\n",
       " 'marc-henri',\n",
       " 'fata',\n",
       " 'mohamed',\n",
       " 'laien',\n",
       " 'nour',\n",
       " 'yassine',\n",
       " 'bastien',\n",
       " 'mohamed2',\n",
       " 'emmanuelle',\n",
       " 'louis-filipe',\n",
       " 'alexandre',\n",
       " 'gaetan',\n",
       " 'jozef']"
      ]
     },
     "execution_count": 329,
     "metadata": {},
     "output_type": "execute_result"
    }
   ],
   "source": [
    "liste"
   ]
  },
  {
   "cell_type": "code",
   "execution_count": null,
   "metadata": {},
   "outputs": [],
   "source": [
    "dico={\"cecile\":1,'mathusha':1,'imane':1,'tony':1,'marc-henri':1,'fata':1,'mohamed':1,'laien':0,'nour':0,'yassine':0,'bastien':0,'mohamed2':0,'emmanuelle':0,'louis-filipe':0,'alexandre':0,'gaetan':0,'jozef':0}"
   ]
  }
 ],
 "metadata": {
  "kernelspec": {
   "display_name": "Python 3",
   "language": "python",
   "name": "python3"
  },
  "language_info": {
   "codemirror_mode": {
    "name": "ipython",
    "version": 3
   },
   "file_extension": ".py",
   "mimetype": "text/x-python",
   "name": "python",
   "nbconvert_exporter": "python",
   "pygments_lexer": "ipython3",
   "version": "3.6.9"
  }
 },
 "nbformat": 4,
 "nbformat_minor": 2
}
