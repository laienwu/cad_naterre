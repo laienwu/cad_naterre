{
 "cells": [
  {
   "cell_type": "markdown",
   "metadata": {},
   "source": [
    "## Exos POO"
   ]
  },
  {
   "cell_type": "markdown",
   "metadata": {},
   "source": [
    "## Ex1:\n",
    "\n",
    "Écrire un programme qui permet de définir une classe Voiture et ensuite instancier des objets reproduisant le comportement de voitures automobiles. \n",
    "\n",
    "Le constructeur de cette classe initialisera les attributs d’instance avec les valeurs par défaut suivants :\n",
    "\n",
    "marque = 'Ford', couleur = 'rouge', pilote = 'personne', vitesse = 0.\n",
    "\n",
    "Définir les méthodes suivantes comme suit :\n",
    "\n",
    "    * choix_conducteur(nom) permettra de désigner (ou changer) le nom du conducteur.\n",
    "    * accelerer(taux, duree) permettra de faire varier la vitesse de la voiture. \n",
    "    La variation de vitesse obtenue sera égale au produit : taux × duree. \n",
    "    Par exemple, si la voiture accélère au taux de 1,3 m/s pendant 20 secondes, son gain de vitesse doit être égal à 26 m/s. Des taux négatifs seront acceptés (ce qui permettra de décélérer). La variation de vitesse ne sera pas autorisée si le conducteur est ’personne’.\n",
    "    \n",
    "    * affiche_tout() permettra de faire apparaître les propriétés présentes de la voiture, c’est-à-dire sa marque, sa couleur, le nom de son conducteur, sa vitesse.\n"
   ]
  },
  {
   "cell_type": "code",
   "execution_count": 95,
   "metadata": {},
   "outputs": [],
   "source": [
    "class Voiture(object):\n",
    "    \n",
    "    def __init__(self,marque='Ford',couleur='rouge'):\n",
    "        self.marque=marque\n",
    "        self.couleur=couleur\n",
    "        #self.taux=taux\n",
    "        #self.duree=duree\n",
    "        self.vitesse=0\n",
    "        self.conducteur='personne'\n",
    "\n",
    "        #try:\n",
    "            #if marque:\n",
    "                #self.marque=marque\n",
    "            #else:\n",
    "                #raise TypeError('missing positionnal value')\n",
    "        #except TypeError as e:\n",
    "                #print('La voiture n\\'a pas de conducteur!')\n",
    "        #try:\n",
    "            #if couleur:\n",
    "                #self.couleur=couleur\n",
    "            #else:\n",
    "                #raise TypeError('missing positionnal value')\n",
    "        #except TypeError as e:\n",
    "                #print('La voiture est transparente!')\n",
    "    \n",
    "    def choix_conducteur(self, conducteur):\n",
    "        self.conducteur=conducteur\n",
    "    \n",
    "    def accelerer(self,taux,duree):\n",
    "        #self.taux=taux or self.taux\n",
    "        #self.duree=duree or self.duree\n",
    "        if self.conducteur=='personne':\n",
    "            print('La voiture n\\'a pas de conducteur!')\n",
    "            self.vitesse=0\n",
    "        else:\n",
    "            self.vitesse=taux*duree\n",
    "    \n",
    "    def affiche_tout(self):\n",
    "        #self.marque=args[marque] or self.marque\n",
    "        #self.conducteur=args[conducteur] or self.conducteur\n",
    "        #self.couleur=args[couleur] or self.couleur\n",
    "        #self.taux=kwargs[taux]or self.taux\n",
    "        #self.duree=kwargs[duree] or self.taux\n",
    "        return(f'{self.marque} {self.couleur} pilotée par {self.conducteur}, vitesse= {self.vitesse}m/s')"
   ]
  },
  {
   "cell_type": "code",
   "execution_count": 82,
   "metadata": {},
   "outputs": [
    {
     "data": {
      "text/plain": [
       "'Ford'"
      ]
     },
     "execution_count": 82,
     "metadata": {},
     "output_type": "execute_result"
    }
   ],
   "source": [
    "a2=Voiture(couleur='verte')\n",
    "a2.marque"
   ]
  },
  {
   "cell_type": "code",
   "execution_count": 96,
   "metadata": {},
   "outputs": [
    {
     "name": "stdout",
     "output_type": "stream",
     "text": [
      "La voiture n'a pas de conducteur!\n",
      "Ford verte pilotée par Juliette, vitesse= 21.6m/s\n",
      "Mercedes rouge pilotée par personne, vitesse= 0m/s\n"
     ]
    }
   ],
   "source": [
    "a1 = Voiture('Peugeot','bleue')\n",
    "a2 = Voiture(couleur = 'verte')\n",
    "a3 = Voiture('Mercedes')\n",
    "a1.choix_conducteur('Roméo')\n",
    "a2.choix_conducteur('Juliette')\n",
    "a2.accelerer(1.8, 12)\n",
    "a3.accelerer(1.9, 11)\n",
    "print(a2.affiche_tout())\n",
    "print(a3.affiche_tout())"
   ]
  },
  {
   "cell_type": "raw",
   "metadata": {},
   "source": [
    "### Exemple d'exécution:\n",
    "\n",
    ">>> a1 = Voiture(‘Peugeot’, ‘bleue’)\n",
    ">>> a2 = Voiture(couleur = ‘verte’)\n",
    ">>> a3 = Voiture(‘Mercedes’)\n",
    ">>> a1.choix_conducteur(‘Roméo’)\n",
    ">>> a2.choix_conducteur(‘Juliette’)\n",
    ">>> a2.accelerer(1.8, 12)\n",
    ">>> a3.accelerer(1.9, 11)\n",
    "Cette voiture n’a pas de conducteur !\n",
    ">>> a2.affiche_tout()\n",
    "Ford verte pilotée par Juliette, vitesse = 21.6 m/s.\n",
    ">>> a3.affiche_tout()\n",
    "Mercedes rouge pilotée par personne, vitesse = 0 m/s."
   ]
  },
  {
   "cell_type": "markdown",
   "metadata": {},
   "source": [
    "## Ex2:\n",
    "\n",
    "    * Définir une classe Point caractérisée par son abscisse et son ordonné avec constructeur avec coordonnées (1, 1) par défaut.\n",
    "    \n",
    "    * Définir à l’aide des getters et les setters les méthodes d’accès aux attributs de la classe.\n",
    "    \n",
    "    * Définir la méthode Distance ( P1 ) qui retourne la distance entre le point P1 et le point en cours.\n",
    "    \n",
    "    * Écrire un programme permettant d’instancier deux objets  P1 et P2 et de tester la classe.\n",
    "\n",
    "\n",
    "Exemple d’exécution:\n",
    "\n",
    "    >>> La distance entre le point P1( 1.00 , 1.00 ) et le point P2( 3.50 , -2.00 ) est: 3.91"
   ]
  },
  {
   "cell_type": "code",
   "execution_count": 3,
   "metadata": {},
   "outputs": [],
   "source": [
    "import math\n",
    "\n",
    "class Point():\n",
    "    def __init__(self, abscisse=1, ordonne=1):\n",
    "        self.__abscisse = abscisse\n",
    "        self.__ordonne = ordonne\n",
    "\n",
    "    def get_coordonees(self):\n",
    "        return {'abscisse': self.__abscisse,\n",
    "                'ordonne': self.__ordonne\n",
    "               }\n",
    "    def set_coordonnes(self,abscisse,ordonne):\n",
    "        self.__abscisse=abscisse\n",
    "        self.__ordonne=ordonne\n",
    "\n",
    "    def distance(self, p):\n",
    "        return math.sqrt((self.__abscisse - p.__abscisse)**2 + (self.__ordonne-p.__ordonne)**2) "
   ]
  },
  {
   "cell_type": "code",
   "execution_count": 4,
   "metadata": {},
   "outputs": [],
   "source": [
    "p1=Point()\n",
    "p2=Point()\n",
    "p1.get_coordonees()\n",
    "p2.set_coordonnes(3.50,2.00)\n"
   ]
  },
  {
   "cell_type": "code",
   "execution_count": 5,
   "metadata": {},
   "outputs": [
    {
     "name": "stdout",
     "output_type": "stream",
     "text": [
      "2.692582403567252\n"
     ]
    }
   ],
   "source": [
    "p=Point(3.50,-1)\n",
    "\n",
    "print(p1.distance(p2))"
   ]
  },
  {
   "cell_type": "code",
   "execution_count": 6,
   "metadata": {},
   "outputs": [
    {
     "data": {
      "text/plain": [
       "1"
      ]
     },
     "execution_count": 6,
     "metadata": {},
     "output_type": "execute_result"
    }
   ],
   "source": [
    "p1._Point__abscisse"
   ]
  },
  {
   "cell_type": "code",
   "execution_count": 6,
   "metadata": {},
   "outputs": [
    {
     "ename": "NameError",
     "evalue": "name 'abscisse' is not defined",
     "output_type": "error",
     "traceback": [
      "\u001b[0;31m---------------------------------------------------------------------------\u001b[0m",
      "\u001b[0;31mNameError\u001b[0m                                 Traceback (most recent call last)",
      "\u001b[0;32m<ipython-input-6-81639ddbef20>\u001b[0m in \u001b[0;36m<module>\u001b[0;34m\u001b[0m\n\u001b[1;32m      1\u001b[0m \u001b[0;32mfrom\u001b[0m \u001b[0mmath\u001b[0m \u001b[0;32mimport\u001b[0m \u001b[0msqrt\u001b[0m\u001b[0;34m\u001b[0m\u001b[0;34m\u001b[0m\u001b[0m\n\u001b[1;32m      2\u001b[0m \u001b[0;34m\u001b[0m\u001b[0m\n\u001b[0;32m----> 3\u001b[0;31m \u001b[0;32mclass\u001b[0m \u001b[0mPoint\u001b[0m\u001b[0;34m(\u001b[0m\u001b[0;34m)\u001b[0m\u001b[0;34m:\u001b[0m\u001b[0;34m\u001b[0m\u001b[0;34m\u001b[0m\u001b[0m\n\u001b[0m\u001b[1;32m      4\u001b[0m     \u001b[0;32mdef\u001b[0m \u001b[0m__init__\u001b[0m\u001b[0;34m(\u001b[0m\u001b[0mself\u001b[0m\u001b[0;34m,\u001b[0m \u001b[0mabscisse\u001b[0m\u001b[0;34m=\u001b[0m\u001b[0;36m1\u001b[0m\u001b[0;34m,\u001b[0m \u001b[0mordonnee\u001b[0m\u001b[0;34m=\u001b[0m\u001b[0;36m1\u001b[0m\u001b[0;34m)\u001b[0m\u001b[0;34m:\u001b[0m\u001b[0;34m\u001b[0m\u001b[0;34m\u001b[0m\u001b[0m\n\u001b[1;32m      5\u001b[0m         \u001b[0mself\u001b[0m\u001b[0;34m.\u001b[0m\u001b[0m__abscisse\u001b[0m \u001b[0;34m=\u001b[0m \u001b[0mabscisse\u001b[0m\u001b[0;34m\u001b[0m\u001b[0;34m\u001b[0m\u001b[0m\n",
      "\u001b[0;32m<ipython-input-6-81639ddbef20>\u001b[0m in \u001b[0;36mPoint\u001b[0;34m()\u001b[0m\n\u001b[1;32m     10\u001b[0m         \u001b[0;32mreturn\u001b[0m \u001b[0mself\u001b[0m\u001b[0;34m.\u001b[0m\u001b[0mabscisse\u001b[0m\u001b[0;34m\u001b[0m\u001b[0;34m\u001b[0m\u001b[0m\n\u001b[1;32m     11\u001b[0m \u001b[0;34m\u001b[0m\u001b[0m\n\u001b[0;32m---> 12\u001b[0;31m     \u001b[0;34m@\u001b[0m\u001b[0mabscisse\u001b[0m\u001b[0;34m.\u001b[0m\u001b[0msetter\u001b[0m\u001b[0;34m\u001b[0m\u001b[0;34m\u001b[0m\u001b[0m\n\u001b[0m\u001b[1;32m     13\u001b[0m     \u001b[0;32mdef\u001b[0m \u001b[0mset_abscisse\u001b[0m\u001b[0;34m(\u001b[0m\u001b[0mself\u001b[0m\u001b[0;34m,\u001b[0m \u001b[0mx\u001b[0m\u001b[0;34m)\u001b[0m\u001b[0;34m:\u001b[0m\u001b[0;34m\u001b[0m\u001b[0;34m\u001b[0m\u001b[0m\n\u001b[1;32m     14\u001b[0m         \u001b[0mself\u001b[0m\u001b[0;34m.\u001b[0m\u001b[0mabscisse\u001b[0m \u001b[0;34m=\u001b[0m \u001b[0mx\u001b[0m\u001b[0;34m\u001b[0m\u001b[0;34m\u001b[0m\u001b[0m\n",
      "\u001b[0;31mNameError\u001b[0m: name 'abscisse' is not defined"
     ]
    }
   ],
   "source": [
    "from math import sqrt\n",
    "\n",
    "class Point():\n",
    "    def __init__(self, abscisse=1, ordonnee=1):\n",
    "        self.__abscisse = abscisse\n",
    "        self.__ordonnee = ordonnee\n",
    "\n",
    "    @property\n",
    "    def get_abscisse(self):\n",
    "        return self.abscisse\n",
    "\n",
    "    @abscisse.setter\n",
    "    def set_abscisse(self, x):\n",
    "        self.abscisse = x\n",
    "\n",
    "    @property\n",
    "    def ordonnee(self):\n",
    "        return self.ordonnee\n",
    "\n",
    "    @ordonnee.setter\n",
    "    def set_ordonnee(self,y):\n",
    "        self.ordonnee = y\n",
    "\n",
    "    def distance(self, p):\n",
    "        return sqrt((p.get_abscisse - self.get_abscisse)**2 + (p.get_ordonnee - self.get_ordonnee)**2)\n",
    "\n",
    "\n",
    "\n",
    "p1 = Point(1,1)\n",
    "# print(p1.coord_ord)\n",
    "\n",
    "# p1.set_coord_ord = 5\n",
    "# print(p1.coord_ord, p1.coord_abs)\n",
    "\n",
    "p2 = Point(3.50, -2.00)\n",
    "print(p2.distance(p1))"
   ]
  }
 ],
 "metadata": {
  "kernelspec": {
   "display_name": "Python 3",
   "language": "python",
   "name": "python3"
  },
  "language_info": {
   "codemirror_mode": {
    "name": "ipython",
    "version": 3
   },
   "file_extension": ".py",
   "mimetype": "text/x-python",
   "name": "python",
   "nbconvert_exporter": "python",
   "pygments_lexer": "ipython3",
   "version": "3.6.9"
  }
 },
 "nbformat": 4,
 "nbformat_minor": 2
}
