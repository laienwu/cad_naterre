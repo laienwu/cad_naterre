{
 "cells": [
  {
   "cell_type": "markdown",
   "metadata": {},
   "source": [
    "# Encore Les Bases Python"
   ]
  },
  {
   "cell_type": "code",
   "execution_count": 1,
   "metadata": {},
   "outputs": [],
   "source": [
    "import pandas as pd"
   ]
  },
  {
   "cell_type": "markdown",
   "metadata": {},
   "source": [
    "## Les fonctions\n",
    "\n",
    "Une fonction qu'elle soit mathématique ou informatique est tout simplement une machine qui convertie une entrée en une sortie. Quel interet d'apres vous??\n"
   ]
  },
  {
   "cell_type": "code",
   "execution_count": null,
   "metadata": {},
   "outputs": [],
   "source": [
    "# permet de reutiliser un morceau de code "
   ]
  },
  {
   "cell_type": "markdown",
   "metadata": {},
   "source": [
    "* Analyser le code de cette fonction:"
   ]
  },
  {
   "cell_type": "code",
   "execution_count": 1,
   "metadata": {},
   "outputs": [
    {
     "name": "stdout",
     "output_type": "stream",
     "text": [
      "Autorisé\n"
     ]
    }
   ],
   "source": [
    "# on définit une fonction qui retourne 'autorisé ou 'Non Autorisé'\n",
    "\n",
    "def controle(x):\n",
    "    # Faire attention aux indentations pour indenifier la zone du code de la fonction\n",
    "    if x < 120:\n",
    "        print(\"La taille minimale pour l'attraction est de 150cm !\") \n",
    "        return \"Non Autorisé\"\n",
    "    elif x > 210:\n",
    "        #print(\"Vous êtes trop grand, vous ne pouvez pas entrer !\")\n",
    "        return \"Non Autorisé\"\n",
    "    else:\n",
    "        return \"Autorisé\"\n",
    "    \n",
    "print(controle(170)) \n"
   ]
  },
  {
   "cell_type": "markdown",
   "metadata": {},
   "source": [
    "* Coder une fonction duplicate_last_item qui prend une liste en argument et qui lui rajoute le dernier élément. \n",
    "\n",
    "par exemple si l = [1, 2, 3] après application de la fonction l doit être égale à [1, 2, 3, 3]"
   ]
  },
  {
   "cell_type": "code",
   "execution_count": null,
   "metadata": {},
   "outputs": [],
   "source": []
  },
  {
   "cell_type": "code",
   "execution_count": 2,
   "metadata": {},
   "outputs": [
    {
     "name": "stdout",
     "output_type": "stream",
     "text": [
      "[1, 2, 3, 3]\n"
     ]
    }
   ],
   "source": [
    "def duplicate_last_item(l:list):\n",
    "    l.append(l[-1])\n",
    "    return l\n",
    "    \n",
    "l = [1, 2, 3]\n",
    "print(duplicate_last_item(l))"
   ]
  },
  {
   "cell_type": "markdown",
   "metadata": {},
   "source": [
    "* Coder une fonction multiply_liste qui prend en argument une liste et retourne une liste dont tous les éléments sont multipliés par un coefficient 𝛼. "
   ]
  },
  {
   "cell_type": "code",
   "execution_count": 3,
   "metadata": {},
   "outputs": [
    {
     "name": "stdout",
     "output_type": "stream",
     "text": [
      "[2, 4, 6]\n"
     ]
    }
   ],
   "source": [
    "def multiply_list(l, alpha):\n",
    "   return [i*alpha for i in l]\n",
    "    \n",
    "l = [1, 2, 3]\n",
    "alpha = 2\n",
    "print(multiply_list(l, alpha))"
   ]
  },
  {
   "cell_type": "markdown",
   "metadata": {},
   "source": [
    "Exécuter ce code, Que fait il?"
   ]
  },
  {
   "cell_type": "code",
   "execution_count": 5,
   "metadata": {},
   "outputs": [
    {
     "name": "stdout",
     "output_type": "stream",
     "text": [
      "<zip object at 0x7fd2d0163b48>\n",
      "[('a', 1), ('b', 2), ('c', 3)]\n"
     ]
    }
   ],
   "source": [
    "l1 = ['a', 'b', 'c','d']\n",
    "l2 = [1, 2, 3]\n",
    "\n",
    "print(zip(l1, l2))\n",
    "print(list(zip(l1, l2)))"
   ]
  },
  {
   "cell_type": "markdown",
   "metadata": {},
   "source": [
    "* Coder une fonction add_lists qui prend en argument deux listes l1 et l2 et qui retourne une liste r avec r[i] = l1[i] + l2[i]. \n",
    "\n",
    "Vous pouvez utiliser la fonction zip\n"
   ]
  },
  {
   "cell_type": "code",
   "execution_count": 13,
   "metadata": {},
   "outputs": [],
   "source": [
    "l2 = [3, 5, 6]\n",
    "l1 = [\"a\",\"b\",\"c\"]"
   ]
  },
  {
   "cell_type": "code",
   "execution_count": 14,
   "metadata": {},
   "outputs": [
    {
     "data": {
      "text/plain": [
       "[(3, 'a'), (5, 'b'), (6, 'c')]"
      ]
     },
     "execution_count": 14,
     "metadata": {},
     "output_type": "execute_result"
    }
   ],
   "source": [
    "def add_liste(l1,l2):\n",
    "    return list(zip(l1,l2))\n",
    "add_liste(l2,l1)"
   ]
  },
  {
   "cell_type": "code",
   "execution_count": 10,
   "metadata": {},
   "outputs": [
    {
     "name": "stdout",
     "output_type": "stream",
     "text": [
      "['a3', 'b5', 'c6']\n"
     ]
    }
   ],
   "source": [
    "def add_lists(l1,l2):\n",
    "    return[i+j for i,j in zip(l1,l2)]\n",
    "l2 = [\"3\", \"5\", \"6\"]\n",
    "l1 = [\"a\",\"b\",\"c\"]\n",
    "print(add_lists(l1,l2))"
   ]
  },
  {
   "cell_type": "markdown",
   "metadata": {},
   "source": [
    "* Coder une fonction filter_even_values qui filtre toutes les valeurs paire d'une liste"
   ]
  },
  {
   "cell_type": "code",
   "execution_count": 15,
   "metadata": {},
   "outputs": [
    {
     "data": {
      "text/plain": [
       "[2, 4, 6]"
      ]
     },
     "execution_count": 15,
     "metadata": {},
     "output_type": "execute_result"
    }
   ],
   "source": [
    "def filter_even_values(l):\n",
    "    return[i for i in l if i%2==0]\n",
    "l = [1, 2, 3, 4, 5, 6]\n",
    "filter_even_values(l)"
   ]
  },
  {
   "cell_type": "code",
   "execution_count": 21,
   "metadata": {},
   "outputs": [
    {
     "name": "stdout",
     "output_type": "stream",
     "text": [
      "[2, 4, 6]\n"
     ]
    }
   ],
   "source": [
    "def filtre(l):\n",
    "   return list(filter(lambda x:x%2==0,l))\n",
    "print(filtre (l))"
   ]
  },
  {
   "cell_type": "markdown",
   "metadata": {},
   "source": [
    "* Coder la fonction is_adult qui affiche \"mineur\" si le nombre en entré est inférieur à 18, \"adulte\" si supérieur ou égale à 18 et inférieur à 65 et \"senior\" sinon"
   ]
  },
  {
   "cell_type": "code",
   "execution_count": 9,
   "metadata": {},
   "outputs": [
    {
     "name": "stdout",
     "output_type": "stream",
     "text": [
      "senior\n"
     ]
    }
   ],
   "source": [
    "def is_adult(age:int):\n",
    "    if age<18:\n",
    "        print('mineur')\n",
    "    elif age>=65:\n",
    "        print('senior')\n",
    "    else:\n",
    "        print('adulte')\n",
    "is_adult(90\n",
    "        )"
   ]
  },
  {
   "cell_type": "code",
   "execution_count": 26,
   "metadata": {},
   "outputs": [
    {
     "name": "stdout",
     "output_type": "stream",
     "text": [
      "adulte\n"
     ]
    }
   ],
   "source": [
    "def is_adulte(age):\n",
    "    return \"mineur\" if age<18 else \"senior\" if age>=65 else \"adulte\"\n",
    "print(is_adulte(60))"
   ]
  },
  {
   "cell_type": "code",
   "execution_count": 31,
   "metadata": {},
   "outputs": [
    {
     "name": "stdout",
     "output_type": "stream",
     "text": [
      "Current year: 2020\n",
      "liste de: 5 elements\n",
      "Liste de depart: [1993, 1929, 1961, 2007, 1996]\n",
      "Adulte, née en: 1993 Son âge est: 27 ans\n",
      "Senior, née en: 1929 Son âge est: 91 ans\n",
      "Adulte, née en: 1961 Son âge est: 59 ans\n",
      "Mineur, née en: 2007 Son âge est: 13 ans\n",
      "Adulte, née en: 1996 Son âge est: 24 ans\n"
     ]
    }
   ],
   "source": [
    "import random, datetime     \n",
    "#J'obtiens lannee courant... \n",
    "c_year = int(datetime.datetime.now().year) \n",
    "print(\"Current year:\",c_year)\n",
    "#J'ai crée une liste de N elements 2<N<10... \n",
    "annees = list()\n",
    "numbers = random.randrange(2,10) \n",
    "print(\"liste de:\",numbers,\"elements\") \n",
    "#Je remplis la liste avec des annees aleatoires... \n",
    "for element in range(numbers):   \n",
    "    annees.append(random.randrange(1900,2020)) \n",
    "print(\"Liste de depart:\",annees)  \n",
    "#Fonction qui determine si un personne est Mineur, Adulte ou Senior... \n",
    "def is_adult(c_year, annees):      \n",
    "    for element in range(numbers):     \n",
    "        age = abs((annees[element]-c_year))     \n",
    "        if age < 18 :       \n",
    "            print(\"Mineur, née en:\",annees[element],\"Son âge est:\",age,\"ans\")     \n",
    "        elif age>= 65:\n",
    "            print(\"Senior, née en:\",annees[element],\"Son âge est:\",age,\"ans\")  \n",
    "        else :       \n",
    "            print(\"Adulte, née en:\",annees[element],\"Son âge est:\",age,\"ans\")     \n",
    "            is_adult(c_year, annees)"
   ]
  },
  {
   "cell_type": "markdown",
   "metadata": {},
   "source": [
    "* Faire une fonction qui prend un nombre en argument et qui retoure sa racine carrée (usuellement notée sqrt pour \"square root\"). Pour cela on pourra aller rechercher comment importer un module (une librairie) en python et import la librairie que vous jugez utile ! "
   ]
  },
  {
   "cell_type": "code",
   "execution_count": 37,
   "metadata": {},
   "outputs": [
    {
     "name": "stdout",
     "output_type": "stream",
     "text": [
      "entrez un nombre: 3434\n",
      "la racine carré de votre nombre est: 58.60034129593445\n"
     ]
    }
   ],
   "source": [
    "from math import sqrt\n",
    "tmp=int(input(\"entrez un nombre: \"))\n",
    "print(\"la racine carré de votre nombre est:\",sqrt(tmp))"
   ]
  },
  {
   "cell_type": "code",
   "execution_count": 40,
   "metadata": {},
   "outputs": [
    {
     "data": {
      "text/plain": [
       "153.11760186209813"
      ]
     },
     "execution_count": 40,
     "metadata": {},
     "output_type": "execute_result"
    }
   ],
   "source": [
    "def racine_carre(x):\n",
    "    return sqrt(x)\n",
    "racine_carre(23445)"
   ]
  },
  {
   "cell_type": "markdown",
   "metadata": {},
   "source": [
    "* coder la fonction average qui prend en argument une liste de nombre et qui retourne la moyenne de celle-ci. On utilisera une boucle for obligatoirement"
   ]
  },
  {
   "cell_type": "code",
   "execution_count": 43,
   "metadata": {},
   "outputs": [
    {
     "data": {
      "text/plain": [
       "3.5"
      ]
     },
     "execution_count": 43,
     "metadata": {},
     "output_type": "execute_result"
    }
   ],
   "source": [
    "def average(l):\n",
    "    tmp=0\n",
    "    for i in l:\n",
    "        tmp+=i\n",
    "    return tmp/len(l)\n",
    "average([1, 2, 3, 4, 5, 6])"
   ]
  },
  {
   "cell_type": "code",
   "execution_count": null,
   "metadata": {},
   "outputs": [],
   "source": [
    "def average2(l):\n",
    "    tmp=0\n",
    "    for i in range(len(l)):\n",
    "        tmp+=l[i]\n",
    "    return tmp/len(l)\n",
    "average2([1, 2, 3, 4, 5, 6])"
   ]
  },
  {
   "cell_type": "code",
   "execution_count": 41,
   "metadata": {},
   "outputs": [
    {
     "data": {
      "text/plain": [
       "3.5"
      ]
     },
     "execution_count": 41,
     "metadata": {},
     "output_type": "execute_result"
    }
   ],
   "source": [
    "ll=[1, 2, 3, 4, 5, 6]\n",
    "sum(ll)/len(ll)"
   ]
  },
  {
   "cell_type": "markdown",
   "metadata": {},
   "source": [
    "* Faire une fonction reverse_string qui prend en argument une chaîne de caractère et qui retourne la chaîne retournée."
   ]
  },
  {
   "cell_type": "code",
   "execution_count": 16,
   "metadata": {},
   "outputs": [
    {
     "data": {
      "text/plain": [
       "'sszzaezaeaeaeae'"
      ]
     },
     "execution_count": 16,
     "metadata": {},
     "output_type": "execute_result"
    }
   ],
   "source": [
    "def reverse_string(s):\n",
    "    return s[::-1]\n",
    "reverse_string(\"eaeaeaeazeazzss\")"
   ]
  },
  {
   "cell_type": "code",
   "execution_count": 44,
   "metadata": {},
   "outputs": [
    {
     "data": {
      "text/plain": [
       "'sszzaezaeaeaeae'"
      ]
     },
     "execution_count": 44,
     "metadata": {},
     "output_type": "execute_result"
    }
   ],
   "source": [
    "def reverser(x):\n",
    "    return \"\".join(reversed(x))\n",
    "reverser(\"eaeaeaeazeazzss\")"
   ]
  },
  {
   "cell_type": "code",
   "execution_count": 46,
   "metadata": {},
   "outputs": [
    {
     "name": "stdout",
     "output_type": "stream",
     "text": [
      "Entrez une chaîne de caractères:SDQDQDQSDQD\n"
     ]
    },
    {
     "data": {
      "text/plain": [
       "'DQDSQDQDQDS'"
      ]
     },
     "execution_count": 46,
     "metadata": {},
     "output_type": "execute_result"
    }
   ],
   "source": [
    "l = str(input(\"Entrez une chaîne de caractères:\"))\n",
    "def inverschaine(l): \n",
    "    l2 = l[::-1]\n",
    "    return l2  \n",
    "inverschaine (l)"
   ]
  },
  {
   "cell_type": "markdown",
   "metadata": {},
   "source": [
    "## Les_fonctions_recursives"
   ]
  },
  {
   "cell_type": "markdown",
   "metadata": {},
   "source": [
    "\n",
    "* Ecrire une fonction Python récursive positif_number() qui impose à l'utilisateur de saisir un entier positif.\n",
    "\n",
    " si l'entier saisi est négatif , on redemande à l'utilisateur un autre entier.\n"
   ]
  },
  {
   "cell_type": "code",
   "execution_count": 47,
   "metadata": {},
   "outputs": [
    {
     "name": "stdout",
     "output_type": "stream",
     "text": [
      "veuillez saisir un nombre positif: -2323\n",
      "veuillez saisir un nombre positif: -43435345\n",
      "veuillez saisir un nombre positif: 5656\n"
     ]
    }
   ],
   "source": [
    "def positif_number():\n",
    "    tmp=int(input(\"veuillez saisir un nombre positif: \"))\n",
    "    if tmp<0:\n",
    "        return positif_number()\n",
    "positif_number()"
   ]
  },
  {
   "cell_type": "markdown",
   "metadata": {},
   "source": [
    "### Bonus"
   ]
  },
  {
   "cell_type": "markdown",
   "metadata": {},
   "source": [
    "* Ecrire la fonction récursive Factorielle(n) qui retourne la factorielle d'un entier positif n passé en paramétre."
   ]
  },
  {
   "cell_type": "code",
   "execution_count": 20,
   "metadata": {},
   "outputs": [
    {
     "data": {
      "text/plain": [
       "25852016738884976640000"
      ]
     },
     "execution_count": 20,
     "metadata": {},
     "output_type": "execute_result"
    }
   ],
   "source": [
    "def factorielle(n):\n",
    "    if n<2:\n",
    "        return 1\n",
    "    return n*factorielle(n-1)\n",
    "factorielle(23)"
   ]
  }
 ],
 "metadata": {
  "kernelspec": {
   "display_name": "Python 3",
   "language": "python",
   "name": "python3"
  },
  "language_info": {
   "codemirror_mode": {
    "name": "ipython",
    "version": 3
   },
   "file_extension": ".py",
   "mimetype": "text/x-python",
   "name": "python",
   "nbconvert_exporter": "python",
   "pygments_lexer": "ipython3",
   "version": "3.6.9"
  }
 },
 "nbformat": 4,
 "nbformat_minor": 2
}
