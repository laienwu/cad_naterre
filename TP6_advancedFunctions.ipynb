{
 "cells": [
  {
   "cell_type": "markdown",
   "metadata": {},
   "source": [
    "# Les Fonctions : advanced\n",
    "\n",
    "ressources utiles: \n",
    "\n",
    "https://docs.python.org/3.7/tutorial/controlflow.html#\n",
    "\n",
    "https://docs.python.org/3.7/glossary.html\n",
    "\n",
    "https://docs.python.org/3.7/glossary.html#term-argument\n",
    "\n"
   ]
  },
  {
   "cell_type": "markdown",
   "metadata": {},
   "source": [
    "### Definition\n",
    "\n",
    "* Quelle différence entre f() et f._doc_  ?\n",
    "\n",
    "=> Interpréter les outputs de f ci dessous:"
   ]
  },
  {
   "cell_type": "code",
   "execution_count": 1,
   "metadata": {},
   "outputs": [
    {
     "name": "stdout",
     "output_type": "stream",
     "text": [
      "Hello, World!\n",
      "F is a function returning 'Hello, World!'\n"
     ]
    }
   ],
   "source": [
    "#Definition\n",
    "def f():\n",
    "    \"\"\"F is a function returning 'Hello, World!'\"\"\"\n",
    "    return \"Hello, World!\"\n",
    "\n",
    "print(f())#print function call\n",
    "print(f.__doc__) #print the docstring\n",
    "\n"
   ]
  },
  {
   "cell_type": "markdown",
   "metadata": {},
   "source": [
    "### default arguments\n",
    "\n",
    "=>  Default values indicate that the function argument will take that value if no argument value is passed during function call.\n",
    "\n",
    "* Ajouter un argument 'name' à la fonction f, pour prendre en paramètre la chaine à afficher après Hello.\n",
    "\n",
    "par défaut sans argument spécifié à f, la fonction retourne 'Hello, World!'"
   ]
  },
  {
   "cell_type": "code",
   "execution_count": 50,
   "metadata": {},
   "outputs": [
    {
     "name": "stdout",
     "output_type": "stream",
     "text": [
      "Hello World\n",
      "Hello Python\n"
     ]
    }
   ],
   "source": [
    "## default arguments\n",
    "def f(name = \"World\"):\n",
    "    \"\"\"return 'Hello, $name'\"\"\"\n",
    "    return f'Hello {name}'\n",
    "    \n",
    "print(f()) #function with default value if no given argument\n",
    "print(f(\"Python\")) #call function with given arg"
   ]
  },
  {
   "cell_type": "markdown",
   "metadata": {},
   "source": [
    "### keyword arguments\n",
    "\n",
    "=> The values during function call are assigned to the respective arguments according to their position -> positional argument\n",
    "\n",
    "Python allows us to pass the arguments in non-positional manner using keyword arguments\n",
    "\n",
    "=> keyword argument is an argument preceded by an identifier (e.g. name=) in a function call or passed as a value in a dictionary preceded by **\n",
    "\n",
    "when you are mixing the positional and keyword arguments, the keyword argument must always be after the non-keyword argument (positional argument).\n",
    "\n",
    "\n"
   ]
  },
  {
   "cell_type": "markdown",
   "metadata": {},
   "source": [
    "* Re-définir f avec 2 arguments v et l pour afficher la trace ci dessous.\n",
    "\n",
    "indications:\n",
    "v est un positional argument et l est un keyword argument."
   ]
  },
  {
   "cell_type": "code",
   "execution_count": 52,
   "metadata": {},
   "outputs": [
    {
     "name": "stdout",
     "output_type": "stream",
     "text": [
      "Hello,World\n",
      "Bye,C/C++\n"
     ]
    }
   ],
   "source": [
    "## keyword arguments\n",
    "def f(msg='Hello',name = \"World\"):\n",
    "    \"\"\"return '$msg$, $name$'\"\"\"\n",
    "    return f'{msg},{name}'\n",
    "\n",
    "print(f(\"Hello\"))\n",
    "print(f(\"Bye\", \"C/C++\"))\n"
   ]
  },
  {
   "cell_type": "markdown",
   "metadata": {},
   "source": [
    "### Arbitrary arguments\n",
    "\n",
    "=> They are especially useful when we are not sure in the advance that how many arguments, the function would require.\n",
    "\n",
    "We define the arbitrary arguments while defining a function using the asterisk (*) sign and receives a tuple containing the positional arguments defined using the asterisk  (*) sign and contains all keyword a dictionary containing all keyword arguments\n",
    "\n",
    "RQ: * name must occur before ** name \n",
    "\n"
   ]
  },
  {
   "cell_type": "markdown",
   "metadata": {},
   "source": [
    "* Analyser le code de la fonction f ci-dessous ->  n'hésiter pas à rajouter des print!\n",
    "* quel est le type des arguments args et kargs?\n",
    "\n"
   ]
  },
  {
   "cell_type": "code",
   "execution_count": 11,
   "metadata": {},
   "outputs": [],
   "source": [
    "def cheeseshop(kind, *arguments, **keywords): \n",
    "    print(\"-- Do you have any\", kind, \"?\")\n",
    "    print(\"-- I'm sorry, we're all out of\", kind)\n",
    "    \n",
    "    for arg in arguments:\n",
    "        print(arg)\n",
    "    \n",
    "    for kw in keywords:\n",
    "        print(kw, \":\", keywords[kw])\n",
    "#We use *args and **kwargs as an argument when we are unsure about the number of arguments to pass in the functions."
   ]
  },
  {
   "cell_type": "code",
   "execution_count": 12,
   "metadata": {},
   "outputs": [
    {
     "name": "stdout",
     "output_type": "stream",
     "text": [
      "-- Do you have any Limburger ?\n",
      "-- I'm sorry, we're all out of Limburger\n",
      "It's very runny, sir.\n",
      "It's really very, VERY runny, sir.\n",
      "shopkeeper : Michael Palin\n",
      "client : John Cleese\n",
      "sketch : Cheese Shop Sketch\n"
     ]
    }
   ],
   "source": [
    "cheeseshop(\"Limburger\", \"It's very runny, sir.\", \n",
    "           \"It's really very, VERY runny, sir.\",\n",
    "           shopkeeper=\"Michael Palin\",\n",
    "           client=\"John Cleese\",\n",
    "           sketch=\"Cheese Shop Sketch\")"
   ]
  },
  {
   "cell_type": "markdown",
   "metadata": {},
   "source": [
    "* RéEcrire f pour afficher l'output ci dessous:"
   ]
  },
  {
   "cell_type": "code",
   "execution_count": 54,
   "metadata": {},
   "outputs": [
    {
     "name": "stdout",
     "output_type": "stream",
     "text": [
      "Je connais les langages:  Python & C++ & java\n",
      "Je connais les langages:  Python/C++/java\n"
     ]
    }
   ],
   "source": [
    "## arbitrary arguments\n",
    "def f(*arg, con=' & '):\n",
    "    print('Je connais les langages: ',con.join(arg))\n",
    "    \n",
    "f(\"Python\", \"C++\", \"java\")\n",
    "f(\"Python\", \"C++\", \"java\", con=\"/\")"
   ]
  },
  {
   "cell_type": "code",
   "execution_count": 57,
   "metadata": {},
   "outputs": [
    {
     "name": "stdout",
     "output_type": "stream",
     "text": [
      "Je connais les langages: Python & C++ & java\n",
      "Je connais les langages: Python/C++/java\n"
     ]
    }
   ],
   "source": [
    "## arbitrary arguments\n",
    "def f(*arg, con=' & '):\n",
    "    return f'Je connais les langages: {con.join(arg)}'\n",
    "    \n",
    "print(f(\"Python\", \"C++\", \"java\"))\n",
    "print(f(\"Python\", \"C++\", \"java\", con=\"/\"))"
   ]
  },
  {
   "cell_type": "markdown",
   "metadata": {},
   "source": [
    "### Lambda\n",
    "\n",
    "=> A function in Python is defined using def keyword. anonymous/lambda function is defined using lambda keyword.\n",
    "\n",
    "lambda  arguments : expression\n",
    "    \n",
    "Anonymous function allows multiple arguments but only one expression, the expression is evaluated based on the passed arguments and the result of the expression is returned.\n",
    "    "
   ]
  },
  {
   "cell_type": "markdown",
   "metadata": {},
   "source": [
    "* Analyser le code ci dessous:\n",
    "\n",
    "D'après vous , A quoi sert le lambda?"
   ]
  },
  {
   "cell_type": "code",
   "execution_count": 26,
   "metadata": {},
   "outputs": [
    {
     "name": "stdout",
     "output_type": "stream",
     "text": [
      "[(4, 'four'), (1, 'one'), (3, 'three'), (2, 'two')]\n",
      "[(1, 'one'), (2, 'two'), (3, 'three'), (4, 'four')]\n"
     ]
    }
   ],
   "source": [
    "pairs = [(1, 'one'), (2, 'two'), (3, 'three'), (4, 'four')]\n",
    "pairs.sort(key=lambda pair: pair[1]) #trier selon l'index 1\n",
    "print(pairs)\n",
    "pairs.sort(key=lambda pair: pair[0]) #trier selon l'index 0\n",
    "print(pairs)\n",
    "#lambda is a python anonymous function, Define a one line statement function on the fly (useful in functionnal programming)."
   ]
  },
  {
   "cell_type": "markdown",
   "metadata": {},
   "source": [
    "* Ecrire une fonction lambda qui retourne le carré d'un nombre donné"
   ]
  },
  {
   "cell_type": "code",
   "execution_count": 29,
   "metadata": {},
   "outputs": [
    {
     "name": "stdout",
     "output_type": "stream",
     "text": [
      "16\n"
     ]
    }
   ],
   "source": [
    "f= lambda x: x**2\n",
    "\n",
    "print(f(4))\n",
    "\n",
    "# Output: Square of number 4 is:  16"
   ]
  },
  {
   "cell_type": "markdown",
   "metadata": {},
   "source": [
    "### @decorator"
   ]
  },
  {
   "cell_type": "markdown",
   "metadata": {},
   "source": [
    "* Analyser le code ci dessous:java\n",
    "\n",
    "\n",
    "D'après vous , A quoi sert le decorator? appel d'une fonction à l'intérieur d'une autre"
   ]
  },
  {
   "cell_type": "code",
   "execution_count": 40,
   "metadata": {},
   "outputs": [
    {
     "name": "stdout",
     "output_type": "stream",
     "text": [
      "Hey log~\n",
      "This is fa!\n",
      "Bye log~\n",
      "**********\n",
      "Hey log~\n",
      "This is fb!\n",
      "Bye log~\n"
     ]
    }
   ],
   "source": [
    "def log(f):\n",
    "    def wrapper():\n",
    "        print(\"Hey log~\")\n",
    "        f()\n",
    "        print(\"Bye log~\")\n",
    "    return wrapper\n",
    "\n",
    "@log #Python’s decorators allow you to extend and modify the behavior of a callable, in our case functions.\n",
    "def fa():\n",
    "    print(\"This is fa!\")\n",
    "\n",
    "# the same as...\n",
    "def fb():\n",
    "    print(\"This is fb!\")\n",
    "fb = log(fb)\n",
    "\n",
    "fa()\n",
    "print(\"*\"*10)\n",
    "fb()"
   ]
  },
  {
   "cell_type": "code",
   "execution_count": null,
   "metadata": {},
   "outputs": [],
   "source": []
  }
 ],
 "metadata": {
  "kernelspec": {
   "display_name": "Python 3",
   "language": "python",
   "name": "python3"
  },
  "language_info": {
   "codemirror_mode": {
    "name": "ipython",
    "version": 3
   },
   "file_extension": ".py",
   "mimetype": "text/x-python",
   "name": "python",
   "nbconvert_exporter": "python",
   "pygments_lexer": "ipython3",
   "version": "3.6.9"
  }
 },
 "nbformat": 4,
 "nbformat_minor": 2
}
