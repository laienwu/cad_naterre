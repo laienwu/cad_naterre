{
 "cells": [
  {
   "cell_type": "code",
   "execution_count": 2,
   "metadata": {},
   "outputs": [],
   "source": [
    "from pymongo import MongoClient\n",
    "from pprint import pprint"
   ]
  },
  {
   "cell_type": "code",
   "execution_count": 3,
   "metadata": {},
   "outputs": [],
   "source": [
    "client = MongoClient('mongodb://localhost:27017/')\n",
    "db = client.gym\n",
    "collection = db[\"Sportifs\"]"
   ]
  },
  {
   "cell_type": "code",
   "execution_count": null,
   "metadata": {},
   "outputs": [],
   "source": [
    "db.list_collection_names()"
   ]
  },
  {
   "cell_type": "code",
   "execution_count": null,
   "metadata": {},
   "outputs": [],
   "source": [
    "pprint(collection.find_one({\"Nom\":\"KERVADEC\"}))"
   ]
  },
  {
   "cell_type": "code",
   "execution_count": null,
   "metadata": {},
   "outputs": [],
   "source": [
    "for post in collection.find():\n",
    "    pprint(post)"
   ]
  },
  {
   "cell_type": "code",
   "execution_count": null,
   "metadata": {},
   "outputs": [],
   "source": [
    "for i in collection.find({\"$or\":[{\"Age\":32},{\"Age\":40}]}):\n",
    "    pprint(i)"
   ]
  },
  {
   "cell_type": "code",
   "execution_count": null,
   "metadata": {},
   "outputs": [],
   "source": [
    "for i in db.Sportifs.find({ \"Sports.Jouer\" : \"Basket ball\" },{\"_id\":0, \"Nom\": 1}):\n",
    "    pprint(i)"
   ]
  },
  {
   "cell_type": "code",
   "execution_count": null,
   "metadata": {},
   "outputs": [],
   "source": [
    "db.Sportifs.count({\"Sexe\":\"F\"})"
   ]
  },
  {
   "cell_type": "code",
   "execution_count": null,
   "metadata": {},
   "outputs": [],
   "source": [
    "db.Gymnases.find_one()"
   ]
  },
  {
   "cell_type": "code",
   "execution_count": null,
   "metadata": {},
   "outputs": [],
   "source": [
    "db.Sportifs.find_one()"
   ]
  },
  {
   "cell_type": "markdown",
   "metadata": {},
   "source": [
    "Trouver la surface moyenne des salles gymnases:"
   ]
  },
  {
   "cell_type": "code",
   "execution_count": 133,
   "metadata": {},
   "outputs": [
    {
     "name": "stdout",
     "output_type": "stream",
     "text": [
      "{'_id': 'null', 'moyenne_surface': 444.2857142857143}\n"
     ]
    }
   ],
   "source": [
    "for i in db.Gymnases.aggregate([{\"$group\": {\"_id\":\"null\",\"moyenne_surface\": {\"$avg\":\"$Surface\"}}}]):\n",
    "    pprint (i)"
   ]
  },
  {
   "cell_type": "markdown",
   "metadata": {},
   "source": [
    "Trouver le le nombre de gymnases par ville, afficher le résultat trié\n",
    "par ordre décroissant:"
   ]
  },
  {
   "cell_type": "code",
   "execution_count": null,
   "metadata": {},
   "outputs": [],
   "source": [
    "varGroup={\"$group\":{\"_id\":\"$Ville\",\"nb_Gymnase\":{\"$sum\":1}}}\n",
    "varSort = { \"$sort\" : { \"IdGymnase\" : -1 } }\n",
    "for i in db.Gymnases.aggregate([varGroup,varSort]):\n",
    "    print(i)"
   ]
  },
  {
   "cell_type": "markdown",
   "metadata": {},
   "source": [
    "Calculer le nombre de séances journalières:"
   ]
  },
  {
   "cell_type": "code",
   "execution_count": 60,
   "metadata": {},
   "outputs": [
    {
     "name": "stdout",
     "output_type": "stream",
     "text": [
      "{'_id': {'Jour': 'jeudi'}, 'nb': 6}\n",
      "{'_id': {'Jour': 'mercredi'}, 'nb': 13}\n",
      "{'_id': {'Jour': 'dimanche'}, 'nb': 17}\n",
      "{'_id': {'Jour': 'lundi'}, 'nb': 23}\n",
      "{'_id': {'Jour': 'vendredi'}, 'nb': 6}\n",
      "{'_id': {'Jour': 'samedi'}, 'nb': 9}\n",
      "{'_id': {'Jour': 'mardi'}, 'nb': 8}\n"
     ]
    }
   ],
   "source": [
    "for i in db.Gymnases.aggregate([{ \"$unwind\" : \"$Seances\" },{ \"$group\": {\n",
    "        \"_id\": {\n",
    "            \"Jour\": { \"$toLower\": \"$Seances.Jour\"} \n",
    "        },\n",
    "        \"nb\": { \"$sum\": 1 }\n",
    "    }}\n",
    "    ]):\n",
    "    pprint(i)"
   ]
  },
  {
   "cell_type": "markdown",
   "metadata": {},
   "source": [
    "Quels sont les sportifs (identifiant, nom et prénom) qui ont entre 20 et 30 ans ?"
   ]
  },
  {
   "cell_type": "code",
   "execution_count": 61,
   "metadata": {},
   "outputs": [
    {
     "name": "stdout",
     "output_type": "stream",
     "text": [
      "{'IdSportif': 3, 'Nom': 'HUE', 'Prenom': 'Pascale'}\n",
      "{'IdSportif': 5, 'Nom': 'COMES', 'Prenom': 'Sylvie'}\n",
      "{'IdSportif': 7, 'Nom': 'GOMEZ', 'Prenom': 'Diego'}\n",
      "{'IdSportif': 9, 'Nom': 'ANTUNES', 'Prenom': 'Gaêlle'}\n",
      "{'IdSportif': 10, 'Nom': 'BLANDET', 'Prenom': 'Arnaud'}\n",
      "{'IdSportif': 11, 'Nom': 'BONNET', 'Prenom': 'Christophe'}\n",
      "{'IdSportif': 12, 'Nom': 'BORREL', 'Prenom': 'Benoît'}\n",
      "{'IdSportif': 13, 'Nom': 'BOYON', 'Prenom': 'Julien'}\n",
      "{'IdSportif': 14, 'Nom': 'CAILLIOT', 'Prenom': 'Stéphanie'}\n",
      "{'IdSportif': 15, 'Nom': 'CHAMPENOIS', 'Prenom': 'Cédric'}\n",
      "{'IdSportif': 16, 'Nom': 'COLAS', 'Prenom': 'Michaël'}\n",
      "{'IdSportif': 17, 'Nom': 'COLOMB', 'Prenom': 'Michaël'}\n",
      "{'IdSportif': 18, 'Nom': 'HOSNI', 'Prenom': 'Leila'}\n",
      "{'IdSportif': 19, 'Nom': 'TESTEMONT', 'Prenom': 'Laurent'}\n",
      "{'IdSportif': 20, 'Nom': 'TIENER', 'Prenom': 'Thomas'}\n",
      "{'IdSportif': 21, 'Nom': 'LE BOUCHER', 'Prenom': 'Denis'}\n",
      "{'IdSportif': 22, 'Nom': 'LEDUFAUD', 'Prenom': 'Pierre'}\n",
      "{'IdSportif': 23, 'Nom': 'LEGRAND', 'Prenom': 'David'}\n",
      "{'IdSportif': 24, 'Nom': 'LEJEUNE', 'Prenom': 'Sylvaine'}\n",
      "{'IdSportif': 25, 'Nom': 'MARTORA', 'Prenom': 'Fabrice'}\n",
      "{'IdSportif': 26, 'Nom': 'MICHEL', 'Prenom': 'Frédérique'}\n",
      "{'IdSportif': 33, 'Nom': 'RAMPNOUX', 'Prenom': 'Jean françois'}\n",
      "{'IdSportif': 34, 'Nom': 'LHERPINIERE', 'Prenom': 'Olivier'}\n",
      "{'IdSportif': 35, 'Nom': 'TANQUE', 'Prenom': 'Yann'}\n",
      "{'IdSportif': 36, 'Nom': 'DJELOUDANE', 'Prenom': 'Zinedine'}\n",
      "{'IdSportif': 37, 'Nom': 'LAZZARI', 'Prenom': 'Magali'}\n",
      "{'IdSportif': 38, 'Nom': 'VASSEMON', 'Prenom': 'Laurent'}\n",
      "{'IdSportif': 39, 'Nom': 'MOREL', 'Prenom': 'Mathieu'}\n",
      "{'IdSportif': 40, 'Nom': 'VALIN', 'Prenom': 'Yann'}\n",
      "{'IdSportif': 41, 'Nom': 'DELOVINA', 'Prenom': 'Elina'}\n",
      "{'IdSportif': 42, 'Nom': 'LEHOUX', 'Prenom': 'Bruno'}\n",
      "{'IdSportif': 43, 'Nom': 'MATHIEU', 'Prenom': 'Denise'}\n",
      "{'IdSportif': 44, 'Nom': 'ADIBO', 'Prenom': 'Senamé'}\n",
      "{'IdSportif': 45, 'Nom': 'CHAVANT', 'Prenom': 'Christophe'}\n",
      "{'IdSportif': 47, 'Nom': 'GROEN', 'Prenom': 'Céline'}\n",
      "{'IdSportif': 48, 'Nom': 'HEDDI', 'Prenom': 'Zohra'}\n",
      "{'IdSportif': 49, 'Nom': 'JOUVE', 'Prenom': 'Sandra'}\n",
      "{'IdSportif': 50, 'Nom': 'KALOMBO', 'Prenom': 'Yannick'}\n",
      "{'IdSportif': 51, 'Nom': 'LOPEZ', 'Prenom': 'Thibaud'}\n",
      "{'IdSportif': 52, 'Nom': 'DANDOIS', 'Prenom': 'Régis'}\n",
      "{'IdSportif': 53, 'Nom': 'DEMMER', 'Prenom': 'Thomas'}\n",
      "{'IdSportif': 54, 'Nom': 'ELKABBADJ', 'Prenom': 'Mohammed'}\n",
      "{'IdSportif': 55, 'Nom': 'FEROLDI', 'Prenom': 'Olivier'}\n",
      "{'IdSportif': 56, 'Nom': 'GUERRAOUI', 'Prenom': 'Zohra'}\n",
      "{'IdSportif': 57, 'Nom': 'BOISSEAU', 'Prenom': 'Eric'}\n",
      "{'IdSportif': 58, 'Nom': 'GUIGUI', 'Prenom': 'Vincent'}\n",
      "{'IdSportif': 59, 'Nom': 'CLERICE', 'Prenom': 'Stéphanie'}\n",
      "{'IdSportif': 67, 'Nom': 'VONTHRON', 'Prenom': 'Dominique'}\n",
      "{'IdSportif': 69, 'Nom': 'MARIE', 'Prenom': 'Paule'}\n",
      "{'IdSportif': 72, 'Nom': 'MARTEL', 'Prenom': 'Bernard'}\n",
      "{'IdSportif': 2, 'Nom': 'KERVADEC', 'Prenom': 'Yann'}\n",
      "{'IdSportif': 27, 'Nom': 'NIELLEZ', 'Prenom': 'Christophe'}\n",
      "{'IdSportif': 29, 'Nom': 'ROUSSEL', 'Prenom': 'Nadège'}\n",
      "{'IdSportif': 30, 'Nom': 'SCHINK', 'Prenom': 'Nicolas'}\n",
      "{'IdSportif': 31, 'Nom': 'STEMPUT', 'Prenom': 'Mathieu'}\n",
      "{'IdSportif': 32, 'Nom': 'VAN CAUTER', 'Prenom': 'Vincent'}\n",
      "{'IdSportif': 46, 'Nom': 'DAUXIAN', 'Prenom': 'Cédric'}\n",
      "{'IdSportif': 61, 'Nom': 'LAZARRE', 'Prenom': 'Jean'}\n",
      "{'IdSportif': 84, 'Nom': 'SALLAÏ', 'Prenom': 'Miloud'}\n",
      "{'IdSportif': 114, 'Nom': 'MICHEL', 'Prenom': 'Danielle'}\n",
      "{'IdSportif': 137, 'Nom': 'DUDOUIT', 'Prenom': 'Chloé'}\n",
      "{'IdSportif': 145, 'Nom': 'LENEVEU', 'Prenom': 'Marie'}\n",
      "{'IdSportif': 146, 'Nom': 'DABON', 'Prenom': 'Rick'}\n",
      "{'IdSportif': 147, 'Nom': 'CLERICE', 'Prenom': 'Alice'}\n",
      "{'IdSportif': 148, 'Nom': 'COMES', 'Prenom': 'Marie'}\n",
      "{'IdSportif': 149, 'Nom': 'BELZ', 'Prenom': 'Sylvianne'}\n",
      "{'IdSportif': 150, 'Nom': 'BELZ', 'Prenom': 'Paul'}\n",
      "{'IdSportif': 92, 'Nom': 'HERVIEU', 'Prenom': 'Jean-François'}\n",
      "{'IdSportif': 136, 'Nom': 'LABOULAIS', 'Prenom': 'Chloé'}\n",
      "{'IdSportif': 138, 'Nom': 'MADELAINE', 'Prenom': 'Chloé'}\n",
      "{'IdSportif': 139, 'Nom': 'BESNARD', 'Prenom': 'Chloé'}\n",
      "{'IdSportif': 140, 'Nom': 'BELZ', 'Prenom': 'Chloé'}\n",
      "{'IdSportif': 141, 'Nom': 'BONNET', 'Prenom': 'Chloé'}\n",
      "{'IdSportif': 142, 'Nom': 'CORNET', 'Prenom': 'Chloé'}\n",
      "{'IdSportif': 143, 'Nom': 'BEUZELIN', 'Prenom': 'Chloé'}\n",
      "{'IdSportif': 144, 'Nom': 'GRANDIDIER', 'Prenom': 'Chloé'}\n",
      "{'IdSportif': 151, 'Nom': 'HENRY', 'Prenom': 'Maël'}\n"
     ]
    }
   ],
   "source": [
    "for i in db.Sportifs.aggregate([\n",
    "    { \"$match\": { \"Age\": { \"$gte\": 20, \"$lt\": 30 } } },\n",
    "    { \"$project\": {\"_id\":0,\"IdSportif\":1, \"Nom\": 1, \"Prenom\": 1} } ]):\n",
    "    pprint(i)"
   ]
  },
  {
   "cell_type": "markdown",
   "metadata": {},
   "source": [
    "Quels sont les gymnases de “Villetaneuse” ou de “Sarcelles” qui ont une surface de plus de\n",
    "400 m2 ?"
   ]
  },
  {
   "cell_type": "code",
   "execution_count": null,
   "metadata": {},
   "outputs": [],
   "source": [
    "for i in db.Gymnases.find({\"$or\":[{\"$and\":[{\"Ville\":\"SARCELLES\"},{\"Surface\":{\"$gte\":400}}]},{\"$and\":[{\"Ville\":\"VILLETANEUSE\"},{\"Surface\":{\"$gte\":400}}]}]},{\"_id\":0,\"NomGymnase\":1}):\n",
    "    pprint(i)"
   ]
  },
  {
   "cell_type": "code",
   "execution_count": 48,
   "metadata": {},
   "outputs": [
    {
     "name": "stdout",
     "output_type": "stream",
     "text": [
      "{'_id': {'Ville': 'villetaneuse'}}\n",
      "{'_id': {'Ville': 'saint denis'}}\n",
      "{'_id': {'Ville': 'pierrefitte'}}\n",
      "{'_id': {'Ville': 'garges'}}\n",
      "{'_id': {'Ville': 'montmorency'}}\n",
      "{'_id': {'Ville': 'stains'}}\n",
      "{'_id': {'Ville': 'sarcelles'}}\n"
     ]
    }
   ],
   "source": [
    "for i in db.Gymnases.aggregate([{ \"$group\": {\n",
    "        \"_id\": {\n",
    "            \"Ville\": { \"$toLower\": \"$Ville\"} ,\n",
    "        },\n",
    "        \n",
    "    }}\n",
    "    ]):\n",
    "    pprint(i)"
   ]
  },
  {
   "cell_type": "code",
   "execution_count": 42,
   "metadata": {},
   "outputs": [
    {
     "name": "stdout",
     "output_type": "stream",
     "text": [
      "'_id'\n",
      "'IdGymnase'\n",
      "'NomGymnase'\n",
      "'Adresse'\n",
      "'Ville'\n",
      "'Surface'\n",
      "'Seances'\n"
     ]
    }
   ],
   "source": [
    "for i in db.Gymnases.find_one():\n",
    "    pprint(i)"
   ]
  },
  {
   "cell_type": "code",
   "execution_count": 53,
   "metadata": {},
   "outputs": [
    {
     "ename": "OperationFailure",
     "evalue": "input to $filter must be an array not int",
     "output_type": "error",
     "traceback": [
      "\u001b[0;31m---------------------------------------------------------------------------\u001b[0m",
      "\u001b[0;31mOperationFailure\u001b[0m                          Traceback (most recent call last)",
      "\u001b[0;32m<ipython-input-53-7308d17860fa>\u001b[0m in \u001b[0;36m<module>\u001b[0;34m\u001b[0m\n\u001b[1;32m      6\u001b[0m                \u001b[0;34m\"input\"\u001b[0m\u001b[0;34m:\u001b[0m \u001b[0;34m\"$Surface\"\u001b[0m\u001b[0;34m,\u001b[0m\u001b[0;34m\u001b[0m\u001b[0;34m\u001b[0m\u001b[0m\n\u001b[1;32m      7\u001b[0m                \u001b[0;34m\"as\"\u001b[0m \u001b[0;34m:\u001b[0m \u001b[0;34m\"item\"\u001b[0m\u001b[0;34m,\u001b[0m\u001b[0;34m\u001b[0m\u001b[0;34m\u001b[0m\u001b[0m\n\u001b[0;32m----> 8\u001b[0;31m                \u001b[0;34m\"cond\"\u001b[0m\u001b[0;34m:\u001b[0m \u001b[0;34m{\u001b[0m \u001b[0;34m\"$gte\"\u001b[0m\u001b[0;34m:\u001b[0m \u001b[0;34m[\u001b[0m \u001b[0;34m\"$$item.Surface\"\u001b[0m\u001b[0;34m,\u001b[0m \u001b[0;36m400\u001b[0m \u001b[0;34m]\u001b[0m \u001b[0;34m}\u001b[0m\u001b[0;34m\u001b[0m\u001b[0;34m\u001b[0m\u001b[0m\n\u001b[0m\u001b[1;32m      9\u001b[0m             }\n\u001b[1;32m     10\u001b[0m          }\n",
      "\u001b[0;32m~/PycharmProjects/cad_naterre/venv/lib/python3.6/site-packages/pymongo/collection.py\u001b[0m in \u001b[0;36maggregate\u001b[0;34m(self, pipeline, session, **kwargs)\u001b[0m\n\u001b[1;32m   2378\u001b[0m                                    \u001b[0msession\u001b[0m\u001b[0;34m=\u001b[0m\u001b[0ms\u001b[0m\u001b[0;34m,\u001b[0m\u001b[0;34m\u001b[0m\u001b[0;34m\u001b[0m\u001b[0m\n\u001b[1;32m   2379\u001b[0m                                    \u001b[0mexplicit_session\u001b[0m\u001b[0;34m=\u001b[0m\u001b[0msession\u001b[0m \u001b[0;32mis\u001b[0m \u001b[0;32mnot\u001b[0m \u001b[0;32mNone\u001b[0m\u001b[0;34m,\u001b[0m\u001b[0;34m\u001b[0m\u001b[0;34m\u001b[0m\u001b[0m\n\u001b[0;32m-> 2380\u001b[0;31m                                    **kwargs)\n\u001b[0m\u001b[1;32m   2381\u001b[0m \u001b[0;34m\u001b[0m\u001b[0m\n\u001b[1;32m   2382\u001b[0m     \u001b[0;32mdef\u001b[0m \u001b[0maggregate_raw_batches\u001b[0m\u001b[0;34m(\u001b[0m\u001b[0mself\u001b[0m\u001b[0;34m,\u001b[0m \u001b[0mpipeline\u001b[0m\u001b[0;34m,\u001b[0m \u001b[0;34m**\u001b[0m\u001b[0mkwargs\u001b[0m\u001b[0;34m)\u001b[0m\u001b[0;34m:\u001b[0m\u001b[0;34m\u001b[0m\u001b[0;34m\u001b[0m\u001b[0m\n",
      "\u001b[0;32m~/PycharmProjects/cad_naterre/venv/lib/python3.6/site-packages/pymongo/collection.py\u001b[0m in \u001b[0;36m_aggregate\u001b[0;34m(self, aggregation_command, pipeline, cursor_class, session, explicit_session, **kwargs)\u001b[0m\n\u001b[1;32m   2297\u001b[0m         return self.__database.client._retryable_read(\n\u001b[1;32m   2298\u001b[0m             \u001b[0mcmd\u001b[0m\u001b[0;34m.\u001b[0m\u001b[0mget_cursor\u001b[0m\u001b[0;34m,\u001b[0m \u001b[0mcmd\u001b[0m\u001b[0;34m.\u001b[0m\u001b[0mget_read_preference\u001b[0m\u001b[0;34m(\u001b[0m\u001b[0msession\u001b[0m\u001b[0;34m)\u001b[0m\u001b[0;34m,\u001b[0m \u001b[0msession\u001b[0m\u001b[0;34m,\u001b[0m\u001b[0;34m\u001b[0m\u001b[0;34m\u001b[0m\u001b[0m\n\u001b[0;32m-> 2299\u001b[0;31m             retryable=not cmd._performs_write)\n\u001b[0m\u001b[1;32m   2300\u001b[0m \u001b[0;34m\u001b[0m\u001b[0m\n\u001b[1;32m   2301\u001b[0m     \u001b[0;32mdef\u001b[0m \u001b[0maggregate\u001b[0m\u001b[0;34m(\u001b[0m\u001b[0mself\u001b[0m\u001b[0;34m,\u001b[0m \u001b[0mpipeline\u001b[0m\u001b[0;34m,\u001b[0m \u001b[0msession\u001b[0m\u001b[0;34m=\u001b[0m\u001b[0;32mNone\u001b[0m\u001b[0;34m,\u001b[0m \u001b[0;34m**\u001b[0m\u001b[0mkwargs\u001b[0m\u001b[0;34m)\u001b[0m\u001b[0;34m:\u001b[0m\u001b[0;34m\u001b[0m\u001b[0;34m\u001b[0m\u001b[0m\n",
      "\u001b[0;32m~/PycharmProjects/cad_naterre/venv/lib/python3.6/site-packages/pymongo/mongo_client.py\u001b[0m in \u001b[0;36m_retryable_read\u001b[0;34m(self, func, read_pref, session, address, retryable, exhaust)\u001b[0m\n\u001b[1;32m   1462\u001b[0m                         \u001b[0;31m# not support retryable reads, raise the last error.\u001b[0m\u001b[0;34m\u001b[0m\u001b[0;34m\u001b[0m\u001b[0;34m\u001b[0m\u001b[0m\n\u001b[1;32m   1463\u001b[0m                         \u001b[0;32mraise\u001b[0m \u001b[0mlast_error\u001b[0m\u001b[0;34m\u001b[0m\u001b[0;34m\u001b[0m\u001b[0m\n\u001b[0;32m-> 1464\u001b[0;31m                     \u001b[0;32mreturn\u001b[0m \u001b[0mfunc\u001b[0m\u001b[0;34m(\u001b[0m\u001b[0msession\u001b[0m\u001b[0;34m,\u001b[0m \u001b[0mserver\u001b[0m\u001b[0;34m,\u001b[0m \u001b[0msock_info\u001b[0m\u001b[0;34m,\u001b[0m \u001b[0mslave_ok\u001b[0m\u001b[0;34m)\u001b[0m\u001b[0;34m\u001b[0m\u001b[0;34m\u001b[0m\u001b[0m\n\u001b[0m\u001b[1;32m   1465\u001b[0m             \u001b[0;32mexcept\u001b[0m \u001b[0mServerSelectionTimeoutError\u001b[0m\u001b[0;34m:\u001b[0m\u001b[0;34m\u001b[0m\u001b[0;34m\u001b[0m\u001b[0m\n\u001b[1;32m   1466\u001b[0m                 \u001b[0;32mif\u001b[0m \u001b[0mretrying\u001b[0m\u001b[0;34m:\u001b[0m\u001b[0;34m\u001b[0m\u001b[0;34m\u001b[0m\u001b[0m\n",
      "\u001b[0;32m~/PycharmProjects/cad_naterre/venv/lib/python3.6/site-packages/pymongo/aggregation.py\u001b[0m in \u001b[0;36mget_cursor\u001b[0;34m(self, session, server, sock_info, slave_ok)\u001b[0m\n\u001b[1;32m    146\u001b[0m             \u001b[0msession\u001b[0m\u001b[0;34m=\u001b[0m\u001b[0msession\u001b[0m\u001b[0;34m,\u001b[0m\u001b[0;34m\u001b[0m\u001b[0;34m\u001b[0m\u001b[0m\n\u001b[1;32m    147\u001b[0m             \u001b[0mclient\u001b[0m\u001b[0;34m=\u001b[0m\u001b[0mself\u001b[0m\u001b[0;34m.\u001b[0m\u001b[0m_database\u001b[0m\u001b[0;34m.\u001b[0m\u001b[0mclient\u001b[0m\u001b[0;34m,\u001b[0m\u001b[0;34m\u001b[0m\u001b[0;34m\u001b[0m\u001b[0m\n\u001b[0;32m--> 148\u001b[0;31m             user_fields=self._user_fields)\n\u001b[0m\u001b[1;32m    149\u001b[0m \u001b[0;34m\u001b[0m\u001b[0m\n\u001b[1;32m    150\u001b[0m         \u001b[0mself\u001b[0m\u001b[0;34m.\u001b[0m\u001b[0m_process_result\u001b[0m\u001b[0;34m(\u001b[0m\u001b[0mresult\u001b[0m\u001b[0;34m,\u001b[0m \u001b[0msession\u001b[0m\u001b[0;34m,\u001b[0m \u001b[0mserver\u001b[0m\u001b[0;34m,\u001b[0m \u001b[0msock_info\u001b[0m\u001b[0;34m,\u001b[0m \u001b[0mslave_ok\u001b[0m\u001b[0;34m)\u001b[0m\u001b[0;34m\u001b[0m\u001b[0;34m\u001b[0m\u001b[0m\n",
      "\u001b[0;32m~/PycharmProjects/cad_naterre/venv/lib/python3.6/site-packages/pymongo/pool.py\u001b[0m in \u001b[0;36mcommand\u001b[0;34m(self, dbname, spec, slave_ok, read_preference, codec_options, check, allowable_errors, check_keys, read_concern, write_concern, parse_write_concern_error, collation, session, client, retryable_write, publish_events, user_fields)\u001b[0m\n\u001b[1;32m    611\u001b[0m                            \u001b[0muse_op_msg\u001b[0m\u001b[0;34m=\u001b[0m\u001b[0mself\u001b[0m\u001b[0;34m.\u001b[0m\u001b[0mop_msg_enabled\u001b[0m\u001b[0;34m,\u001b[0m\u001b[0;34m\u001b[0m\u001b[0;34m\u001b[0m\u001b[0m\n\u001b[1;32m    612\u001b[0m                            \u001b[0munacknowledged\u001b[0m\u001b[0;34m=\u001b[0m\u001b[0munacknowledged\u001b[0m\u001b[0;34m,\u001b[0m\u001b[0;34m\u001b[0m\u001b[0;34m\u001b[0m\u001b[0m\n\u001b[0;32m--> 613\u001b[0;31m                            user_fields=user_fields)\n\u001b[0m\u001b[1;32m    614\u001b[0m         \u001b[0;32mexcept\u001b[0m \u001b[0mOperationFailure\u001b[0m\u001b[0;34m:\u001b[0m\u001b[0;34m\u001b[0m\u001b[0;34m\u001b[0m\u001b[0m\n\u001b[1;32m    615\u001b[0m             \u001b[0;32mraise\u001b[0m\u001b[0;34m\u001b[0m\u001b[0;34m\u001b[0m\u001b[0m\n",
      "\u001b[0;32m~/PycharmProjects/cad_naterre/venv/lib/python3.6/site-packages/pymongo/network.py\u001b[0m in \u001b[0;36mcommand\u001b[0;34m(sock, dbname, spec, slave_ok, is_mongos, read_preference, codec_options, session, client, check, allowable_errors, address, check_keys, listeners, max_bson_size, read_concern, parse_write_concern_error, collation, compression_ctx, use_op_msg, unacknowledged, user_fields)\u001b[0m\n\u001b[1;32m    165\u001b[0m                 helpers._check_command_response(\n\u001b[1;32m    166\u001b[0m                     \u001b[0mresponse_doc\u001b[0m\u001b[0;34m,\u001b[0m \u001b[0;32mNone\u001b[0m\u001b[0;34m,\u001b[0m \u001b[0mallowable_errors\u001b[0m\u001b[0;34m,\u001b[0m\u001b[0;34m\u001b[0m\u001b[0;34m\u001b[0m\u001b[0m\n\u001b[0;32m--> 167\u001b[0;31m                     parse_write_concern_error=parse_write_concern_error)\n\u001b[0m\u001b[1;32m    168\u001b[0m     \u001b[0;32mexcept\u001b[0m \u001b[0mException\u001b[0m \u001b[0;32mas\u001b[0m \u001b[0mexc\u001b[0m\u001b[0;34m:\u001b[0m\u001b[0;34m\u001b[0m\u001b[0;34m\u001b[0m\u001b[0m\n\u001b[1;32m    169\u001b[0m         \u001b[0;32mif\u001b[0m \u001b[0mpublish\u001b[0m\u001b[0;34m:\u001b[0m\u001b[0;34m\u001b[0m\u001b[0;34m\u001b[0m\u001b[0m\n",
      "\u001b[0;32m~/PycharmProjects/cad_naterre/venv/lib/python3.6/site-packages/pymongo/helpers.py\u001b[0m in \u001b[0;36m_check_command_response\u001b[0;34m(response, msg, allowable_errors, parse_write_concern_error)\u001b[0m\n\u001b[1;32m    157\u001b[0m \u001b[0;34m\u001b[0m\u001b[0m\n\u001b[1;32m    158\u001b[0m             \u001b[0mmsg\u001b[0m \u001b[0;34m=\u001b[0m \u001b[0mmsg\u001b[0m \u001b[0;32mor\u001b[0m \u001b[0;34m\"%s\"\u001b[0m\u001b[0;34m\u001b[0m\u001b[0;34m\u001b[0m\u001b[0m\n\u001b[0;32m--> 159\u001b[0;31m             \u001b[0;32mraise\u001b[0m \u001b[0mOperationFailure\u001b[0m\u001b[0;34m(\u001b[0m\u001b[0mmsg\u001b[0m \u001b[0;34m%\u001b[0m \u001b[0merrmsg\u001b[0m\u001b[0;34m,\u001b[0m \u001b[0mcode\u001b[0m\u001b[0;34m,\u001b[0m \u001b[0mresponse\u001b[0m\u001b[0;34m)\u001b[0m\u001b[0;34m\u001b[0m\u001b[0;34m\u001b[0m\u001b[0m\n\u001b[0m\u001b[1;32m    160\u001b[0m \u001b[0;34m\u001b[0m\u001b[0m\n\u001b[1;32m    161\u001b[0m \u001b[0;34m\u001b[0m\u001b[0m\n",
      "\u001b[0;31mOperationFailure\u001b[0m: input to $filter must be an array not int"
     ]
    }
   ],
   "source": [
    "db.Gymnases.aggregate([\n",
    "   {\n",
    "      \"$project\": {\n",
    "         \"Surface\": {\n",
    "            \"$filter\": {\n",
    "               \"input\": \"$Surface\",\n",
    "               \"as\" : \"item\",\n",
    "               \"cond\": { \"$gte\": [ \"$$item.Surface\", 400 ] }\n",
    "            }\n",
    "         }\n",
    "      }\n",
    "   }\n",
    "])"
   ]
  },
  {
   "cell_type": "markdown",
   "metadata": {},
   "source": [
    "Quels sont les sportifs (identifiant et nom) qui pratiquent du hand ball ?"
   ]
  },
  {
   "cell_type": "code",
   "execution_count": null,
   "metadata": {},
   "outputs": [],
   "source": [
    "for i in db.Sportifs.find({\"Sports.Jouer\": \"Hand ball\"},{\"_id\": 1,\"Nom\": 1}):\n",
    "    pprint(i)\n"
   ]
  },
  {
   "cell_type": "markdown",
   "metadata": {},
   "source": [
    "Dans quels gymnases et quels jours y a t-il des séances de hand ball ?"
   ]
  },
  {
   "cell_type": "code",
   "execution_count": 137,
   "metadata": {},
   "outputs": [
    {
     "name": "stdout",
     "output_type": "stream",
     "text": [
      "{'NomGymnase': 'PAUL ELUARD',\n",
      " 'Seances': [{'Jour': 'Samedi', 'Libelle': 'Basket ball'},\n",
      "             {'Jour': 'Lundi', 'Libelle': 'Hand ball'},\n",
      "             {'Jour': 'Lundi', 'Libelle': 'Hand ball'},\n",
      "             {'Jour': 'Lundi', 'Libelle': 'Hand ball'},\n",
      "             {'Jour': 'Lundi', 'Libelle': 'Hand ball'},\n",
      "             {'Jour': 'lundi', 'Libelle': 'Hand ball'},\n",
      "             {'Jour': 'Lundi', 'Libelle': 'Hand ball'},\n",
      "             {'Jour': 'Dimanche', 'Libelle': 'Hand ball'},\n",
      "             {'Jour': 'Dimanche', 'Libelle': 'Hand ball'},\n",
      "             {'Jour': 'mardi', 'Libelle': 'Hand ball'},\n",
      "             {'Jour': 'mercredi', 'Libelle': 'Hand ball'},\n",
      "             {'Jour': 'Samedi', 'Libelle': 'Hand ball'},\n",
      "             {'Jour': 'Samedi', 'Libelle': 'Hand ball'},\n",
      "             {'Jour': 'Samedi', 'Libelle': 'Hand ball'},\n",
      "             {'Jour': 'jeudi', 'Libelle': 'Hand ball'},\n",
      "             {'Jour': 'lundi', 'Libelle': 'Hand ball'},\n",
      "             {'Jour': 'lundi', 'Libelle': 'Hand ball'},\n",
      "             {'Jour': 'lundi', 'Libelle': 'Hand ball'},\n",
      "             {'Jour': 'lundi', 'Libelle': 'Hand ball'},\n",
      "             {'Jour': 'mercredi', 'Libelle': 'Hockey'}],\n",
      " 'Ville': 'STAINS'}\n",
      "'éééééééééééééé'\n",
      "{'NomGymnase': 'GARCIA LORCA',\n",
      " 'Seances': [{'Jour': 'samedi', 'Libelle': 'Volley ball'},\n",
      "             {'Jour': 'vendredi', 'Libelle': 'Volley ball'},\n",
      "             {'Jour': 'dimanche', 'Libelle': 'Volley ball'},\n",
      "             {'Jour': 'dimanche', 'Libelle': 'Hand ball'},\n",
      "             {'Jour': 'mardi', 'Libelle': 'Hand ball'},\n",
      "             {'Jour': 'mardi', 'Libelle': 'Hockey'}],\n",
      " 'Ville': 'STAINS'}\n",
      "'éééééééééééééé'\n"
     ]
    }
   ],
   "source": [
    "for i in db.Gymnases.find(  {\"Seances.Libelle\": \"Hand ball\"},\n",
    "                            {\"_id\": 0,\"NomGymnase\": 1,\n",
    "                             \"Ville\": 1,\"Seances.Jour\": 1,\n",
    "                             \"Seances.Libelle\": 1}):\n",
    "    pprint(i)"
   ]
  },
  {
   "cell_type": "code",
   "execution_count": null,
   "metadata": {},
   "outputs": [],
   "source": [
    "for i in db.Gymnases.aggregate([{ \"$unwind\" : \"$Seances\" },\n",
    "    { \"$match\": { \"Seances.Libelle\": \"Hand ball\" } },\n",
    "    { \"$project\": {\"_id\": 0,\"NomGymnase\": 1,\"Ville\": 1,\"Seances.Jour\": 1,\"Seances.Libelle\": 1 }}]):\n",
    "    pprint(i)"
   ]
  },
  {
   "cell_type": "markdown",
   "metadata": {},
   "source": [
    "Dans quels gymnases peut-on jouer au hockey le mercredi apres 15H ?"
   ]
  },
  {
   "cell_type": "code",
   "execution_count": null,
   "metadata": {},
   "outputs": [],
   "source": [
    "for i in db.Gymnases.aggregate([{ \"$unwind\" : \"$Seances\" },\n",
    "    { \"$match\": {\"Seances.Horaire\":{\"$gte\":15}}},\n",
    "    { \"$match\": {\"Seances.Jour\":\"mercredi\"}},\n",
    "    { \"$match\": {\"Seances.Libelle\":\"Hockey\"}},\n",
    "    { \"$project\": {\"_id\": 0,\"NomGymnase\": 1,\"Seances.Jour\":1,\"Seances.Horaire\": 1}}]):\n",
    "    pprint(i)"
   ]
  },
  {
   "cell_type": "markdown",
   "metadata": {},
   "source": [
    "Quels sportifs (identifiant et nom) ne pratiquent aucun sport ?"
   ]
  },
  {
   "cell_type": "code",
   "execution_count": 57,
   "metadata": {},
   "outputs": [
    {
     "name": "stdout",
     "output_type": "stream",
     "text": [
      "{'Nom': 'DROULLON'}\n",
      "{'Nom': 'BELUAU'}\n",
      "{'Nom': 'LENEVEU'}\n",
      "{'Nom': 'DABON'}\n",
      "{'Nom': 'CLERICE'}\n",
      "{'Nom': 'COMES'}\n",
      "{'Nom': 'BELZ'}\n",
      "{'Nom': 'FERREIRA'}\n",
      "{'Nom': 'GALLOIS'}\n"
     ]
    }
   ],
   "source": [
    "for i in db.Sportifs.aggregate([{ \"$match\" : {\"Sports\": { \"$exists\": False }}},\n",
    "                                {}\n",
    "                                { \"$project\": {\"_id\":0,\"Nom\":1}}]):\n",
    "    pprint(i)"
   ]
  },
  {
   "cell_type": "code",
   "execution_count": null,
   "metadata": {},
   "outputs": [],
   "source": [
    "for i in db.Sportifs.find({\"Sports.Jouer\" : { \"$exists\" : False }}):\n",
    "    pprint(i)"
   ]
  },
  {
   "cell_type": "markdown",
   "metadata": {},
   "source": [
    "Quels gymnases n’ont pas de séances le dimanche ?"
   ]
  },
  {
   "cell_type": "code",
   "execution_count": 40,
   "metadata": {},
   "outputs": [
    {
     "name": "stdout",
     "output_type": "stream",
     "text": [
      "{'NomGymnase': 'LAMARTINE', 'Ville': 'PIERREFITTE'}\n",
      "{'NomGymnase': 'BREL', 'Ville': 'PIERREFITTE'}\n",
      "{'NomGymnase': 'SAMOURAI', 'Ville': 'SARCELLES'}\n",
      "{'NomGymnase': 'PABLO NERUDA', 'Ville': 'PIERREFITTE'}\n",
      "{'NomGymnase': 'ARAGON', 'Ville': 'SAINT DENIS'}\n",
      "{'NomGymnase': 'BELFEGOR', 'Ville': 'SAINT DENIS'}\n",
      "{'NomGymnase': 'PASCAL', 'Ville': 'VILLETANEUSE'}\n",
      "{'NomGymnase': 'SAINT EXUPERY', 'Ville': 'PIERREFITTE'}\n",
      "{'NomGymnase': 'PAUL ELUARD', 'Ville': 'SARCELLES'}\n",
      "{'NomGymnase': 'BRASSENS', 'Ville': 'SARCELLES'}\n",
      "{'NomGymnase': 'VERLAINE', 'Ville': 'STAINS'}\n",
      "{'NomGymnase': 'JULES FERRY', 'Ville': 'PIERREFITTE'}\n",
      "{'NomGymnase': 'CAMUS', 'Ville': 'SARCELLES'}\n",
      "{'NomGymnase': 'LUMIERES', 'Ville': 'SARCELLES'}\n",
      "{'NomGymnase': 'SIMON', 'Ville': 'STAINS'}\n",
      "{'NomGymnase': 'BARBARA', 'Ville': 'SAINT DENIS'}\n",
      "{'NomGymnase': 'MERMOZ', 'Ville': 'VILLETANEUSE'}\n"
     ]
    }
   ],
   "source": [
    "for i in db.Gymnases.find(\n",
    "    { \"Seances.Jour\" : { \"$nin\" : [ \"dimanche\", \"Dimanche\" ]}},\n",
    "    { \"_id\": 0,\n",
    "        \"NomGymnase\": 1,\n",
    "        \"Ville\": 1,}):\n",
    "    pprint(i)"
   ]
  },
  {
   "cell_type": "markdown",
   "metadata": {},
   "source": [
    "Quels gymnases ne proposent que des séances de basket ball ou de volley ball ?"
   ]
  },
  {
   "cell_type": "code",
   "execution_count": null,
   "metadata": {},
   "outputs": [],
   "source": [
    " for i in db.Gymnases.find(   \n",
    "    {\n",
    "        \"$nor\": [\n",
    "            { \"Seances.Libelle\": { \"$ne\": \"Basket ball\" }},\n",
    "            { \"Seances.Libelle\": { \"$ne\": \"Volley ball\" }}\n",
    "        ]\n",
    "    },\n",
    "    {\n",
    "        \"_id\": 0,\n",
    "        \"NomGymnase\": 1,\n",
    "        \"Ville\": 1,\n",
    "        \"Seances.Libelle\": 1\n",
    "    }\n",
    "):\n",
    "        pprint(i)"
   ]
  },
  {
   "cell_type": "markdown",
   "metadata": {},
   "source": [
    "Quels sont les entraîneurs qui sont aussi joueurs ?"
   ]
  },
  {
   "cell_type": "code",
   "execution_count": 37,
   "metadata": {},
   "outputs": [
    {
     "ename": "OperationFailure",
     "evalue": "unknown top level operator: $Sports.Jouer",
     "output_type": "error",
     "traceback": [
      "\u001b[0;31m---------------------------------------------------------------------------\u001b[0m",
      "\u001b[0;31mOperationFailure\u001b[0m                          Traceback (most recent call last)",
      "\u001b[0;32m<ipython-input-37-e178b4fa44b2>\u001b[0m in \u001b[0;36m<module>\u001b[0;34m\u001b[0m\n\u001b[1;32m      1\u001b[0m for i in db.Sportifs.aggregate([{ \"$unwind\":\"$Sports\"},\n\u001b[1;32m      2\u001b[0m                                 \u001b[0;34m{\u001b[0m \u001b[0;34m\"$match\"\u001b[0m \u001b[0;34m:\u001b[0m \u001b[0;34m{\u001b[0m \u001b[0;34m\"$Sports.Jouer\"\u001b[0m\u001b[0;34m:\u001b[0m \u001b[0;34m{\u001b[0m \u001b[0;34m\"$exists\"\u001b[0m\u001b[0;34m:\u001b[0m \u001b[0;32mFalse\u001b[0m \u001b[0;34m}\u001b[0m\u001b[0;34m}\u001b[0m\u001b[0;34m}\u001b[0m\u001b[0;34m,\u001b[0m\u001b[0;34m\u001b[0m\u001b[0;34m\u001b[0m\u001b[0m\n\u001b[0;32m----> 3\u001b[0;31m                                 { \"$project\": {\"_id\":1,\"Nom\":1}}]):\n\u001b[0m\u001b[1;32m      4\u001b[0m     \u001b[0mpprint\u001b[0m\u001b[0;34m(\u001b[0m\u001b[0mi\u001b[0m\u001b[0;34m)\u001b[0m\u001b[0;34m\u001b[0m\u001b[0;34m\u001b[0m\u001b[0m\n",
      "\u001b[0;32m~/PycharmProjects/cad_naterre/venv/lib/python3.6/site-packages/pymongo/collection.py\u001b[0m in \u001b[0;36maggregate\u001b[0;34m(self, pipeline, session, **kwargs)\u001b[0m\n\u001b[1;32m   2378\u001b[0m                                    \u001b[0msession\u001b[0m\u001b[0;34m=\u001b[0m\u001b[0ms\u001b[0m\u001b[0;34m,\u001b[0m\u001b[0;34m\u001b[0m\u001b[0;34m\u001b[0m\u001b[0m\n\u001b[1;32m   2379\u001b[0m                                    \u001b[0mexplicit_session\u001b[0m\u001b[0;34m=\u001b[0m\u001b[0msession\u001b[0m \u001b[0;32mis\u001b[0m \u001b[0;32mnot\u001b[0m \u001b[0;32mNone\u001b[0m\u001b[0;34m,\u001b[0m\u001b[0;34m\u001b[0m\u001b[0;34m\u001b[0m\u001b[0m\n\u001b[0;32m-> 2380\u001b[0;31m                                    **kwargs)\n\u001b[0m\u001b[1;32m   2381\u001b[0m \u001b[0;34m\u001b[0m\u001b[0m\n\u001b[1;32m   2382\u001b[0m     \u001b[0;32mdef\u001b[0m \u001b[0maggregate_raw_batches\u001b[0m\u001b[0;34m(\u001b[0m\u001b[0mself\u001b[0m\u001b[0;34m,\u001b[0m \u001b[0mpipeline\u001b[0m\u001b[0;34m,\u001b[0m \u001b[0;34m**\u001b[0m\u001b[0mkwargs\u001b[0m\u001b[0;34m)\u001b[0m\u001b[0;34m:\u001b[0m\u001b[0;34m\u001b[0m\u001b[0;34m\u001b[0m\u001b[0m\n",
      "\u001b[0;32m~/PycharmProjects/cad_naterre/venv/lib/python3.6/site-packages/pymongo/collection.py\u001b[0m in \u001b[0;36m_aggregate\u001b[0;34m(self, aggregation_command, pipeline, cursor_class, session, explicit_session, **kwargs)\u001b[0m\n\u001b[1;32m   2297\u001b[0m         return self.__database.client._retryable_read(\n\u001b[1;32m   2298\u001b[0m             \u001b[0mcmd\u001b[0m\u001b[0;34m.\u001b[0m\u001b[0mget_cursor\u001b[0m\u001b[0;34m,\u001b[0m \u001b[0mcmd\u001b[0m\u001b[0;34m.\u001b[0m\u001b[0mget_read_preference\u001b[0m\u001b[0;34m(\u001b[0m\u001b[0msession\u001b[0m\u001b[0;34m)\u001b[0m\u001b[0;34m,\u001b[0m \u001b[0msession\u001b[0m\u001b[0;34m,\u001b[0m\u001b[0;34m\u001b[0m\u001b[0;34m\u001b[0m\u001b[0m\n\u001b[0;32m-> 2299\u001b[0;31m             retryable=not cmd._performs_write)\n\u001b[0m\u001b[1;32m   2300\u001b[0m \u001b[0;34m\u001b[0m\u001b[0m\n\u001b[1;32m   2301\u001b[0m     \u001b[0;32mdef\u001b[0m \u001b[0maggregate\u001b[0m\u001b[0;34m(\u001b[0m\u001b[0mself\u001b[0m\u001b[0;34m,\u001b[0m \u001b[0mpipeline\u001b[0m\u001b[0;34m,\u001b[0m \u001b[0msession\u001b[0m\u001b[0;34m=\u001b[0m\u001b[0;32mNone\u001b[0m\u001b[0;34m,\u001b[0m \u001b[0;34m**\u001b[0m\u001b[0mkwargs\u001b[0m\u001b[0;34m)\u001b[0m\u001b[0;34m:\u001b[0m\u001b[0;34m\u001b[0m\u001b[0;34m\u001b[0m\u001b[0m\n",
      "\u001b[0;32m~/PycharmProjects/cad_naterre/venv/lib/python3.6/site-packages/pymongo/mongo_client.py\u001b[0m in \u001b[0;36m_retryable_read\u001b[0;34m(self, func, read_pref, session, address, retryable, exhaust)\u001b[0m\n\u001b[1;32m   1462\u001b[0m                         \u001b[0;31m# not support retryable reads, raise the last error.\u001b[0m\u001b[0;34m\u001b[0m\u001b[0;34m\u001b[0m\u001b[0;34m\u001b[0m\u001b[0m\n\u001b[1;32m   1463\u001b[0m                         \u001b[0;32mraise\u001b[0m \u001b[0mlast_error\u001b[0m\u001b[0;34m\u001b[0m\u001b[0;34m\u001b[0m\u001b[0m\n\u001b[0;32m-> 1464\u001b[0;31m                     \u001b[0;32mreturn\u001b[0m \u001b[0mfunc\u001b[0m\u001b[0;34m(\u001b[0m\u001b[0msession\u001b[0m\u001b[0;34m,\u001b[0m \u001b[0mserver\u001b[0m\u001b[0;34m,\u001b[0m \u001b[0msock_info\u001b[0m\u001b[0;34m,\u001b[0m \u001b[0mslave_ok\u001b[0m\u001b[0;34m)\u001b[0m\u001b[0;34m\u001b[0m\u001b[0;34m\u001b[0m\u001b[0m\n\u001b[0m\u001b[1;32m   1465\u001b[0m             \u001b[0;32mexcept\u001b[0m \u001b[0mServerSelectionTimeoutError\u001b[0m\u001b[0;34m:\u001b[0m\u001b[0;34m\u001b[0m\u001b[0;34m\u001b[0m\u001b[0m\n\u001b[1;32m   1466\u001b[0m                 \u001b[0;32mif\u001b[0m \u001b[0mretrying\u001b[0m\u001b[0;34m:\u001b[0m\u001b[0;34m\u001b[0m\u001b[0;34m\u001b[0m\u001b[0m\n",
      "\u001b[0;32m~/PycharmProjects/cad_naterre/venv/lib/python3.6/site-packages/pymongo/aggregation.py\u001b[0m in \u001b[0;36mget_cursor\u001b[0;34m(self, session, server, sock_info, slave_ok)\u001b[0m\n\u001b[1;32m    146\u001b[0m             \u001b[0msession\u001b[0m\u001b[0;34m=\u001b[0m\u001b[0msession\u001b[0m\u001b[0;34m,\u001b[0m\u001b[0;34m\u001b[0m\u001b[0;34m\u001b[0m\u001b[0m\n\u001b[1;32m    147\u001b[0m             \u001b[0mclient\u001b[0m\u001b[0;34m=\u001b[0m\u001b[0mself\u001b[0m\u001b[0;34m.\u001b[0m\u001b[0m_database\u001b[0m\u001b[0;34m.\u001b[0m\u001b[0mclient\u001b[0m\u001b[0;34m,\u001b[0m\u001b[0;34m\u001b[0m\u001b[0;34m\u001b[0m\u001b[0m\n\u001b[0;32m--> 148\u001b[0;31m             user_fields=self._user_fields)\n\u001b[0m\u001b[1;32m    149\u001b[0m \u001b[0;34m\u001b[0m\u001b[0m\n\u001b[1;32m    150\u001b[0m         \u001b[0mself\u001b[0m\u001b[0;34m.\u001b[0m\u001b[0m_process_result\u001b[0m\u001b[0;34m(\u001b[0m\u001b[0mresult\u001b[0m\u001b[0;34m,\u001b[0m \u001b[0msession\u001b[0m\u001b[0;34m,\u001b[0m \u001b[0mserver\u001b[0m\u001b[0;34m,\u001b[0m \u001b[0msock_info\u001b[0m\u001b[0;34m,\u001b[0m \u001b[0mslave_ok\u001b[0m\u001b[0;34m)\u001b[0m\u001b[0;34m\u001b[0m\u001b[0;34m\u001b[0m\u001b[0m\n",
      "\u001b[0;32m~/PycharmProjects/cad_naterre/venv/lib/python3.6/site-packages/pymongo/pool.py\u001b[0m in \u001b[0;36mcommand\u001b[0;34m(self, dbname, spec, slave_ok, read_preference, codec_options, check, allowable_errors, check_keys, read_concern, write_concern, parse_write_concern_error, collation, session, client, retryable_write, publish_events, user_fields)\u001b[0m\n\u001b[1;32m    611\u001b[0m                            \u001b[0muse_op_msg\u001b[0m\u001b[0;34m=\u001b[0m\u001b[0mself\u001b[0m\u001b[0;34m.\u001b[0m\u001b[0mop_msg_enabled\u001b[0m\u001b[0;34m,\u001b[0m\u001b[0;34m\u001b[0m\u001b[0;34m\u001b[0m\u001b[0m\n\u001b[1;32m    612\u001b[0m                            \u001b[0munacknowledged\u001b[0m\u001b[0;34m=\u001b[0m\u001b[0munacknowledged\u001b[0m\u001b[0;34m,\u001b[0m\u001b[0;34m\u001b[0m\u001b[0;34m\u001b[0m\u001b[0m\n\u001b[0;32m--> 613\u001b[0;31m                            user_fields=user_fields)\n\u001b[0m\u001b[1;32m    614\u001b[0m         \u001b[0;32mexcept\u001b[0m \u001b[0mOperationFailure\u001b[0m\u001b[0;34m:\u001b[0m\u001b[0;34m\u001b[0m\u001b[0;34m\u001b[0m\u001b[0m\n\u001b[1;32m    615\u001b[0m             \u001b[0;32mraise\u001b[0m\u001b[0;34m\u001b[0m\u001b[0;34m\u001b[0m\u001b[0m\n",
      "\u001b[0;32m~/PycharmProjects/cad_naterre/venv/lib/python3.6/site-packages/pymongo/network.py\u001b[0m in \u001b[0;36mcommand\u001b[0;34m(sock, dbname, spec, slave_ok, is_mongos, read_preference, codec_options, session, client, check, allowable_errors, address, check_keys, listeners, max_bson_size, read_concern, parse_write_concern_error, collation, compression_ctx, use_op_msg, unacknowledged, user_fields)\u001b[0m\n\u001b[1;32m    165\u001b[0m                 helpers._check_command_response(\n\u001b[1;32m    166\u001b[0m                     \u001b[0mresponse_doc\u001b[0m\u001b[0;34m,\u001b[0m \u001b[0;32mNone\u001b[0m\u001b[0;34m,\u001b[0m \u001b[0mallowable_errors\u001b[0m\u001b[0;34m,\u001b[0m\u001b[0;34m\u001b[0m\u001b[0;34m\u001b[0m\u001b[0m\n\u001b[0;32m--> 167\u001b[0;31m                     parse_write_concern_error=parse_write_concern_error)\n\u001b[0m\u001b[1;32m    168\u001b[0m     \u001b[0;32mexcept\u001b[0m \u001b[0mException\u001b[0m \u001b[0;32mas\u001b[0m \u001b[0mexc\u001b[0m\u001b[0;34m:\u001b[0m\u001b[0;34m\u001b[0m\u001b[0;34m\u001b[0m\u001b[0m\n\u001b[1;32m    169\u001b[0m         \u001b[0;32mif\u001b[0m \u001b[0mpublish\u001b[0m\u001b[0;34m:\u001b[0m\u001b[0;34m\u001b[0m\u001b[0;34m\u001b[0m\u001b[0m\n",
      "\u001b[0;32m~/PycharmProjects/cad_naterre/venv/lib/python3.6/site-packages/pymongo/helpers.py\u001b[0m in \u001b[0;36m_check_command_response\u001b[0;34m(response, msg, allowable_errors, parse_write_concern_error)\u001b[0m\n\u001b[1;32m    157\u001b[0m \u001b[0;34m\u001b[0m\u001b[0m\n\u001b[1;32m    158\u001b[0m             \u001b[0mmsg\u001b[0m \u001b[0;34m=\u001b[0m \u001b[0mmsg\u001b[0m \u001b[0;32mor\u001b[0m \u001b[0;34m\"%s\"\u001b[0m\u001b[0;34m\u001b[0m\u001b[0;34m\u001b[0m\u001b[0m\n\u001b[0;32m--> 159\u001b[0;31m             \u001b[0;32mraise\u001b[0m \u001b[0mOperationFailure\u001b[0m\u001b[0;34m(\u001b[0m\u001b[0mmsg\u001b[0m \u001b[0;34m%\u001b[0m \u001b[0merrmsg\u001b[0m\u001b[0;34m,\u001b[0m \u001b[0mcode\u001b[0m\u001b[0;34m,\u001b[0m \u001b[0mresponse\u001b[0m\u001b[0;34m)\u001b[0m\u001b[0;34m\u001b[0m\u001b[0;34m\u001b[0m\u001b[0m\n\u001b[0m\u001b[1;32m    160\u001b[0m \u001b[0;34m\u001b[0m\u001b[0m\n\u001b[1;32m    161\u001b[0m \u001b[0;34m\u001b[0m\u001b[0m\n",
      "\u001b[0;31mOperationFailure\u001b[0m: unknown top level operator: $Sports.Jouer"
     ]
    }
   ],
   "source": [
    "for i in db.Sportifs.aggregate([{ \"$unwind\":\"$Sports\"},\n",
    "                                { \"$match\" : { \"$Sports.Jouer\": { \"$exists\": False }}},\n",
    "                                { \"$project\": {\"_id\":1,\"Nom\":1}}]):\n",
    "    pprint(i)"
   ]
  },
  {
   "cell_type": "code",
   "execution_count": 47,
   "metadata": {},
   "outputs": [
    {
     "name": "stdout",
     "output_type": "stream",
     "text": [
      "{'Nom': 'BOUTAHAR'}\n",
      "{'Nom': 'HUE'}\n",
      "{'Nom': 'DORLEANS'}\n",
      "{'Nom': 'RETALDI'}\n",
      "{'Nom': 'GOMEZ'}\n",
      "{'Nom': 'TANQUE'}\n",
      "{'Nom': 'DJELOUDANE'}\n",
      "{'Nom': 'VASSEMON'}\n",
      "{'Nom': 'VALIN'}\n",
      "{'Nom': 'HEDDI'}\n",
      "{'Nom': 'KALOMBO'}\n",
      "{'Nom': 'GUERRAOUI'}\n",
      "{'Nom': 'BOISSEAU'}\n",
      "{'Nom': 'GUIGUI'}\n",
      "{'Nom': 'CLERICE'}\n",
      "{'Nom': 'TIZEGHAT'}\n",
      "{'Nom': 'KERVADEC'}\n",
      "{'Nom': 'ROUSSEL'}\n",
      "{'Nom': 'SCHINK'}\n",
      "{'Nom': 'STEMPUT'}\n",
      "{'Nom': 'VAN CAUTER'}\n",
      "{'Nom': 'LAZARRE'}\n",
      "{'Nom': 'BELZ'}\n",
      "{'Nom': 'HENRY'}\n"
     ]
    }
   ],
   "source": [
    "for i in db.Sportifs.find(\n",
    "    {\n",
    "        \"Sports.Jouer\" : { \"$exists\" : True },\n",
    "        \"Sports.Entrainer\" : { \"$exists\" : True }\n",
    "    },\n",
    "    {\n",
    "        \"_id\": 0,\n",
    "        \"Nom\":  1,\n",
    "        #\"Sports.Entrainer\":1,\n",
    "        #\"Sports.Jouer\":1\n",
    "    }\n",
    "):\n",
    "    pprint(i)"
   ]
  },
  {
   "cell_type": "markdown",
   "metadata": {},
   "source": [
    "Quels sont les sportifs qui sont des conseillers ?"
   ]
  },
  {
   "cell_type": "markdown",
   "metadata": {},
   "source": [
    "Pour le sportif “Kervadec” quel est le nom de son conseiller ?"
   ]
  },
  {
   "cell_type": "code",
   "execution_count": 72,
   "metadata": {},
   "outputs": [
    {
     "name": "stdout",
     "output_type": "stream",
     "text": [
      "1\n"
     ]
    }
   ],
   "source": [
    "aa=db.Sportifs.find({\"Nom\":\"KERVADEC\"})\n",
    "print(aa[0][\"IdSportifConseiller\"])"
   ]
  },
  {
   "cell_type": "code",
   "execution_count": 76,
   "metadata": {},
   "outputs": [
    {
     "name": "stdout",
     "output_type": "stream",
     "text": [
      "{'Age': 30,\n",
      " 'IdSportif': 1,\n",
      " 'Nom': 'BOUTAHAR',\n",
      " 'Prenom': 'Abderahim',\n",
      " 'Sexe': 'm'}\n"
     ]
    }
   ],
   "source": [
    "for i in db.Sportifs.find(\n",
    "    {\n",
    "        \"IdSportif\": db.Sportifs.find({ \"Nom\": \"KERVADEC\" })[0][\"IdSportifConseiller\"]\n",
    "    },\n",
    "    {\n",
    "        \"_id\": 0,\n",
    "        \"Sports\": 0\n",
    "    }\n",
    "):\n",
    "    pprint(i)"
   ]
  },
  {
   "cell_type": "markdown",
   "metadata": {},
   "source": [
    "Quels entraîneurs entraînent du hand ball et du basket ball ?"
   ]
  },
  {
   "cell_type": "code",
   "execution_count": 78,
   "metadata": {},
   "outputs": [
    {
     "name": "stdout",
     "output_type": "stream",
     "text": [
      "{'Nom': 'BOUTAHAR',\n",
      " 'Sports': {'Entrainer': ['Basket ball',\n",
      "                          'Volley ball',\n",
      "                          'Hand ball',\n",
      "                          'Hockey',\n",
      "                          'Badmington']}}\n",
      "{'Nom': 'HUE',\n",
      " 'Sports': {'Entrainer': ['Basket ball',\n",
      "                          'Volley ball',\n",
      "                          'Hand ball',\n",
      "                          'Badmington']}}\n",
      "{'Nom': 'DORLEANS',\n",
      " 'Sports': {'Entrainer': ['Basket ball', 'Ping pong', 'Boxe']}}\n",
      "{'Nom': 'KERVADEC',\n",
      " 'Sports': {'Entrainer': ['Basket ball',\n",
      "                          'Volley ball',\n",
      "                          'Hand ball',\n",
      "                          'Tennis',\n",
      "                          'Hockey',\n",
      "                          'Badmington',\n",
      "                          'Ping pong',\n",
      "                          'Boxe']}}\n",
      "{'Nom': 'BELZ', 'Sports': {'Entrainer': 'Basket ball'}}\n",
      "{'Nom': 'HENRY', 'Sports': {'Entrainer': ['Basket ball', 'Hand ball']}}\n"
     ]
    }
   ],
   "source": [
    "for i in db.Sportifs.find(\n",
    "    {\n",
    "        \"Sports.Entrainer\": \"Hand ball\", \n",
    "        \"Sports.Entrainer\": \"Basket ball\" \n",
    "    },\n",
    "    {\n",
    "        \"_id\": 0,\n",
    "        \"Nom\": 1,\n",
    "        \"Sports.Entrainer\": 1\n",
    "    }\n",
    "):\n",
    "    pprint(i)"
   ]
  },
  {
   "cell_type": "markdown",
   "metadata": {},
   "source": [
    "Quelle est la moyenne d’âge des sportives qui pratiquent du basket ball ?"
   ]
  },
  {
   "cell_type": "code",
   "execution_count": 88,
   "metadata": {},
   "outputs": [
    {
     "name": "stdout",
     "output_type": "stream",
     "text": [
      "{'Moyenne': 24.6}\n"
     ]
    }
   ],
   "source": [
    "for i in db.Sportifs.aggregate([\n",
    "    { \"$match\": { \"Sports.Jouer\": \"Basket ball\", \"Sexe\": { \"$in\": [ \"f\", \"F\" ]} }},\n",
    "    { \"$group\": { \"_id\": \"NULL\", \"Moyenne\": { \"$avg\": \"$Age\" }}},\n",
    "    { \"$project\": {\"_id\":0,\"Moyenne\":1}}\n",
    "]):\n",
    "    pprint(i)"
   ]
  },
  {
   "cell_type": "markdown",
   "metadata": {},
   "source": [
    "Quels sportifs n’ont pas de conseillers ?"
   ]
  },
  {
   "cell_type": "code",
   "execution_count": 91,
   "metadata": {},
   "outputs": [
    {
     "name": "stdout",
     "output_type": "stream",
     "text": [
      "{'Nom': 'BOUTAHAR'}\n",
      "{'Nom': 'CHAVANT'}\n",
      "{'Nom': 'CLERICE'}\n",
      "{'Nom': 'CHESNIER'}\n",
      "{'Nom': 'BONE'}\n",
      "{'Nom': 'CHAUVIN'}\n",
      "{'Nom': 'RIQUIER'}\n",
      "{'Nom': 'BONHOMME'}\n"
     ]
    }
   ],
   "source": [
    "for i in db.Sportifs.find({\"IdSportifConseiller\" : { \"$exists\" : False }},{\"_id\":0,\"Nom\":1}):\n",
    "    pprint(i)"
   ]
  },
  {
   "cell_type": "markdown",
   "metadata": {},
   "source": [
    "Pour chaque sportif donner le nombre de sports qu’il arbitre"
   ]
  },
  {
   "cell_type": "code",
   "execution_count": 134,
   "metadata": {},
   "outputs": [
    {
     "ename": "SyntaxError",
     "evalue": "invalid syntax (<ipython-input-134-dab6164df4a6>, line 2)",
     "output_type": "error",
     "traceback": [
      "\u001b[0;36m  File \u001b[0;32m\"<ipython-input-134-dab6164df4a6>\"\u001b[0;36m, line \u001b[0;32m2\u001b[0m\n\u001b[0;31m    varUnwind=\"{$unwind: \"$Sports.Arbitrer\"}\u001b[0m\n\u001b[0m                          ^\u001b[0m\n\u001b[0;31mSyntaxError\u001b[0m\u001b[0;31m:\u001b[0m invalid syntax\n"
     ]
    }
   ],
   "source": [
    "varMatch={\"$match\": { \"Sports.Arbitrer\": { \"$exists\": True }}}\n",
    "varUnwind=\"{$unwind: \"$Sports.Arbitrer\"}\n",
    "varGroup={\"$group\": { \"_id\": \"$Nom\", \"nb_arbitrage\": { \"$sum\": 1 }}}\n",
    "varProject={\"$project\": {\"_id\":1,\"nb_arbitrage\":1}}\n",
    "\n",
    "for i in db.Sportifs.aggregate([varMatch,varUnwind,varGroup,varProject]):\n",
    "    pprint(i)"
   ]
  }
 ],
 "metadata": {
  "kernelspec": {
   "display_name": "Python 3",
   "language": "python",
   "name": "python3"
  },
  "language_info": {
   "codemirror_mode": {
    "name": "ipython",
    "version": 3
   },
   "file_extension": ".py",
   "mimetype": "text/x-python",
   "name": "python",
   "nbconvert_exporter": "python",
   "pygments_lexer": "ipython3",
   "version": "3.6.9"
  }
 },
 "nbformat": 4,
 "nbformat_minor": 4
}
