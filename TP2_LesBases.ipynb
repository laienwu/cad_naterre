{
 "cells": [
  {
   "cell_type": "markdown",
   "metadata": {},
   "source": [
    "# Encore Les Bases Python"
   ]
  },
  {
   "cell_type": "markdown",
   "metadata": {},
   "source": [
    "## Les listes"
   ]
  },
  {
   "cell_type": "markdown",
   "metadata": {},
   "source": [
    "Les listes sont un type de structure de donnée qui permet de stocker un ensemble de valeur. Executer le code suivant, que fais-t-il ? "
   ]
  },
  {
   "cell_type": "code",
   "execution_count": 9,
   "metadata": {},
   "outputs": [
    {
     "name": "stdout",
     "output_type": "stream",
     "text": [
      "0\n",
      "999\n"
     ]
    }
   ],
   "source": [
    "a = list(range(1000))\n",
    "print(a[0])\n",
    "print(a[-1])"
   ]
  },
  {
   "cell_type": "code",
   "execution_count": null,
   "metadata": {},
   "outputs": [],
   "source": [
    "définit la liste a de 0 à 999.\n",
    "ça affiche le premier elt d'indexe 0 et le dernier elt de cette liste"
   ]
  },
  {
   "cell_type": "markdown",
   "metadata": {},
   "source": [
    "* La fonction range() se définit liée à la fonction list()comme suit: range(valeur_initiale, borne_de_fin, pas)\n",
    "\n",
    "Récupérer l'avant dernier élément de la liste\n"
   ]
  },
  {
   "cell_type": "code",
   "execution_count": 10,
   "metadata": {},
   "outputs": [
    {
     "name": "stdout",
     "output_type": "stream",
     "text": [
      "998\n"
     ]
    }
   ],
   "source": [
    "#TBD\n",
    "print(a[-2])"
   ]
  },
  {
   "cell_type": "markdown",
   "metadata": {},
   "source": [
    "La fonction len() renvoie le nombre d’éléments. Par exemple :\n"
   ]
  },
  {
   "cell_type": "code",
   "execution_count": 11,
   "metadata": {},
   "outputs": [
    {
     "name": "stdout",
     "output_type": "stream",
     "text": [
      "[7, 8, 9]\n"
     ]
    },
    {
     "data": {
      "text/plain": [
       "3"
      ]
     },
     "execution_count": 11,
     "metadata": {},
     "output_type": "execute_result"
    }
   ],
   "source": [
    "a = list(range(7,10))\n",
    "print(a)\n",
    "len(a)"
   ]
  },
  {
   "cell_type": "markdown",
   "metadata": {},
   "source": [
    "Executer le code suivant. Que fait-il ?"
   ]
  },
  {
   "cell_type": "code",
   "execution_count": 12,
   "metadata": {},
   "outputs": [
    {
     "name": "stdout",
     "output_type": "stream",
     "text": [
      "[7, 8, 9, 7, 8, 9]\n"
     ]
    }
   ],
   "source": [
    "b = a + a\n",
    "print(b)"
   ]
  },
  {
   "cell_type": "markdown",
   "metadata": {},
   "source": [
    "Executer le code suivant. Que fait-il ?"
   ]
  },
  {
   "cell_type": "code",
   "execution_count": 13,
   "metadata": {},
   "outputs": [
    {
     "name": "stdout",
     "output_type": "stream",
     "text": [
      "[7, 8, 9, 5]\n"
     ]
    }
   ],
   "source": [
    "a.append(5)\n",
    "print(a)"
   ]
  },
  {
   "cell_type": "markdown",
   "metadata": {},
   "source": [
    "il est possible de mélanger dans une même liste des variables de type différent. On peut aussi mettre une liste dans une liste.\n",
    "\n",
    "Compléter le code ci dessous et interpréter les outputs.\n"
   ]
  },
  {
   "cell_type": "code",
   "execution_count": 1,
   "metadata": {},
   "outputs": [
    {
     "name": "stdout",
     "output_type": "stream",
     "text": [
      "[1, 2] ['trois', 4.0] [1, 2, 'trois', 4.0, 'cinq']\n"
     ]
    }
   ],
   "source": [
    "# On construit une liste avec des crochets []\n",
    "liste1 = [1, 2]\n",
    "# on peut mélanger les types dans une liste\n",
    "liste2 = [ \"trois\", 4.]\n",
    "\n",
    "#additionner 2 listes\n",
    "liste = liste1 + liste2\n",
    "\n",
    "#Ajouter dans liste l'élement \"cinq\"\n",
    "\n",
    "liste.append(\"cinq\")\n",
    "#Afficher le contenu des 3 listes\n",
    "\n",
    "print(liste1, liste2, liste)"
   ]
  },
  {
   "cell_type": "markdown",
   "metadata": {},
   "source": [
    "* Remplir une liste d'apprenants, afficher le nombre des enregistrés ainsi que le premier et le dernier de la liste . \n",
    "* Ajouter, ensuite, un nouvel apprenant et afficher la liste finale"
   ]
  },
  {
   "cell_type": "code",
   "execution_count": 15,
   "metadata": {},
   "outputs": [
    {
     "name": "stdout",
     "output_type": "stream",
     "text": [
      "['Coline, Sophie', 'Djohra', 'Mathilde', 'Nadia', 'Fatma', 'Marine', 'Sarah']\n"
     ]
    }
   ],
   "source": [
    "#TBD\n",
    "apprenants = [\"Coline, Sophie\", \"Djohra\", \"Mathilde\", \"Nadia\", \"Fatma\", \"Marine\"]\n",
    "apprenants.append(\"Sarah\")\n",
    "print(apprenants)"
   ]
  },
  {
   "cell_type": "markdown",
   "metadata": {},
   "source": [
    "* Les listes & les chaînes de caractères -> avec la méthode split, il est parfois utile de transformer une chaine de caractère en liste. Créer une chaîne de caractère avec le texte suivant :\n",
    "\n",
    "\"Bonjour, l'intelligence artificielle c'est trop bien\"\n",
    "\n",
    "Utiliser split pour découper la chaîne de caractère en mots."
   ]
  },
  {
   "cell_type": "code",
   "execution_count": 1,
   "metadata": {},
   "outputs": [
    {
     "name": "stdout",
     "output_type": "stream",
     "text": [
      "Bonjour, l'intelligence artificielle c'est trop bien\n",
      "6\n",
      "['Bonjour,', \"l'intelligence\", 'artificielle', \"c'est\", 'trop', 'bien']\n"
     ]
    }
   ],
   "source": [
    "#TBD\n",
    "texte = \"Bonjour, l'intelligence artificielle c'est trop bien\"\n",
    "print(texte)\n",
    "a=texte.split(' ')\n",
    "print(len(a))\n",
    "print( a)"
   ]
  },
  {
   "cell_type": "markdown",
   "metadata": {},
   "source": [
    "* L'inverse est il possible ? avec Quelle méthode?\n",
    "\n",
    "Utiliser cette méthode pour stocker le contenu de cette liste en une chaine de caractère . \n",
    "\n",
    "liste=[\"Ma formation\",\"IA\",\"démarre bien !\"]"
   ]
  },
  {
   "cell_type": "code",
   "execution_count": 17,
   "metadata": {},
   "outputs": [
    {
     "name": "stdout",
     "output_type": "stream",
     "text": [
      "Ma formation IA démarre bien !\n"
     ]
    }
   ],
   "source": [
    "#TBD\n",
    "liste=[\"Ma formation\",\"IA\",\"démarre bien !\"]\n",
    "s = \" \"\n",
    "s = s.join(liste)\n",
    "print(s)"
   ]
  },
  {
   "cell_type": "markdown",
   "metadata": {},
   "source": [
    "* soit la liste suivante:\n",
    "\n",
    "weekdays = ['mon', 'tues', 'wed', 'thurs', 'fri']"
   ]
  },
  {
   "cell_type": "code",
   "execution_count": 23,
   "metadata": {},
   "outputs": [
    {
     "name": "stdout",
     "output_type": "stream",
     "text": [
      "mon\n",
      "['mon', 'tues', 'wed']\n",
      "['mon', 'wed', 'fri']\n",
      "['mon', 'wed', 'fri']\n",
      "['fri', 'thurs', 'wed', 'tues', 'mon']\n",
      "['fri', 'mon', 'thurs', 'tues', 'wed']\n",
      "['wed', 'tues', 'thurs', 'mon', 'fri']\n",
      "['wed', 'tues', 'thurs', 'mon', 'fri']\n",
      "['wed', 'tues', 'thurs', 'mon', 'fri']\n"
     ]
    }
   ],
   "source": [
    "weekdays = ['mon', 'tues', 'wed', 'thurs', 'fri']\n",
    "# Afficher le premier element de la liste\n",
    "#TBD\n",
    "print(weekdays[0])\n",
    "#Afficher les elements 0 (inclus) à 3 (exclus)\n",
    "#TBd\n",
    "print(weekdays[:3])\n",
    "#Afficher avec un pas de 2 (les indices: 0,2,4)\n",
    "#TBD\n",
    "print(weekdays[::2])\n",
    "print(weekdays[0:5:2])\n",
    "#Afficher la liste inversée\n",
    "#TBD\n",
    "print(weekdays[::-1])\n",
    "#Afficher la liste triée\n",
    "#TBD\n",
    "weekdays.sort()\n",
    "print(weekdays)\n",
    "#Afficher la liste inversement triée\n",
    "#1ere methode\n",
    "print(weekdays[::-1])\n",
    "#2ere methode\n",
    "weekdays.sort()\n",
    "weekdays.reverse()\n",
    "print(weekdays)\n",
    "#3ere methode\n",
    "weekdays.sort(reverse=True)\n",
    "print(weekdays)\n"
   ]
  },
  {
   "cell_type": "markdown",
   "metadata": {},
   "source": [
    "## Les Sets"
   ]
  },
  {
   "cell_type": "markdown",
   "metadata": {},
   "source": [
    "\n",
    "Les sets sont un type de donnée similaire aux listes mais avec quelques petites particularités..\n",
    "un Set est défini par des accolades et non par des crochets (liste)\n",
    "\n"
   ]
  },
  {
   "cell_type": "markdown",
   "metadata": {},
   "source": [
    "* Créer une liste contenant les valeurs suivantes : [1, 2, 1, 3, 5, 6, 3]\n",
    "\n",
    "A partir de cette liste précédente créer un set. Parcourir la liste précédente et le set et afficher les éléments. \n",
    "\n",
    "Quelle est la différence en liste et Set ?\n"
   ]
  },
  {
   "cell_type": "code",
   "execution_count": 25,
   "metadata": {},
   "outputs": [
    {
     "name": "stdout",
     "output_type": "stream",
     "text": [
      "7\n",
      "{1, 2, 3, 5, 6}\n",
      "5\n"
     ]
    }
   ],
   "source": [
    "#TBD\n",
    "liste = [1, 2, 1, 3, 6,5, 3]\n",
    "print(len(liste))\n",
    "s = set(liste)\n",
    "print(s)\n",
    "print(len(s))\n",
    "# cannot have multiple occurrences of the same element and store unordered values. \n",
    "# it makes sets highly useful to efficiently remove duplicate values from a list or tuple \n",
    "# and to perform common math operations like unions and intersections."
   ]
  },
  {
   "cell_type": "markdown",
   "metadata": {},
   "source": [
    "* Créez 4 listes hiver, printemps, été et automne contenant chacune les mois correspondant à ces saisons. \n",
    "* Créez ensuite une liste saisons contenant les sous-listes hiver, printemps,ete et automne.\n",
    "    \n",
    "     "
   ]
  },
  {
   "cell_type": "code",
   "execution_count": 20,
   "metadata": {},
   "outputs": [],
   "source": [
    "#TBD\n",
    "hiver = ['décembre', 'janvier', 'février']\n",
    "printemps = ['mars', 'avril', 'mai']\n",
    "été = ['juin', 'juillet', 'août']\n",
    "automne = ['septembre', 'octobre', 'novembre']\n",
    "saisons = [hiver, printemps, été, automne]"
   ]
  },
  {
   "cell_type": "code",
   "execution_count": null,
   "metadata": {},
   "outputs": [],
   "source": [
    "#Interpréter les affichages suivants ?\n",
    "print(saisons[2]) \n",
    "print(saisons[1][0]) \n",
    "print(saisons[0:])\n",
    "print(saisons[:][1])# enchainement des instructions"
   ]
  },
  {
   "cell_type": "markdown",
   "metadata": {},
   "source": [
    "* Écrire une fonction d'intersection d'ensembles diff_sym( E1, E2) qui retourne la différence symétrique (l'intersection) de deux ensembles (set) E1 et E2 :\n",
    "\n",
    "indication: E1 Δ E2 = (E1 - E2) ∪ (E2 - E1)\n",
    "\n",
    "Exemple d'exécution:\n",
    "\n",
    "E1={3,5,6,7}\n",
    "\n",
    "E2={4,3,7,9}\n",
    "\n",
    "diff_sym(E1,E2)\n",
    "\n",
    "{4, 5, 6, 9}"
   ]
  },
  {
   "cell_type": "code",
   "execution_count": 22,
   "metadata": {},
   "outputs": [
    {
     "name": "stdout",
     "output_type": "stream",
     "text": [
      "{4, 5, 6, 9}\n"
     ]
    }
   ],
   "source": [
    "#TBD\n",
    "def diff_sym(lst1, lst2):\n",
    "    s1 = set(lst1)\n",
    "    s2 = set(lst2)\n",
    "    return(s1 ^ s2)\n",
    "# autre solution\n",
    "#    e12 = [valeur for valeur in lst1 if valeur not in lst2]\n",
    "#    e21 = [valeur for valeur in lst2 if valeur not in lst1]\n",
    "#    return e12 + e21\n",
    "\n",
    "print(diff_sym([3, 5, 6, 7], [4, 3, 7, 9]))"
   ]
  },
  {
   "cell_type": "code",
   "execution_count": null,
   "metadata": {},
   "outputs": [],
   "source": []
  },
  {
   "cell_type": "markdown",
   "metadata": {},
   "source": [
    "## Les tuples\n",
    "\n",
    "Un tuple est une liste qui ne peut plus être modifiée. On les utilise pour définir des constantes qui n'ont pas vocation à changer.\n"
   ]
  },
  {
   "cell_type": "code",
   "execution_count": 23,
   "metadata": {},
   "outputs": [
    {
     "data": {
      "text/plain": [
       "tuple"
      ]
     },
     "execution_count": 23,
     "metadata": {},
     "output_type": "execute_result"
    }
   ],
   "source": [
    "mon_tuple1 = (1, \"Hello\", \"François\")\n",
    "mon_tuple2 = 1, 2, 3\n",
    "type(mon_tuple2)"
   ]
  },
  {
   "cell_type": "markdown",
   "metadata": {},
   "source": [
    "* soit cette liste:\n",
    "\n",
    "a=  [0, 1, 'two']\n",
    "\n",
    "suivre les instructions ci dessous:"
   ]
  },
  {
   "cell_type": "code",
   "execution_count": 29,
   "metadata": {},
   "outputs": [
    {
     "name": "stdout",
     "output_type": "stream",
     "text": [
      "(0, 1) <class 'tuple'>\n",
      "1\n",
      "0\n",
      "(0, 1, 3, 4)\n"
     ]
    },
    {
     "data": {
      "text/plain": [
       "[0, 1, 3, 4]"
      ]
     },
     "execution_count": 29,
     "metadata": {},
     "output_type": "execute_result"
    }
   ],
   "source": [
    "a=[0,1]\n",
    "# creer un tuple t à partir de la liste a et afficher son length\n",
    "#\n",
    "t = tuple(a)\n",
    "print(t, type(t))\n",
    "# compter le nombre d'instances de 0 dans t\n",
    "#\n",
    "print(t.count(0))\n",
    "# trouver l'index de la première instance de cet element trouvé:\n",
    "#\n",
    "print(t.index(0))\n",
    "# Que remarquez vous si vous lancer la commande cidessous:\n",
    "#t[2] = 2\n",
    "\n",
    "#Ajouter au tuple t, les 2 elements (3, 4)\n",
    "#\n",
    "t += (3,4)\n",
    "print(t)\n",
    "#trier le tuple t\n",
    "#\n",
    "sorted(t)"
   ]
  },
  {
   "cell_type": "markdown",
   "metadata": {},
   "source": [
    "## Bonus"
   ]
  },
  {
   "cell_type": "markdown",
   "metadata": {},
   "source": [
    "* Faire un jeu qui demande à l'utilisateur de deviner un chiffre généré aléatoirement entre 1 et 10 et qui précise si le chiffre rentré est plus grand ou plus petit que le chiffre généré. \n",
    "\n",
    "Exemple d'exécution : le programme a généré le chiffre 8 aléatoirement \n",
    "\n",
    "\"Entrer un chiffre\" \n",
    "=>5 \", \n",
    "\n",
    "Le chiffre mystère est plus élevé\" \n",
    "=>9 \n",
    "\n",
    "\"Le chiffre mystère est plus petit\"\n",
    "=>8 \n",
    "\n",
    "\"Vous avez trouvé le bon chiffre !\""
   ]
  },
  {
   "cell_type": "code",
   "execution_count": 32,
   "metadata": {},
   "outputs": [
    {
     "name": "stdout",
     "output_type": "stream",
     "text": [
      "Entrer un chiffre : 5\n",
      "Le chiffre mystère est plus élevé : 8\n",
      "Le chiffre mystère est plus petit : 7\n",
      "Vous avez trouvé le bon chiffre !\n"
     ]
    }
   ],
   "source": [
    "import random\n",
    "chiffre = random.randint(1, 10)\n",
    "\n",
    "ent_int = int(input(\"Entrer un chiffre : \"))\n",
    "while ent_int != chiffre:\n",
    "    if ent_int < chiffre:\n",
    "        ent_int = int(input(\"Le chiffre mystère est plus élevé : \"))\n",
    "    elif ent_int > chiffre:\n",
    "        ent_int = int(input(\"Le chiffre mystère est plus petit : \"))\n",
    "    \n",
    "print(\"Vous avez trouvé le bon chiffre !\")"
   ]
  },
  {
   "cell_type": "code",
   "execution_count": 36,
   "metadata": {},
   "outputs": [
    {
     "name": "stdout",
     "output_type": "stream",
     "text": [
      "Entrer un chiffre : 5\n",
      "Le chiffre mystère est plus petit : 4\n",
      "Le chiffre mystère est plus petit : 3\n",
      "Le chiffre mystère est plus petit : 2\n",
      "bravo\n"
     ]
    }
   ],
   "source": [
    "import random\n",
    "chiffre = random.randint(1, 10)\n",
    "ent_int = int(input(\"Entrer un chiffre : \"))\n",
    "\n",
    "while True:\n",
    "    \n",
    "    if ent_int < chiffre:\n",
    "        ent_int = int(input(\"Le chiffre mystère est plus élevé : \"))\n",
    "    elif ent_int > chiffre:\n",
    "        ent_int = int(input(\"Le chiffre mystère est plus petit : \"))\n",
    "    else: \n",
    "        print('bravo')\n",
    "        break\n"
   ]
  },
  {
   "cell_type": "code",
   "execution_count": null,
   "metadata": {},
   "outputs": [],
   "source": [
    "# list : on peut changer les valeurs, accéder aux index\n",
    "# tuple : fixe, accéder aux index \n",
    "#set : index pas important, pas de doublons"
   ]
  }
 ],
 "metadata": {
  "kernelspec": {
   "display_name": "Python 3",
   "language": "python",
   "name": "python3"
  },
  "language_info": {
   "codemirror_mode": {
    "name": "ipython",
    "version": 3
   },
   "file_extension": ".py",
   "mimetype": "text/x-python",
   "name": "python",
   "nbconvert_exporter": "python",
   "pygments_lexer": "ipython3",
   "version": "3.7.3"
  }
 },
 "nbformat": 4,
 "nbformat_minor": 2
}
