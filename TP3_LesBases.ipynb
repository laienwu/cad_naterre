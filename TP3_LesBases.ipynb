{
 "cells": [
  {
   "cell_type": "markdown",
   "metadata": {},
   "source": [
    "# Les Bases Python"
   ]
  },
  {
   "cell_type": "markdown",
   "metadata": {},
   "source": [
    "## Les structures de controle; les if\n",
    "\n",
    "Les conditions permettent d'exécuter une partie du code selon certaines valeurs.\n",
    "\n",
    "Analyser le code ci dessous!\n"
   ]
  },
  {
   "cell_type": "code",
   "execution_count": 66,
   "metadata": {},
   "outputs": [],
   "source": [
    "from functools import reduce \n"
   ]
  },
  {
   "cell_type": "code",
   "execution_count": null,
   "metadata": {},
   "outputs": [],
   "source": [
    "taille = 120\n",
    "\n",
    "if taille < 130:\n",
    "    print(\"La taille minimale pour l'attraction est de 150cm !\")\n",
    "elif taille > 210:\n",
    "    print(\"Vous êtes trop grand, vous ne pouvez pas entrer !\")\n",
    "else:\n",
    "    print(\"Vous pouvez y aller.\")"
   ]
  },
  {
   "cell_type": "markdown",
   "metadata": {},
   "source": [
    "* Ecrire un programme qui vérifie l'admissibilité d'un étudiant. Il est déclaré admis s'il a une moyenne > ou egale à 10 sinon il est refusé."
   ]
  },
  {
   "cell_type": "code",
   "execution_count": 6,
   "metadata": {},
   "outputs": [
    {
     "name": "stdout",
     "output_type": "stream",
     "text": [
      "entrez la note à vérifier: 20131\n"
     ]
    },
    {
     "data": {
      "text/plain": [
       "'recalé'"
      ]
     },
     "execution_count": 6,
     "metadata": {},
     "output_type": "execute_result"
    }
   ],
   "source": [
    "def admis(max=20,min=10):\n",
    "    note=float(input(\"entrez la note à vérifier: \"))\n",
    "    if max>=note>=min:\n",
    "        return \"admis\"\n",
    "    else:\n",
    "        return \"recalé\"\n",
    "admis()"
   ]
  },
  {
   "cell_type": "markdown",
   "metadata": {},
   "source": [
    "* Ecrire un programme qui affiche le nombre le plus grand de trois nombres réels saisis. "
   ]
  },
  {
   "cell_type": "code",
   "execution_count": 24,
   "metadata": {},
   "outputs": [
    {
     "name": "stdout",
     "output_type": "stream",
     "text": [
      "entrez les chiffres: 23 232 56\n"
     ]
    },
    {
     "data": {
      "text/plain": [
       "232.0"
      ]
     },
     "execution_count": 24,
     "metadata": {},
     "output_type": "execute_result"
    }
   ],
   "source": [
    "def maxi():\n",
    "    try:\n",
    "        avar=input(\"entrez les chiffres: \").split()\n",
    "        if len(avar)!=3:\n",
    "            print(\"trois arguments attendus\")\n",
    "        liste=[float(i) for i in avar]\n",
    "    except ValueError as e:\n",
    "        print('impossible de convertir en float')\n",
    "        raise e\n",
    "    else:\n",
    "        return max(liste)\n",
    "maxi()"
   ]
  },
  {
   "cell_type": "markdown",
   "metadata": {},
   "source": [
    "\n",
    "* Ecrire un programme qui affiche si le nombre en entré est positif, négatif ou nul"
   ]
  },
  {
   "cell_type": "code",
   "execution_count": null,
   "metadata": {},
   "outputs": [],
   "source": [
    "#TBD"
   ]
  },
  {
   "cell_type": "markdown",
   "metadata": {},
   "source": [
    "## Les boucles `for` "
   ]
  },
  {
   "cell_type": "markdown",
   "metadata": {},
   "source": [
    "\n",
    "Effectuer des répétitions est possible avec la boucle for. La variable i contient le numéro de la répétition, appelée aussi itération, celui-ci commence à 0.\n",
    "\n",
    "Analyser le code ci dessous"
   ]
  },
  {
   "cell_type": "code",
   "execution_count": null,
   "metadata": {},
   "outputs": [],
   "source": [
    "for i in range(10):\n",
    "    print(i)"
   ]
  },
  {
   "cell_type": "markdown",
   "metadata": {},
   "source": [
    "* A l'aide d'une boucle for (sans utiliser la fonction native sum), ecrire un programme qui calcule la somme des élements de la liste [0,1,2,3,4,5]"
   ]
  },
  {
   "cell_type": "code",
   "execution_count": 3,
   "metadata": {},
   "outputs": [
    {
     "data": {
      "text/plain": [
       "0"
      ]
     },
     "execution_count": 3,
     "metadata": {},
     "output_type": "execute_result"
    }
   ],
   "source": [
    "liste=[0,1,2,3,4,5]\n",
    "s=0\n",
    "[s+i for i in liste]\n",
    "s"
   ]
  },
  {
   "cell_type": "markdown",
   "metadata": {},
   "source": [
    "* Calculer le nombre de caractères dans le mot \"BONJOUR\""
   ]
  },
  {
   "cell_type": "code",
   "execution_count": 47,
   "metadata": {},
   "outputs": [
    {
     "name": "stdout",
     "output_type": "stream",
     "text": [
      "7\n"
     ]
    }
   ],
   "source": [
    "c='BONJOUR'\n",
    "print(len(c))"
   ]
  },
  {
   "cell_type": "markdown",
   "metadata": {},
   "source": [
    "* Exécuter et Interpréter le code ci desssous:"
   ]
  },
  {
   "cell_type": "code",
   "execution_count": null,
   "metadata": {},
   "outputs": [],
   "source": [
    "## break & continue\n",
    "for n in range(2, 10):\n",
    "    if n % 2 == 0:\n",
    "        print(\"c'est un nombre pair: \", n)\n",
    "        continue\n",
    "    if n > 5:\n",
    "        print(\"n > 5!\")\n",
    "        break"
   ]
  },
  {
   "cell_type": "markdown",
   "metadata": {},
   "source": [
    "la fonction input() permet la lecture d’informations à partir du clavier\n",
    "\n",
    "Par défaut, elle renvoie une chaîne de caractères. Il faut donc utiliser la fonction int() qui permet d’obtenir un entier.\n"
   ]
  },
  {
   "cell_type": "code",
   "execution_count": null,
   "metadata": {},
   "outputs": [],
   "source": [
    "nom = input('Entrez votre nom : ')\n",
    "print(\"Bonjour\", nom, \"!\")"
   ]
  },
  {
   "cell_type": "code",
   "execution_count": null,
   "metadata": {},
   "outputs": [],
   "source": [
    "x = int(input(\"Donnez un entier : \"))\n",
    "print(\"Vous avez entré \",x)"
   ]
  },
  {
   "cell_type": "markdown",
   "metadata": {},
   "source": [
    "* Programme qui vérifie l'admissibilité d'un étudiant qui passe trois examens. Il est déclaré admis si :\n",
    "\n",
    "    * soit, il a au moins 9 points à chaque examen.\n",
    "    * soit, la moyenne des trois examens est au moins égale à 10 points et la plus basse note est au moins égale 8 points.\n",
    "\n",
    "S'il n'est pas admis alors il est refusé.\n"
   ]
  },
  {
   "cell_type": "code",
   "execution_count": 26,
   "metadata": {},
   "outputs": [
    {
     "name": "stdout",
     "output_type": "stream",
     "text": [
      "entrez les notes: 20 20 20\n",
      "Gogo gagetto next lvl\n"
     ]
    }
   ],
   "source": [
    "def admission():\n",
    "    try:\n",
    "        avar=input(\"entrez les notes: \").split()\n",
    "        if len(avar)!=3:\n",
    "            print(\"veuillez entrez 3 notes, 0 si absence de note.\")\n",
    "            return None\n",
    "        liste=[float(i) for i in avar]\n",
    "    except ValueError as e:\n",
    "        print('impossible de convertir en float')\n",
    "        raise e\n",
    "    if (min(liste)>=9) or (min(liste)>=8 and sum(liste)>=30):\n",
    "        return True\n",
    "    return False\n",
    "\n",
    "if admission():\n",
    "    print(\"Gogo gagetto next lvl\")\n",
    "else:\n",
    "    print(\"Remettez une piece\")"
   ]
  },
  {
   "cell_type": "code",
   "execution_count": null,
   "metadata": {},
   "outputs": [],
   "source": [
    "(min(liste)>=9)or (min(liste)>=8 and sum(liste)>=30)"
   ]
  },
  {
   "cell_type": "markdown",
   "metadata": {},
   "source": [
    "* Ecrire un programme qui demande à l'utilisateur de saisir 10 notes puis il affiche leurs moyenne ainsi la note minimale et la note maximale. "
   ]
  },
  {
   "cell_type": "code",
   "execution_count": 55,
   "metadata": {},
   "outputs": [
    {
     "name": "stdout",
     "output_type": "stream",
     "text": [
      "23\n",
      "2324\n",
      "2\n",
      "434\n",
      "2323\n",
      "434\n",
      "657\n",
      "344\n",
      "23434\n",
      "434\n",
      "86.8\n"
     ]
    }
   ],
   "source": [
    "n=0\n",
    "i=0\n",
    "while n<10:\n",
    "    i=float(input())\n",
    "    i+=i\n",
    "    n+=1\n",
    "print(\"la moyenne est de\",i/10)"
   ]
  },
  {
   "cell_type": "code",
   "execution_count": null,
   "metadata": {},
   "outputs": [],
   "source": []
  },
  {
   "cell_type": "markdown",
   "metadata": {},
   "source": [
    "* Ecrire un programme Python qui affiche les nombres de 18 à 1 de trois en trois."
   ]
  },
  {
   "cell_type": "code",
   "execution_count": 60,
   "metadata": {},
   "outputs": [
    {
     "name": "stdout",
     "output_type": "stream",
     "text": [
      "18\n",
      "15\n",
      "12\n",
      "9\n",
      "6\n",
      "3\n"
     ]
    }
   ],
   "source": [
    "for i in range(18,1,-3):\n",
    "    print(i)"
   ]
  },
  {
   "cell_type": "markdown",
   "metadata": {},
   "source": [
    "## Les boucles while\n",
    "\n",
    "A l'aide d'une boucle while (sans utiliser la fonction native sum), coder la fonction element_sum qui prend en argument une liste de nombre et qui retourne la somme des élements d'une liste\n"
   ]
  },
  {
   "cell_type": "code",
   "execution_count": 27,
   "metadata": {},
   "outputs": [
    {
     "name": "stdout",
     "output_type": "stream",
     "text": [
      "12\n"
     ]
    }
   ],
   "source": [
    "def element_sum(l):\n",
    "    somme=0\n",
    "    while l:\n",
    "        a=l.pop()\n",
    "        somme+=a\n",
    "    return somme\n",
    "print(element_sum([3,4,5]))"
   ]
  },
  {
   "cell_type": "code",
   "execution_count": 68,
   "metadata": {},
   "outputs": [
    {
     "name": "stdout",
     "output_type": "stream",
     "text": [
      "6\n",
      "12\n"
     ]
    }
   ],
   "source": [
    "list1 = [1, 2, 3]  \n",
    "list2 = [3,4, 5] \n",
    "result1 = reduce((lambda x, y: x + y), list1) \n",
    "result2 = reduce((lambda x, y: x + y), list2) \n",
    "print(result1) \n",
    "print(result2) "
   ]
  },
  {
   "cell_type": "markdown",
   "metadata": {},
   "source": [
    "### Bonus\n"
   ]
  },
  {
   "cell_type": "markdown",
   "metadata": {},
   "source": [
    "* Ecrire un programme qui permet de convertir une distance en kilomètre vers le mètre ou vice-versa, l'utilisateur saisi bien l'unité de départ ('km' ou 'mètres') et la distance. "
   ]
  },
  {
   "cell_type": "code",
   "execution_count": 5,
   "metadata": {},
   "outputs": [
    {
     "name": "stdout",
     "output_type": "stream",
     "text": [
      "200000 m\n",
      "(200.0, 'km')\n"
     ]
    }
   ],
   "source": [
    "def conv(d,u=[\"km\", \"m\"]):\n",
    "    if u==\"km\":\n",
    "        return print(d*1000,\"m\")\n",
    "    else:\n",
    "        return d/1000,\"km\"\n",
    "\n",
    "conv(200,\"km\")\n",
    "print(conv(200000,\"m\"))"
   ]
  },
  {
   "cell_type": "code",
   "execution_count": null,
   "metadata": {},
   "outputs": [],
   "source": [
    "def conv2(d,u):\n",
    "    if u=='km':\n",
    "        return d*1000,\"m\"\n",
    "    elif u=='m':\n",
    "        return d/1000,\"km\"\n",
    "    else:\n",
    "        return \"pas la bonne unité\""
   ]
  },
  {
   "cell_type": "markdown",
   "metadata": {},
   "source": [
    "* Ecrire un programme qui lit le nombre d'heures effectuées par un salarié dans la semaine et son salaire horaire et qui calcule et affiche sa paye hebdomadaire.\n",
    "\n",
    "On prendra en compte les heures supplémentaires (au-delà de 35 heures) payées à 150%."
   ]
  },
  {
   "cell_type": "code",
   "execution_count": 6,
   "metadata": {},
   "outputs": [
    {
     "name": "stdout",
     "output_type": "stream",
     "text": [
      "53825.0\n"
     ]
    }
   ],
   "source": [
    "def salary(nb_heure, salaire_horaire):\n",
    "    if 35>=nb_heure>=0:\n",
    "        return nb_heure*salaire_horaire\n",
    "    else:\n",
    "        return (nb_heure-35)*1.5*salaire_horaire+35*salaire_horaire\n",
    "print(salary(3600,10))"
   ]
  }
 ],
 "metadata": {
  "kernelspec": {
   "display_name": "Python 3",
   "language": "python",
   "name": "python3"
  },
  "language_info": {
   "codemirror_mode": {
    "name": "ipython",
    "version": 3
   },
   "file_extension": ".py",
   "mimetype": "text/x-python",
   "name": "python",
   "nbconvert_exporter": "python",
   "pygments_lexer": "ipython3",
   "version": "3.6.9"
  }
 },
 "nbformat": 4,
 "nbformat_minor": 2
}
