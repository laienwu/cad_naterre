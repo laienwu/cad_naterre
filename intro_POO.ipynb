{
 "cells": [
  {
   "cell_type": "markdown",
   "metadata": {},
   "source": [
    "# La Programmation Ortientée Objet (POO)\n",
    "\n",
    "Ce paradigme consiste en la réunion des données et des traitements associées à ces données au sein d’entités cohérentes appelées objets."
   ]
  },
  {
   "cell_type": "markdown",
   "metadata": {},
   "source": [
    "## Objects\n",
    "\n",
    "Rappelez vous type() -> la fonction pour vérifier le type d'un objet python:"
   ]
  },
  {
   "cell_type": "code",
   "execution_count": 1,
   "metadata": {},
   "outputs": [
    {
     "name": "stdout",
     "output_type": "stream",
     "text": [
      "<class 'int'>\n",
      "<class 'list'>\n",
      "<class 'tuple'>\n",
      "<class 'dict'>\n"
     ]
    },
    {
     "data": {
      "text/plain": [
       "NoneType"
      ]
     },
     "execution_count": 1,
     "metadata": {},
     "output_type": "execute_result"
    }
   ],
   "source": [
    "type(print(type(1)))\n",
    "type(print(type([])))\n",
    "type(print(type(())))\n",
    "type(print(type({})))"
   ]
  },
  {
   "cell_type": "code",
   "execution_count": 2,
   "metadata": {},
   "outputs": [
    {
     "data": {
      "text/plain": [
       "1"
      ]
     },
     "execution_count": 2,
     "metadata": {},
     "output_type": "execute_result"
    }
   ],
   "source": [
    "lst=[1,2,3]\n",
    "lst.count(2)"
   ]
  },
  {
   "cell_type": "markdown",
   "metadata": {},
   "source": [
    "## Class\n",
    "\n",
    "La classe est le modèle qui définit un objet.\n",
    "Une classe est un type de données abstrait qui précise des caractéristiques (attributs et méthodes ) communes à toute une famille d’objets et qui permet de créer (instancier) des objets possédant ces caractéristiques.\n",
    "\n",
    "Une instance est un objet spécifique créé à partir d'une classe particulière. Par exemple, ci-dessus, nous avons créé l'objet lst, qui était une instance d'un objet de liste."
   ]
  },
  {
   "cell_type": "code",
   "execution_count": 3,
   "metadata": {},
   "outputs": [
    {
     "name": "stdout",
     "output_type": "stream",
     "text": [
      "<class '__main__.Sample'>\n"
     ]
    }
   ],
   "source": [
    "# Create a new object type called Sample\n",
    "class Sample:\n",
    "    pass\n",
    "\n",
    "# Instance of Sample\n",
    "x = Sample()\n",
    "\n",
    "print(type(x))"
   ]
  },
  {
   "cell_type": "code",
   "execution_count": 4,
   "metadata": {},
   "outputs": [
    {
     "name": "stdout",
     "output_type": "stream",
     "text": [
      "Jimi Hendrix\n",
      "<class '__main__.Personne'>\n",
      "Personne\n"
     ]
    }
   ],
   "source": [
    "class Personne(object):\n",
    "    def __init__(self, nom, prenom=\"\"):\n",
    "        self.nom = nom\n",
    "        self.prenom = prenom\n",
    "\n",
    "p = Personne('Hendrix', 'Jimi')\n",
    "print (p.prenom, p.nom)\n",
    "print (type(p))\n",
    "print (p.__class__.__name__)"
   ]
  },
  {
   "cell_type": "markdown",
   "metadata": {},
   "source": [
    "### Remarques:\n",
    "\n",
    "    * Tous les attributs et méthodes des classes Python sont « publics »  parce que « nous sommes tous des adultes ! » (citation de Guido van Rossum, créateur de Python).\n",
    "    * Le constructeur d'une classe est une méthode spéciale qui s'appelle __init__().\n",
    "    * En Python, on n'est pas tenu de déclarer tous les attributs de la classe comme dans d'autres langages :on peut se contenter de les initialiser dans le constructeur !\n",
    "    * Toutes les méthodes prennent une variable self (sauf les méthodes de classe) comme premier argument. Cette variable est une référence à l'objet manipulé."
   ]
  },
  {
   "cell_type": "markdown",
   "metadata": {},
   "source": [
    "## Attributes\n",
    "\n",
    "Pour créer un attribut pour un objet:\n",
    "\n",
    "    self.attribute = something\n",
    "\n",
    "voici aussi une méthode spéciale pour initialiser les attributs d'un objet:\n",
    "\n",
    "    __init__()\n",
    "    \n",
    "la reference d'une instance objet est par convention nommée : self.\n"
   ]
  },
  {
   "cell_type": "markdown",
   "metadata": {},
   "source": [
    "1- Exemple 1 à interpréter:"
   ]
  },
  {
   "cell_type": "code",
   "execution_count": 5,
   "metadata": {},
   "outputs": [],
   "source": [
    "class Dog:\n",
    "    def __init__(self,breed):\n",
    "        self.breed = breed\n",
    "        \n",
    "sam = Dog('Lab')\n",
    "rex = Dog(breed='Huskie')"
   ]
  },
  {
   "cell_type": "code",
   "execution_count": 6,
   "metadata": {},
   "outputs": [
    {
     "data": {
      "text/plain": [
       "'Lab'"
      ]
     },
     "execution_count": 6,
     "metadata": {},
     "output_type": "execute_result"
    }
   ],
   "source": [
    "sam.breed"
   ]
  },
  {
   "cell_type": "code",
   "execution_count": 7,
   "metadata": {},
   "outputs": [
    {
     "data": {
      "text/plain": [
       "'Huskie'"
      ]
     },
     "execution_count": 7,
     "metadata": {},
     "output_type": "execute_result"
    }
   ],
   "source": [
    "rex.breed"
   ]
  },
  {
   "cell_type": "markdown",
   "metadata": {},
   "source": [
    "2- Exemple 2 à interpréter:"
   ]
  },
  {
   "cell_type": "code",
   "execution_count": 8,
   "metadata": {},
   "outputs": [],
   "source": [
    "class Dog:\n",
    "    \n",
    "    # Class Object Attribute\n",
    "    species = 'mammal'\n",
    "    \n",
    "    def __init__(self,breed,name):\n",
    "        self.breed = breed\n",
    "        self.name = name"
   ]
  },
  {
   "cell_type": "code",
   "execution_count": 9,
   "metadata": {},
   "outputs": [
    {
     "data": {
      "text/plain": [
       "'Lab'"
      ]
     },
     "execution_count": 9,
     "metadata": {},
     "output_type": "execute_result"
    }
   ],
   "source": [
    "sam = Dog('Lab','Sam')\n",
    "sam.breed"
   ]
  },
  {
   "cell_type": "code",
   "execution_count": 10,
   "metadata": {},
   "outputs": [
    {
     "data": {
      "text/plain": [
       "'mammal'"
      ]
     },
     "execution_count": 10,
     "metadata": {},
     "output_type": "execute_result"
    }
   ],
   "source": [
    "sam.species"
   ]
  },
  {
   "cell_type": "markdown",
   "metadata": {},
   "source": [
    "## Methods\n",
    "\n",
    "Les méthodes représentent un concept clé de la POO . \n",
    "\n",
    "Les méthodes sont des fonctions définies dans une classe .\n",
    "\n",
    "* La définition d'une méthode est toujours placée à l'intérieur de la définition d'une classe, de manière à ce que la relation qui lie la méthode à la classe soit clairement établie.\n",
    "* Le premier paramètre utilisé par une méthode doit toujours être une référence d'instance.\n",
    "\n",
    "\n",
    "#### Constructor:\n",
    "Une méthode constructeur est une méthode qui est exécutée automatiquement lorsque l'on instancie un nouvel objet à partir de la classe ( _ _init_ _ (self) ).\n"
   ]
  },
  {
   "cell_type": "markdown",
   "metadata": {},
   "source": [
    "## Inheritance\n",
    "\n",
    "l'héritage dans la POO  est le concept de créer des classes dérivées (filles) à partir d'autres classes parentes (super class)..\n",
    "\n",
    "--> Quel intéret pour ce concept ?\n",
    "\n",
    "### Exemple 1:\n",
    "\n",
    "Analyser le code suivant:"
   ]
  },
  {
   "cell_type": "code",
   "execution_count": 11,
   "metadata": {},
   "outputs": [],
   "source": [
    "class Animal:\n",
    "    def __init__(self):\n",
    "        print(\"Animal created\")\n",
    "    name= \"L'animal : \"\n",
    "    def eat(self):\n",
    "        print(\"Eating\")\n",
    "\n",
    "class Carnivore(Animal):\n",
    "    caract1 = \"se nourrit de la chair de ses proies ;\"\n",
    "\n",
    "class Chien(Carnivore):\n",
    "    caract2 = \"Chien ;\"\n",
    "    def eat(self):\n",
    "        print(\"et mange aussi les os\")"
   ]
  },
  {
   "cell_type": "code",
   "execution_count": 12,
   "metadata": {},
   "outputs": [
    {
     "name": "stdout",
     "output_type": "stream",
     "text": [
      "Animal created\n"
     ]
    }
   ],
   "source": [
    "d = Chien()"
   ]
  },
  {
   "cell_type": "code",
   "execution_count": 13,
   "metadata": {},
   "outputs": [
    {
     "name": "stdout",
     "output_type": "stream",
     "text": [
      "L'animal :  Chien ; se nourrit de la chair de ses proies ;\n"
     ]
    }
   ],
   "source": [
    "print (d.name, d.caract2, d.caract1);"
   ]
  },
  {
   "cell_type": "code",
   "execution_count": 14,
   "metadata": {},
   "outputs": [
    {
     "name": "stdout",
     "output_type": "stream",
     "text": [
      "et mange aussi les os\n"
     ]
    }
   ],
   "source": [
    "d.eat()"
   ]
  },
  {
   "cell_type": "code",
   "execution_count": 15,
   "metadata": {},
   "outputs": [
    {
     "name": "stdout",
     "output_type": "stream",
     "text": [
      "Animal created\n",
      "Eating\n"
     ]
    }
   ],
   "source": [
    "d2=Animal()\n",
    "d2.eat()"
   ]
  },
  {
   "cell_type": "markdown",
   "metadata": {},
   "source": [
    "### => \n",
    "On utilise l'instruction class , suivie du nom que l'on veut attribuer à la nouvelle classe, et on place entre\n",
    "parenthèses le nom de la classe parente.\n",
    "\n",
    "Python supporte l'héritage simple et l'héritage multiple"
   ]
  },
  {
   "cell_type": "markdown",
   "metadata": {},
   "source": [
    "### Exemple2:\n",
    "\n",
    "Analyser le code suivant:"
   ]
  },
  {
   "cell_type": "code",
   "execution_count": 16,
   "metadata": {},
   "outputs": [
    {
     "name": "stdout",
     "output_type": "stream",
     "text": [
      "Initialisation de la personne 140380742365312\n",
      "Initialisation de l'étudiant 140380742365256\n",
      "Initialisation de la personne 140380742365256\n",
      "(<class '__main__.Etudiant'>, <class '__main__.Personne'>, <class 'object'>)\n",
      "Dupont  125A2135\n"
     ]
    }
   ],
   "source": [
    "class Personne(object):\n",
    "    def __init__(self, nom, prenom=\"\"):\n",
    "        print(\"Initialisation de la personne {0}\".format(id(self)))\n",
    "        self.nom = nom\n",
    "        self.prenom = prenom\n",
    "\n",
    "class Etudiant(Personne):\n",
    "    def __init__(self, numero, **kwargs):\n",
    "        print(\"Initialisation de l'étudiant {0}\".format(id(self)))\n",
    "        super(Etudiant, self).__init__(**kwargs)\n",
    "        self.numero = numero\n",
    "\n",
    "p = Personne(nom='Hendrix', prenom='Jimi')\n",
    "e = Etudiant(nom='Dupont', numero='125A2135')\n",
    "print(Etudiant.__mro__) # Affiche le MRO de la classe Etudiant\n",
    "print(e.nom, e.prenom, e.numero)"
   ]
  },
  {
   "cell_type": "markdown",
   "metadata": {},
   "source": [
    "RQ: \n",
    "la fonction super() permet de déléguer à la ou les classe(s) mère(s) l'exécution de certains traitements. On l'utilise donc notamment pour appeler, depuis une classe fille, le constructeur de la classe mère."
   ]
  },
  {
   "cell_type": "markdown",
   "metadata": {},
   "source": [
    "## Polymorphism\n",
    "\n",
    "Analyser cet example:\n"
   ]
  },
  {
   "cell_type": "code",
   "execution_count": 22,
   "metadata": {},
   "outputs": [
    {
     "name": "stdout",
     "output_type": "stream",
     "text": [
      "Niko says Woof!\n",
      "Felix says Meow!\n"
     ]
    }
   ],
   "source": [
    "class Dog:\n",
    "    def __init__(self, name):\n",
    "        self.name = name\n",
    "\n",
    "    def speak(self):\n",
    "        return self.name+' says Woof!'\n",
    "    \n",
    "class Cat:\n",
    "    def __init__(self, name):\n",
    "        self.name = name\n",
    "\n",
    "    def speak(self):\n",
    "        return self.name+' says Meow!' \n",
    "    \n",
    "niko = Dog('Niko')\n",
    "felix = Cat('Felix')\n",
    "\n",
    "print(niko.speak())\n",
    "print(felix.speak())"
   ]
  },
  {
   "cell_type": "code",
   "execution_count": 23,
   "metadata": {},
   "outputs": [
    {
     "name": "stdout",
     "output_type": "stream",
     "text": [
      "Niko says Woof!\n",
      "Felix says Meow!\n"
     ]
    }
   ],
   "source": [
    "for pet in [niko,felix]:\n",
    "    print(pet.speak())"
   ]
  },
  {
   "cell_type": "markdown",
   "metadata": {},
   "source": [
    "le polymorphisme, comme nous l'avons vu plus haut, si une classe hérite d'une autre classe, elle hérite les méthodes de son parent . \n",
    "Il est aussi possible d' écraser la méthode de la classe parente en la redéfinissant. On parle alors de surcharger une méthode . \n",
    "\n",
    "=> On parle de polymorphisme quand 2 classes mère et fille possédent chacune une méthode de même nom mais ces méthodes n'éffectuent pas les mêmes tâches !"
   ]
  },
  {
   "cell_type": "markdown",
   "metadata": {},
   "source": [
    "## Abstract class\n",
    "\n",
    "Une classe abstraite est une classe qui n'est jamais instanciée \n"
   ]
  },
  {
   "cell_type": "code",
   "execution_count": 19,
   "metadata": {},
   "outputs": [
    {
     "name": "stdout",
     "output_type": "stream",
     "text": [
      "Fido says Woof!\n",
      "Isis says Meow!\n"
     ]
    }
   ],
   "source": [
    "class Animal:\n",
    "    def __init__(self, name):    # Constructor of the class\n",
    "        self.name = name\n",
    "\n",
    "    def speak(self):              # Abstract method, defined by convention only\n",
    "        raise NotImplementedError(\"Subclass must implement abstract method\")\n",
    "\n",
    "\n",
    "class Dog(Animal):\n",
    "    \n",
    "    def speak(self):\n",
    "        return self.name+' says Woof!'\n",
    "    \n",
    "class Cat(Animal):\n",
    "\n",
    "    def speak(self):\n",
    "        return self.name+' says Meow!'\n",
    "    \n",
    "fido = Dog('Fido')\n",
    "isis = Cat('Isis')\n",
    "\n",
    "print(fido.speak())\n",
    "print(isis.speak())"
   ]
  },
  {
   "cell_type": "markdown",
   "metadata": {},
   "source": [
    "\n",
    "## Special Methods\n",
    "\n",
    "on utilse souvent la redefinition de certaines methode spéciales\n",
    " _ _init_ _(), _ _str_ _(), _ _len_ _() and _ _del_ _() \n",
    " "
   ]
  },
  {
   "cell_type": "code",
   "execution_count": 20,
   "metadata": {},
   "outputs": [],
   "source": [
    "class Book:\n",
    "    def __init__(self, title, author, pages):\n",
    "        print(\"A book is created\")\n",
    "        self.title = title\n",
    "        self.author = author\n",
    "        self.pages = pages\n",
    "\n",
    "    def __str__(self):\n",
    "        return \"Title: %s, author: %s, pages: %s\" %(self.title, self.author, self.pages)\n",
    "\n",
    "    def __len__(self):\n",
    "        return self.pages\n",
    "\n",
    "    def __del__(self):\n",
    "        print(\"A book is destroyed\")"
   ]
  },
  {
   "cell_type": "code",
   "execution_count": 24,
   "metadata": {},
   "outputs": [
    {
     "name": "stdout",
     "output_type": "stream",
     "text": [
      "A book is created\n",
      "Title: Python Rocks!, author: Jose Portilla, pages: 159\n",
      "159\n",
      "A book is destroyed\n"
     ]
    }
   ],
   "source": [
    "book = Book(\"Python Rocks!\", \"Jose Portilla\", 159)\n",
    "\n",
    "#Special Methods\n",
    "print(book)\n",
    "print(len(book))\n",
    "del book"
   ]
  },
  {
   "cell_type": "code",
   "execution_count": null,
   "metadata": {},
   "outputs": [],
   "source": []
  },
  {
   "cell_type": "markdown",
   "metadata": {},
   "source": [
    "#### Voici d'autres liens utiles pour continuer sur la POO:\n",
    "\n",
    "[La Documentation officielle] https://docs.python.org/3/tutorial/classes.html\n",
    "\n",
    "+:\n",
    "\n",
    "https://jeffknupp.com/blog/2014/06/18/improve-your-python-python-classes-and-object-oriented-programming/\n",
    "\n",
    "https://developer.mozilla.org/en-US/Learn/Python/Quickly_Learn_Object_Oriented_Programming\n",
    "\n",
    "http://www.tutorialspoint.com/python/python_classes_objects.htm\n",
    "\n",
    "\n"
   ]
  },
  {
   "cell_type": "markdown",
   "metadata": {},
   "source": [
    "#### Pour continuer encore plus loin: \n",
    "\n",
    "https://docs.python.org/3/library/functions.html#super\n",
    "\n",
    "http://ressources.unisciel.fr/algoprog/s00aaroot/aa00module1/res/%5BBersini-OO2009%5DLa_programmation_orientee_objet(BookFi_org).pdf\n",
    "\n"
   ]
  },
  {
   "cell_type": "code",
   "execution_count": null,
   "metadata": {},
   "outputs": [],
   "source": []
  }
 ],
 "metadata": {
  "kernelspec": {
   "display_name": "Python 3",
   "language": "python",
   "name": "python3"
  },
  "language_info": {
   "codemirror_mode": {
    "name": "ipython",
    "version": 3
   },
   "file_extension": ".py",
   "mimetype": "text/x-python",
   "name": "python",
   "nbconvert_exporter": "python",
   "pygments_lexer": "ipython3",
   "version": "3.6.9"
  }
 },
 "nbformat": 4,
 "nbformat_minor": 2
}
