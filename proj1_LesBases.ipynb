{
 "cells": [
  {
   "cell_type": "markdown",
   "metadata": {
    "colab_type": "text",
    "id": "1NF4500eXx69"
   },
   "source": [
    "# Projet 1 : Text Parser"
   ]
  },
  {
   "cell_type": "markdown",
   "metadata": {
    "colab_type": "text",
    "id": "S3_pvoMJXx7E"
   },
   "source": [
    "### Objectifs:\n",
    "\n",
    "Mettre en pratique à travers un projet les connaissances acquises sur les fondamenteaux du langage Python\n",
    "\n",
    "Continuer la prise en main du langage python\n"
   ]
  },
  {
   "cell_type": "markdown",
   "metadata": {
    "colab_type": "text",
    "id": "LF8FqhLBXx7J"
   },
   "source": [
    "## Enoncé\n",
    "\n",
    "Mettons en place un parseur de texte, On considère le poème fourni en PJ (lanuitdelamort.michel.txt sur le drive)\n",
    "\n",
    "Suivre les étapes de projets suivantes:\n"
   ]
  },
  {
   "cell_type": "markdown",
   "metadata": {
    "colab_type": "text",
    "id": "bj8A-r3kXx7N"
   },
   "source": [
    "### 1\n",
    "* Écrire une fonction qui, part d'un chemin de fichier qui contient un poème, numérotera les lignes du poèmes suivi d'une tabulation (marquée par \"\\t\") et retournera la nouvelle version du texte.\n",
    "\n",
    "Les lignes vides ne seront pas numérotées.\n",
    "\n",
    "**indication**  \n",
    "- `.split()` peut prendre un argument correspondant à la valeur sur laquelle découper un texte. `.split('\\n')` découpera un texte sur les nouvelles lignes"
   ]
  },
  {
   "cell_type": "code",
   "execution_count": 113,
   "metadata": {
    "colab": {},
    "colab_type": "code",
    "id": "vW6bkPILXx7S"
   },
   "outputs": [
    {
     "name": "stdout",
     "output_type": "stream",
     "text": [
      "['1\\tDies irœ, Dies illa', '2\\tSolvet scelum in favilla.', '3\\tJamais ne viendra donc la fin ?', '4\\tDorment-ils tous, les meurt-de-faim ?', '5\\tJamais, jamais le dernier jour', '6\\tNe les jettera-t-il à leur tour', '7\\tDans les angoisses de la mort,', '8\\tCes bandits que la rage mord ?', '9\\tToujours, esclaves et bourreaux,', '10\\tPâtiront-ils leurs échafauds ?', '11\\tAmis, dans l’ombre entendez-vous', '12\\tGronder la mer aux noirs remous ?', '13\\tElle monte et les couvrira.', '14\\tDies irae, Dies illa...', '15\\tElle couvre, pourpre de sang,', '16\\tL’Elysée et le Vatican.', '17\\tCompagnons, arrachons nos cœurs,', '18\\tNe soyons plus que des vengeurs.', '19\\tPassons, effrayants et maudits,', '20\\tAfin que les maux soient finis.', '21\\tComblons l’abîme avec nos corps.', '22\\tAmis, n’oubliez pas les morts...', '23\\tLa légende des temps nouveaux', '24\\tFleurira parmi les tombeaux.', '25\\tC’est le destin ; le maître est dur.', '26\\tC’est pourquoi le fer sera pur.', '27\\tDies irae, Dies illa,', '28\\tSolvet scelum, in favina.', '', 'Dies irae, Dies illa,', 'Solvet scelum, in favina.']\n"
     ]
    }
   ],
   "source": [
    "def numeroter_poeme(chemin_de_fichier):\n",
    "    f=open(chemin_de_fichier,'r')\n",
    "    mylist = [line.rstrip('\\n') for line in f]\n",
    "    mylist2=[i for i in mylist if i!='']\n",
    "    #print(mylist2)\n",
    "    for i, j in enumerate(mylist2):\n",
    "        mylist[i]=str(i+1)+'\\t'+mylist2[i]\n",
    "    return mylist\n",
    "aaa=numeroter_poeme('lanuitdelamort.michel.txt')\n",
    "print(aaa)"
   ]
  },
  {
   "cell_type": "code",
   "execution_count": 94,
   "metadata": {},
   "outputs": [
    {
     "name": "stdout",
     "output_type": "stream",
     "text": [
      "0 Dies irœ, Dies illa\n",
      "1 Solvet scelum in favilla.\n",
      "2 Jamais ne viendra donc la fin ?\n",
      "3 Dorment-ils tous, les meurt-de-faim ?\n",
      "4 Jamais, jamais le dernier jour\n",
      "5 Ne les jettera-t-il à leur tour\n",
      "6 Dans les angoisses de la mort,\n",
      "7 Ces bandits que la rage mord ?\n",
      "8 Toujours, esclaves et bourreaux,\n",
      "9 Pâtiront-ils leurs échafauds ?\n",
      "10 Amis, dans l’ombre entendez-vous\n",
      "11 Gronder la mer aux noirs remous ?\n",
      "12 Elle monte et les couvrira.\n",
      "13 Dies irae, Dies illa...\n",
      "14 Elle couvre, pourpre de sang,\n",
      "15 L’Elysée et le Vatican.\n",
      "16 Compagnons, arrachons nos cœurs,\n",
      "17 Ne soyons plus que des vengeurs.\n",
      "18 Passons, effrayants et maudits,\n",
      "19 Afin que les maux soient finis.\n",
      "20 Comblons l’abîme avec nos corps.\n",
      "21 Amis, n’oubliez pas les morts...\n",
      "22 La légende des temps nouveaux\n",
      "23 Fleurira parmi les tombeaux.\n",
      "24 C’est le destin ; le maître est dur.\n",
      "25 C’est pourquoi le fer sera pur.\n",
      "26 Dies irae, Dies illa,\n",
      "27 Solvet scelum, in favina.\n"
     ]
    }
   ],
   "source": [
    "def numeroter_poeme(chemin_de_fichier):\n",
    "    with open(chemin_de_fichier) as f:\n",
    "        mylist = [line.rstrip('\\n') for line in f]\n",
    "    mylist2=[i for i in mylist if i!='']\n",
    "    #print(mylist2)\n",
    "    for i, j in enumerate(mylist2):\n",
    "        mylist[i]=str(i+1)+'\\t'+mylist2[i]\n",
    "    return mylist\n",
    "aaa=numeroter_poeme('lanuitdelamort.michel.txt')\n",
    "for i,j in enumerate(aaa):\n",
    "    print(i,j)"
   ]
  },
  {
   "cell_type": "markdown",
   "metadata": {
    "colab_type": "text",
    "id": "ckUH7Qz7a5U_"
   },
   "source": [
    "# New Section"
   ]
  },
  {
   "cell_type": "code",
   "execution_count": 114,
   "metadata": {
    "colab": {},
    "colab_type": "code",
    "id": "YFtzV-erXx7k",
    "outputId": "11fabcef-7018-4ca3-80f5-62e90dc993e2"
   },
   "outputs": [
    {
     "name": "stdout",
     "output_type": "stream",
     "text": [
      "['1\\tDies irœ, Dies illa', '2\\tSolvet scelum in favilla.', '3\\tJamais ne viendra donc la fin ?', '4\\tDorment-ils tous, les meurt-de-faim ?', '5\\tJamais, jamais le dernier jour', '6\\tNe les jettera-t-il à leur tour', '7\\tDans les angoisses de la mort,', '8\\tCes bandits que la rage mord ?', '9\\tToujours, esclaves et bourreaux,', '10\\tPâtiront-ils leurs échafauds ?', '11\\tAmis, dans l’ombre entendez-vous', '12\\tGronder la mer aux noirs remous ?', '13\\tElle monte et les couvrira.', '14\\tDies irae, Dies illa...', '15\\tElle couvre, pourpre de sang,', '16\\tL’Elysée et le Vatican.', '17\\tCompagnons, arrachons nos cœurs,', '18\\tNe soyons plus que des vengeurs.', '19\\tPassons, effrayants et maudits,', '20\\tAfin que les maux soient finis.', '21\\tComblons l’abîme avec nos corps.', '22\\tAmis, n’oubliez pas les morts...', '23\\tLa légende des temps nouveaux', '24\\tFleurira parmi les tombeaux.', '25\\tC’est le destin ; le maître est dur.', '26\\tC’est pourquoi le fer sera pur.', '27\\tDies irae, Dies illa,', '28\\tSolvet scelum, in favina.', '', 'Dies irae, Dies illa,', 'Solvet scelum, in favina.']\n"
     ]
    }
   ],
   "source": [
    "# Code pour tester le résultat\n",
    "poeme = numeroter_poeme(\"lanuitdelamort.michel.txt\")\n",
    "\n",
    "# Pour débugguer\n",
    "print(poeme)\n",
    "\n",
    "# Pour tester\n",
    "assert \"5\\tJamais, jamais le dernier jour\" in poeme\n",
    "assert \"13\\tElle monte et les couvrira.\" in poeme"
   ]
  },
  {
   "cell_type": "markdown",
   "metadata": {
    "colab_type": "text",
    "id": "XVN7OFYdXx7v"
   },
   "source": [
    "###  2\n",
    "\n",
    "Ecrire une fonction qui renvoie une liste de vers annotés en tuples."
   ]
  },
  {
   "cell_type": "code",
   "execution_count": 120,
   "metadata": {
    "colab": {},
    "colab_type": "code",
    "id": "Nizuu2ydXx7y"
   },
   "outputs": [
    {
     "name": "stdout",
     "output_type": "stream",
     "text": [
      "('5', 'Jamais, jamais le dernier jour')\n",
      "('13', 'Elle monte et les couvrira.')\n"
     ]
    }
   ],
   "source": [
    "def numeroter_poeme(chemin_de_fichier):\n",
    "    with open(chemin_de_fichier) as f:\n",
    "        mylist = [line.rstrip('\\n') for line in f]\n",
    "    mylist2=[i for i in mylist if i!='']\n",
    "    for i, j in enumerate(mylist2):\n",
    "        mylist[i]=(str(i+1),mylist2[i])\n",
    "    return mylist\n",
    "aaa=numeroter_poeme('lanuitdelamort.michel.txt')\n",
    "print(aaa[4])\n",
    "print(aaa[12])"
   ]
  },
  {
   "cell_type": "code",
   "execution_count": 121,
   "metadata": {
    "colab": {},
    "colab_type": "code",
    "id": "B7CCQFCjXx78",
    "outputId": "c1e71878-15c1-4634-9a66-0d5a443fb575",
    "scrolled": true
   },
   "outputs": [
    {
     "name": "stdout",
     "output_type": "stream",
     "text": [
      "[('1', 'Dies irœ, Dies illa'), ('2', 'Solvet scelum in favilla.'), ('3', 'Jamais ne viendra donc la fin ?'), ('4', 'Dorment-ils tous, les meurt-de-faim ?'), ('5', 'Jamais, jamais le dernier jour'), ('6', 'Ne les jettera-t-il à leur tour'), ('7', 'Dans les angoisses de la mort,'), ('8', 'Ces bandits que la rage mord ?'), ('9', 'Toujours, esclaves et bourreaux,'), ('10', 'Pâtiront-ils leurs échafauds ?'), ('11', 'Amis, dans l’ombre entendez-vous'), ('12', 'Gronder la mer aux noirs remous ?'), ('13', 'Elle monte et les couvrira.'), ('14', 'Dies irae, Dies illa...'), ('15', 'Elle couvre, pourpre de sang,'), ('16', 'L’Elysée et le Vatican.'), ('17', 'Compagnons, arrachons nos cœurs,'), ('18', 'Ne soyons plus que des vengeurs.'), ('19', 'Passons, effrayants et maudits,'), ('20', 'Afin que les maux soient finis.'), ('21', 'Comblons l’abîme avec nos corps.'), ('22', 'Amis, n’oubliez pas les morts...'), ('23', 'La légende des temps nouveaux'), ('24', 'Fleurira parmi les tombeaux.'), ('25', 'C’est le destin ; le maître est dur.'), ('26', 'C’est pourquoi le fer sera pur.'), ('27', 'Dies irae, Dies illa,'), ('28', 'Solvet scelum, in favina.'), '', 'Dies irae, Dies illa,', 'Solvet scelum, in favina.']\n"
     ]
    },
    {
     "ename": "AssertionError",
     "evalue": "",
     "output_type": "error",
     "traceback": [
      "\u001b[0;31m---------------------------------------------------------------------------\u001b[0m",
      "\u001b[0;31mAssertionError\u001b[0m                            Traceback (most recent call last)",
      "\u001b[0;32m<ipython-input-121-1f42e93286d1>\u001b[0m in \u001b[0;36m<module>\u001b[0;34m\u001b[0m\n\u001b[1;32m      3\u001b[0m \u001b[0;34m\u001b[0m\u001b[0m\n\u001b[1;32m      4\u001b[0m \u001b[0mprint\u001b[0m\u001b[0;34m(\u001b[0m\u001b[0mpoeme\u001b[0m\u001b[0;34m)\u001b[0m\u001b[0;34m\u001b[0m\u001b[0;34m\u001b[0m\u001b[0m\n\u001b[0;32m----> 5\u001b[0;31m \u001b[0;32massert\u001b[0m \u001b[0;34m(\u001b[0m\u001b[0;36m5\u001b[0m\u001b[0;34m,\u001b[0m \u001b[0;34m\"Jamais, jamais le dernier jour\"\u001b[0m\u001b[0;34m)\u001b[0m \u001b[0;34m==\u001b[0m \u001b[0mpoeme\u001b[0m\u001b[0;34m[\u001b[0m\u001b[0;36m4\u001b[0m\u001b[0;34m]\u001b[0m\u001b[0;34m\u001b[0m\u001b[0;34m\u001b[0m\u001b[0m\n\u001b[0m\u001b[1;32m      6\u001b[0m \u001b[0;32massert\u001b[0m \u001b[0;34m(\u001b[0m\u001b[0;36m13\u001b[0m\u001b[0;34m,\u001b[0m \u001b[0;34m\"Elle monte et les couvrira.\"\u001b[0m\u001b[0;34m)\u001b[0m \u001b[0;34m==\u001b[0m \u001b[0mpoeme\u001b[0m\u001b[0;34m[\u001b[0m\u001b[0;36m12\u001b[0m\u001b[0;34m]\u001b[0m\u001b[0;34m\u001b[0m\u001b[0;34m\u001b[0m\u001b[0m\n",
      "\u001b[0;31mAssertionError\u001b[0m: "
     ]
    }
   ],
   "source": [
    "# Code pour tester le résultat\n",
    "poeme = numeroter_poeme(\"lanuitdelamort.michel.txt\")\n",
    "\n",
    "print(poeme)\n",
    "assert (5, \"Jamais, jamais le dernier jour\") == poeme[4]\n",
    "assert (13, \"Elle monte et les couvrira.\") == poeme[12]"
   ]
  },
  {
   "cell_type": "markdown",
   "metadata": {
    "colab_type": "text",
    "id": "JZ2b_rJ4Xx8E"
   },
   "source": [
    "### 3\n",
    "\n",
    "Maintenant, on traitera à la fois les vers et les strophes. Pour faire ceci, la fonction `numeroter_poeme_avec_strophe` devra prendre en compte que deux sauts de ligne (ou une ligne vide) équivaut à un changement de strophe.\n",
    "\n",
    "La valeur de retour de la fonction sera une liste de listes correspondant aux strophes de tuples correspondant aux vers avec numéros. \n",
    "\n",
    "Exemple :\n",
    "\n",
    "```python\n",
    "[[(1, 'Mon doulz ami, vueilliez moy pardonner,'),\n",
    "  (2, 'Se je ne puis, si tost com je vouldroye,'),\n",
    "  (3, 'Parler a vous, car ainçois ordener'),\n",
    "  (4, 'Me fault comment sera, ne par quel voye.'),\n",
    "  (5, 'Car mesdisans me vont gaitant'),\n",
    "  (6, 'Qui du meschief et du mal me font tant,'),\n",
    "  (7, 'Que je ne puis joye ne bien avoir,'),\n",
    "  (8, 'Pour le desir que j’ay de vous veoir.')],\n",
    " [(9, 'Si pry a Dieu qu’il leur vueille donner'),\n",
    "  (10, 'La mort briefment ; car leur vie m’anoye,'),\n",
    "  (11, 'Pour ce qu’en dueil me font mes jours finer'),\n",
    "  (12, 'Sanz vous veoir, ou est toute ma joye'),\n",
    "  (13, 'Car ilz se vont entremettant'),\n",
    "  (14, 'De moy gaitier nuit et jour, mais pourtant'),\n",
    "  (15, 'Ne vous oubli, ce pouez vous savoir,'),\n",
    "  (16, 'Pour le desir que j’ay de vous veoir.')],\n",
    " [(17, 'Mais ne sçaront ja eulx si fort pener,'),\n",
    "  (18, 'Que, maugré tous, bien briefment ne vous voie.'),\n",
    "  (19, 'Car tant feray, se g’y puis assener,'),\n",
    "  (20, 'Que vous verray, quoy qu’avenir m’en doye,'),\n",
    "  (21, 'Et vous feray savoir quant.'),\n",
    "  (22, 'Mon doulz ami, deportez vous atant.'),\n",
    "  (23, 'Car g’y mettray peine, sachiez de voir,'),\n",
    "  (24, 'Pour le desir que j’ay de vous veoir.')]]\n",
    "```\n",
    "\n",
    "**indication** \n",
    "- une ligne vide est équivalent à `False` "
   ]
  },
  {
   "cell_type": "code",
   "execution_count": 0,
   "metadata": {
    "colab": {},
    "colab_type": "code",
    "id": "0ets3-UeXx8G",
    "outputId": "75d73606-07a5-4ab6-af26-6cac6f29ba79",
    "scrolled": true
   },
   "outputs": [
    {
     "name": "stdout",
     "output_type": "stream",
     "text": [
      "[[(1, 'Dies irœ, Dies illa'), (2, 'Solvet scelum in favilla.'), (3, 'Jamais ne viendra donc la fin ?'), (4, 'Dorment-ils tous, les meurt-de-faim ?'), (5, 'Jamais, jamais le dernier jour'), (6, 'Ne les jettera-t-il à leur tour'), (7, 'Dans les angoisses de la mort,'), (8, 'Ces bandits que la rage mord ?')], [(9, 'Toujours, esclaves et bourreaux,'), (10, 'Pâtiront-ils leurs échafauds ?'), (11, 'Amis, dans l’ombre entendez-vous'), (12, 'Gronder la mer aux noirs remous ?'), (13, 'Elle monte et les couvrira.'), (14, 'Dies irae, Dies illa...'), (15, 'Elle couvre, pourpre de sang,'), (16, 'L’Elysée et le Vatican.'), (17, 'Compagnons, arrachons nos cœurs,'), (18, 'Ne soyons plus que des vengeurs.')], [(19, 'Passons, effrayants et maudits,'), (20, 'Afin que les maux soient finis.'), (21, 'Comblons l’abîme avec nos corps.'), (22, 'Amis, n’oubliez pas les morts...'), (23, 'La légende des temps nouveaux'), (24, 'Fleurira parmi les tombeaux.'), (25, 'C’est le destin ; le maître est dur.'), (26, 'C’est pourquoi le fer sera pur.')], [(27, 'Dies irae, Dies illa,'), (28, 'Solvet scelum, in favina.')], []]\n"
     ]
    }
   ],
   "source": [
    "        \n",
    "poeme = numeroter_poeme_avec_strophe(\"lanuitdelamort.michel_orig.txt\")\n",
    "print (poeme)\n",
    "assert poeme[3] == [(27, 'Dies irae, Dies illa,'), (28, 'Solvet scelum, in favina.')]\n",
    "  "
   ]
  },
  {
   "cell_type": "markdown",
   "metadata": {
    "colab_type": "text",
    "id": "DRhYVh7mXx8P"
   },
   "source": [
    "=> Vérifier et tester votre code sur un 2ème texte!\n",
    "\n"
   ]
  },
  {
   "cell_type": "code",
   "execution_count": 0,
   "metadata": {
    "colab": {},
    "colab_type": "code",
    "id": "6CNkWgX8Xx8R"
   },
   "outputs": [],
   "source": []
  }
 ],
 "metadata": {
  "colab": {
   "name": "proj1_LesBases.ipynb",
   "provenance": []
  },
  "kernelspec": {
   "display_name": "Python 3",
   "language": "python",
   "name": "python3"
  },
  "language_info": {
   "codemirror_mode": {
    "name": "ipython",
    "version": 3
   },
   "file_extension": ".py",
   "mimetype": "text/x-python",
   "name": "python",
   "nbconvert_exporter": "python",
   "pygments_lexer": "ipython3",
   "version": "3.6.9"
  }
 },
 "nbformat": 4,
 "nbformat_minor": 1
}
