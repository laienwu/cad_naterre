{
 "cells": [
  {
   "cell_type": "markdown",
   "metadata": {},
   "source": [
    "## Mes Premiers programmes Python"
   ]
  },
  {
   "cell_type": "code",
   "execution_count": 5,
   "metadata": {},
   "outputs": [],
   "source": [
    "import re, inspect"
   ]
  },
  {
   "cell_type": "markdown",
   "metadata": {},
   "source": [
    "### Variables, mémoire et type\n",
    "\n",
    "On considère le petit bout de programme suivant:\n",
    "\n",
    "a = 3\n",
    "\n",
    "b = 2 * a\n",
    "\n",
    "a = 5\n",
    "\n",
    "Quelles sont les valeurs de a et b d'après vous à la fin du programme ?\n"
   ]
  },
  {
   "cell_type": "markdown",
   "metadata": {},
   "source": [
    "Implémenter le code précédent en python et afficher les valeurs des variables"
   ]
  },
  {
   "cell_type": "code",
   "execution_count": 1,
   "metadata": {},
   "outputs": [
    {
     "name": "stdout",
     "output_type": "stream",
     "text": [
      "5 6\n"
     ]
    }
   ],
   "source": [
    "a = 3\n",
    "\n",
    "b = 2 * a\n",
    "\n",
    "a = 5\n",
    "\n",
    "print(a,b)"
   ]
  },
  {
   "cell_type": "markdown",
   "metadata": {},
   "source": [
    "Exécuter et intérptéter le code suivant:"
   ]
  },
  {
   "cell_type": "code",
   "execution_count": 2,
   "metadata": {},
   "outputs": [
    {
     "name": "stdout",
     "output_type": "stream",
     "text": [
      "La somme de ces 2 nombres vaut : 16\n"
     ]
    }
   ],
   "source": [
    "a, b = 6, 10      \n",
    "print('La somme de ces 2 nombres vaut :', a + b)"
   ]
  },
  {
   "cell_type": "markdown",
   "metadata": {},
   "source": [
    "Analyser le code ci dessous:"
   ]
  },
  {
   "cell_type": "code",
   "execution_count": 3,
   "metadata": {},
   "outputs": [
    {
     "name": "stdout",
     "output_type": "stream",
     "text": [
      "ceci est une chaîne <class 'str'>\n",
      "12 <class 'int'>\n",
      "15.0 <class 'float'>\n"
     ]
    }
   ],
   "source": [
    "chaine,entier,decimal=(\"ceci est une chaîne\",12,15.0)\n",
    "print(chaine,type(chaine))\n",
    "print(entier,type(entier))\n",
    "print(decimal,type(decimal))\n",
    "\n"
   ]
  },
  {
   "cell_type": "markdown",
   "metadata": {},
   "source": [
    "A l'aide de la fonction type afficher le type des variables ci-dessous :"
   ]
  },
  {
   "cell_type": "code",
   "execution_count": 2,
   "metadata": {},
   "outputs": [],
   "source": [
    "d='Je suis un texte' \n",
    "e=True\n",
    "f=False\n",
    "g=1.2"
   ]
  },
  {
   "cell_type": "code",
   "execution_count": 6,
   "metadata": {},
   "outputs": [
    {
     "name": "stdout",
     "output_type": "stream",
     "text": [
      "i est de type <class 'str'>\n",
      "i est de type <class 'bool'>\n",
      "i est de type <class 'bool'>\n",
      "i est de type <class 'float'>\n"
     ]
    }
   ],
   "source": [
    " def varname(p):\n",
    "  for line in inspect.getframeinfo(inspect.currentframe().f_back)[3]:\n",
    "    m = re.search(r'\\bvarname\\s*\\(\\s*([A-Za-z_][A-Za-z0-9_]*)\\s*\\)', line)\n",
    "    if m:\n",
    "      return m.group(1)\n",
    "for i in [d,e,f,g]:\n",
    "    print(f'{varname(i)} est de type {type(i)}')"
   ]
  },
  {
   "cell_type": "markdown",
   "metadata": {},
   "source": [
    "Afficher la valuer de la variable c"
   ]
  },
  {
   "cell_type": "code",
   "execution_count": 67,
   "metadata": {},
   "outputs": [],
   "source": [
    "a = 12\n",
    "b = 36\n",
    "c = a * b\n",
    "#TBD"
   ]
  },
  {
   "cell_type": "markdown",
   "metadata": {},
   "source": [
    "* Afficher les valeur des variables c et d\n",
    "\n",
    "Interpréter les outputs"
   ]
  },
  {
   "cell_type": "code",
   "execution_count": null,
   "metadata": {},
   "outputs": [],
   "source": [
    "a=4 + 5\n",
    "\n",
    "b = 3 - 7            # les espaces sont optionnels\n",
    "\n",
    "c = 5 + 2 * 3        # la priorité des opérations mathématiques est-elle respectée ?\n",
    "\n",
    "d = (6 + 3) * 2\n",
    "\n",
    "e = 5**2             #Pour calculer une puissance, on utilise **\n",
    "f = 7 / 2\n",
    "g = 7 // 2           #Pour une division entière, il faut utiliser // \n",
    "h = 7 % 2\n",
    "\n",
    "print(a,b,c,d,e,f,g,h)"
   ]
  },
  {
   "cell_type": "markdown",
   "metadata": {},
   "source": [
    "A l'aide de la fonction type afficher le type des variables suivantes."
   ]
  },
  {
   "cell_type": "code",
   "execution_count": 68,
   "metadata": {},
   "outputs": [],
   "source": [
    "string1 = \"Hello\"\n",
    "integer = 3\n",
    "float1 = 3.5\n",
    "liste = [1,2,3,4]\n",
    "d = True\n",
    "\n",
    "#TBC"
   ]
  },
  {
   "cell_type": "markdown",
   "metadata": {},
   "source": [
    "* convertir les variables suivantes au type demandé ..\n",
    "\n"
   ]
  },
  {
   "cell_type": "code",
   "execution_count": 69,
   "metadata": {},
   "outputs": [],
   "source": [
    "a=2 \n",
    "\n",
    "#TBD #en float\n",
    "b=3.1\n",
    "# TBD #en int\n",
    "# TBD #en string\n"
   ]
  },
  {
   "cell_type": "markdown",
   "metadata": {},
   "source": [
    "### Les chaines de caractère"
   ]
  },
  {
   "cell_type": "markdown",
   "metadata": {},
   "source": [
    "* définir dans une variable t1, votre 'Nom'\n",
    "* définir dans une variable t2, votre 'Prenom'\n",
    "\n",
    "* afficher t1 + t2"
   ]
  },
  {
   "cell_type": "code",
   "execution_count": 12,
   "metadata": {},
   "outputs": [
    {
     "data": {
      "text/plain": [
       "'NomPrenom'"
      ]
     },
     "execution_count": 12,
     "metadata": {},
     "output_type": "execute_result"
    }
   ],
   "source": [
    "t1=\"Nom\"\n",
    "t2=\"Prenom\"\n",
    "t1+t2"
   ]
  },
  {
   "cell_type": "markdown",
   "metadata": {},
   "source": [
    "* Reprendre l'ex ci dessus en définissant les Nom et Prenom dans une meme variable"
   ]
  },
  {
   "cell_type": "code",
   "execution_count": 17,
   "metadata": {},
   "outputs": [
    {
     "data": {
      "text/plain": [
       "'Nom Prenom'"
      ]
     },
     "execution_count": 17,
     "metadata": {},
     "output_type": "execute_result"
    }
   ],
   "source": [
    "t3=t1+\" \"+t2\n",
    "t3"
   ]
  },
  {
   "cell_type": "markdown",
   "metadata": {},
   "source": [
    "* suivre les instructions ci dessous:\n"
   ]
  },
  {
   "cell_type": "code",
   "execution_count": 28,
   "metadata": {},
   "outputs": [
    {
     "name": "stdout",
     "output_type": "stream",
     "text": [
      "NOM\n",
      "prenom\n",
      "I'm a Software Developer\n"
     ]
    },
    {
     "data": {
      "text/plain": [
       "[\"I'm\", 'a', 'Data', 'Developer']"
      ]
     },
     "execution_count": 28,
     "metadata": {},
     "output_type": "execute_result"
    }
   ],
   "source": [
    "c = \"I'm a Data Developer\"\n",
    "# Afficher t1 en majuscule\n",
    "print(t1.upper())\n",
    "\n",
    "#Afficher t2 en minuscule\n",
    "print(t2.lower())\n",
    "\n",
    "# retrouver l'index de la 1ère occurrence du mot 'Data'\n",
    "c.index(\"Data\")\n",
    "\n",
    "#Remplacer le mot 'Data' par le mot 'Software'\n",
    "print(c.replace(\"Data\",\"Software\"))\n",
    "\n",
    "#Découper la phrase en mots\n",
    "c.split()\n"
   ]
  },
  {
   "cell_type": "markdown",
   "metadata": {},
   "source": [
    "* https://docs.python.org/3.3/library/string.html#formatexamples"
   ]
  },
  {
   "cell_type": "markdown",
   "metadata": {},
   "source": [
    "## Les operation booléennes"
   ]
  },
  {
   "cell_type": "markdown",
   "metadata": {},
   "source": [
    "* Evaluer et interpréter les operations suivantes:"
   ]
  },
  {
   "cell_type": "code",
   "execution_count": null,
   "metadata": {},
   "outputs": [],
   "source": [
    "5 > 3 and 6 > 3"
   ]
  },
  {
   "cell_type": "code",
   "execution_count": null,
   "metadata": {},
   "outputs": [],
   "source": []
  },
  {
   "cell_type": "code",
   "execution_count": null,
   "metadata": {},
   "outputs": [],
   "source": [
    "5 > 3 or 5 < 3"
   ]
  },
  {
   "cell_type": "code",
   "execution_count": null,
   "metadata": {},
   "outputs": [],
   "source": []
  },
  {
   "cell_type": "code",
   "execution_count": null,
   "metadata": {},
   "outputs": [],
   "source": [
    "False or not False and True     # evaluer l'ordre des operandes: not, and, or"
   ]
  },
  {
   "cell_type": "markdown",
   "metadata": {},
   "source": [
    "### Exos\n"
   ]
  },
  {
   "cell_type": "markdown",
   "metadata": {},
   "source": [
    "* Décrire ce qui se passe à chacune des\n",
    "trois lignes de l’exemple ci-dessous :\n",
    "    \n",
    "\n",
    "\n"
   ]
  },
  {
   "cell_type": "code",
   "execution_count": null,
   "metadata": {},
   "outputs": [],
   "source": [
    ">>> largeur = 20\n",
    "\n",
    ">>> hauteur = 5 * 9.3\n",
    "\n",
    ">>> largeur * hauteur\n",
    "\n",
    "930"
   ]
  },
  {
   "cell_type": "markdown",
   "metadata": {},
   "source": [
    "Assigner les valeurs respectives 3, 5, 7 à trois variables a, b, c.\n",
    "\n",
    "Effectuer l’opération a-b//c. \n",
    "\n",
    "Interpréter le résultat obtenu."
   ]
  },
  {
   "cell_type": "code",
   "execution_count": 72,
   "metadata": {},
   "outputs": [],
   "source": [
    "#TBD"
   ]
  },
  {
   "cell_type": "markdown",
   "metadata": {},
   "source": [
    "* Analyser le code ci dessous:"
   ]
  },
  {
   "cell_type": "code",
   "execution_count": null,
   "metadata": {},
   "outputs": [],
   "source": [
    "# Test d’une opération arithmétique simple.\n",
    "print(\"2+3*5 donne:\")\n",
    "print(2+3*5)\n",
    "\n",
    "print(\"Les espaces sont possibles pour mieux présenter un calcul.\")\n",
    "print(\"2 + 3*5 + 1 donne aussi:\")\n",
    "print(2 + 3*5 + 1)\n",
    "\n",
    "# À vous pour 2 + 3*5 - 5*(12 - 7) !!!\n"
   ]
  },
  {
   "cell_type": "markdown",
   "metadata": {},
   "source": [
    "* Analyser ce code et utiliser une autre syntaxe pour avoir le meme résultat"
   ]
  },
  {
   "cell_type": "code",
   "execution_count": 29,
   "metadata": {},
   "outputs": [
    {
     "name": "stdout",
     "output_type": "stream",
     "text": [
      "le carré de 9 est 81\n"
     ]
    }
   ],
   "source": [
    "a = 9\n",
    "print(\"le carré de {} est {}\".format(a, a**2))\n"
   ]
  },
  {
   "cell_type": "code",
   "execution_count": 33,
   "metadata": {},
   "outputs": [
    {
     "name": "stdout",
     "output_type": "stream",
     "text": [
      "le carré de 9 est 81\n"
     ]
    }
   ],
   "source": [
    "print(f'le carré de {a} est {a**2}')"
   ]
  },
  {
   "cell_type": "code",
   "execution_count": null,
   "metadata": {},
   "outputs": [],
   "source": []
  }
 ],
 "metadata": {
  "kernelspec": {
   "display_name": "Python 3",
   "language": "python",
   "name": "python3"
  },
  "language_info": {
   "codemirror_mode": {
    "name": "ipython",
    "version": 3
   },
   "file_extension": ".py",
   "mimetype": "text/x-python",
   "name": "python",
   "nbconvert_exporter": "python",
   "pygments_lexer": "ipython3",
   "version": "3.7.3"
  }
 },
 "nbformat": 4,
 "nbformat_minor": 2
}
