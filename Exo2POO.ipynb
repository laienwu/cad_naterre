{
 "cells": [
  {
   "cell_type": "markdown",
   "metadata": {},
   "source": [
    "# Exos POO avec un peu de Maths\n"
   ]
  },
  {
   "cell_type": "markdown",
   "metadata": {},
   "source": [
    "### Ex1: \n",
    "Définir une classe MaClasse possédant les attributs suivants :\n",
    "\n",
    "données : deux attributs de classes : x = 23 et y = x + 5 .\n",
    "\n",
    "méthode : une méthode affiche contenant un attribut d’instance z = 42 et les affichages de y et de z .\n",
    "    \n",
    "Dans le programme principal, instanciez un objet de la classe MaClasse et invoquez la méthode affiche .\n",
    "\n"
   ]
  },
  {
   "cell_type": "code",
   "execution_count": 1,
   "metadata": {},
   "outputs": [
    {
     "name": "stdout",
     "output_type": "stream",
     "text": [
      "y= 28 et z=42\n"
     ]
    }
   ],
   "source": [
    "# classe\n",
    "class MaClasse:\n",
    "    x = 23\n",
    "    y = x + 5\n",
    "    \n",
    "    def __init__(self):\n",
    "        self.z=42\n",
    "        pass\n",
    "    \n",
    "    def __str__(self):\n",
    "        return f\"y= {self.y} et z={self.z}\"\n",
    "a=MaClasse()\n",
    "print(a)"
   ]
  },
  {
   "cell_type": "markdown",
   "metadata": {},
   "source": [
    "### Ex2:\n",
    "\n",
    "Définir une classe Vecteur2D avec un constructeur fournissant les coordonnées par défaut d’un vecteur du plan (par exemple : x = 0 et y = 0 ).\n",
    "\n",
    "Dans le programme principal:\n",
    "* instancier un Vecteur2D sans paramètre\n",
    "* instancier un Vecteur2D avec ses deux paramètres\n",
    "* et afficher les paramètres de chaque vecteur."
   ]
  },
  {
   "cell_type": "code",
   "execution_count": 2,
   "metadata": {},
   "outputs": [
    {
     "name": "stdout",
     "output_type": "stream",
     "text": [
      "0 123 0 34\n"
     ]
    }
   ],
   "source": [
    "class Vec2D:\n",
    "    def __init__(self,x=0,y=0):\n",
    "        self.x=x\n",
    "        self.y=y\n",
    "v1=Vec2D()\n",
    "v2=Vec2D(123,34)\n",
    "print(v1.x, v2.x, v1.y, v2.y)"
   ]
  },
  {
   "cell_type": "markdown",
   "metadata": {},
   "source": [
    "### Ex3:\n",
    "\n",
    "Enrichisser la classe Vecteur2D précédente en lui ajoutant une méthode d’affichage et une méthode de surcharge d’addition de deux vecteurs du plan.\n",
    "\n",
    "Dans le programme principal, instancier deux Vecteur2D , afficher-les et afficher leur somme."
   ]
  },
  {
   "cell_type": "code",
   "execution_count": 1,
   "metadata": {},
   "outputs": [
    {
     "name": "stdout",
     "output_type": "stream",
     "text": [
      "abscisse: 0,ordonnee: 0\n",
      "abscisse: 123,ordonnee: 34\n",
      "157\n"
     ]
    }
   ],
   "source": [
    "class Vec2D:\n",
    "    def __init__(self,x=0,y=0):\n",
    "        self.x=x\n",
    "        self.y=y\n",
    "        \n",
    "    def afficher(self):\n",
    "        return f\"abscisse: {self.x},ordonnee: {self.y}\"\n",
    "    \n",
    "    def addition(v1, v2):\n",
    "        return (v1.x+v2.x,v1.y+v2.y)\n",
    "v1=Vec2D()\n",
    "v2=Vec2D(123,34)\n",
    "print(v1.afficher())\n",
    "print(v2.afficher())\n",
    "print(Vec2D.addition(v1,v2))"
   ]
  },
  {
   "cell_type": "markdown",
   "metadata": {},
   "source": [
    "### Ex4:\n",
    "\n",
    "Définir une classe Rectangle avec:\n",
    "* un constructeur donnant des valeurs ( longueur et largeur ) par défaut et un attribut nom = \"rectangle\" \n",
    "* une méthode mesures, d’affichage des identifiants de l'objet. \n",
    "* une méthode périmètre renvoyant le périmètre d’une instance \n",
    "indication: périmètre du rectangle= (longueur+largeur)*2\n",
    "* et une méthode surface renvoyant la surface d’une instance.\n",
    "indication: surface du rectangle= (longueur * largeur)\n",
    "\n",
    "Définir une classe Carre héritant de Rectangle et qui surcharge l’attribut d’instance :nom = \"carré\" .\n",
    "\n",
    "Dans le programme principal, instancier un Rectangle et un Carre et afficher leurs mesures.\n",
    "\n"
   ]
  },
  {
   "cell_type": "code",
   "execution_count": 4,
   "metadata": {},
   "outputs": [],
   "source": [
    "class Rectangle:\n",
    "    def __init__(self,nom='rectangle',longueur=0,largeur=0):\n",
    "        self.nom=nom\n",
    "        self.longueur=longueur\n",
    "        self.largeur=largeur\n",
    "    \n",
    "    def mesures(self):\n",
    "        return f\"{self.nom} est de longueur {longueur} et de largeur {longueur}\"\n",
    "        \n",
    "    def perimetre(self):\n",
    "        return (self.largeur+self.largeur)*2\n",
    "    def air(self):\n",
    "        return (self.largeur*self.longueur)\n",
    "\n",
    "class Carre(Rectangle):\n",
    "    def __init__(self,longueur,nom='carre'):\n",
    "        super().__init__(nom,longueur,longueur)"
   ]
  },
  {
   "cell_type": "code",
   "execution_count": 5,
   "metadata": {},
   "outputs": [],
   "source": [
    "a=Carre(5)\n",
    "b=Rectangle(4,5)"
   ]
  },
  {
   "cell_type": "code",
   "execution_count": 6,
   "metadata": {},
   "outputs": [
    {
     "name": "stdout",
     "output_type": "stream",
     "text": [
      "25\n",
      "0\n"
     ]
    }
   ],
   "source": [
    "print(a.air())\n",
    "print(b.perimetre())"
   ]
  },
  {
   "cell_type": "markdown",
   "metadata": {},
   "source": []
  }
 ],
 "metadata": {
  "kernelspec": {
   "display_name": "Python 3",
   "language": "python",
   "name": "python3"
  },
  "language_info": {
   "codemirror_mode": {
    "name": "ipython",
    "version": 3
   },
   "file_extension": ".py",
   "mimetype": "text/x-python",
   "name": "python",
   "nbconvert_exporter": "python",
   "pygments_lexer": "ipython3",
   "version": "3.6.9"
  }
 },
 "nbformat": 4,
 "nbformat_minor": 2
}
