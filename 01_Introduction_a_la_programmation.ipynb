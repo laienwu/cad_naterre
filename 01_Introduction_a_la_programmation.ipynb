{
 "cells": [
  {
   "cell_type": "markdown",
   "metadata": {},
   "source": [
    "# Python "
   ]
  },
  {
   "cell_type": "markdown",
   "metadata": {},
   "source": [
    "# Variables, mémoire et type\n",
    "\n",
    "On considère le petit bout de programme suivant: \n",
    "\n",
    "a = 3 \n",
    "\n",
    "b = 2 * a\n",
    "\n",
    "a = 5\n",
    "\n",
    "Que vallent a et b d'après vous à la fin du programme ? \n",
    "\n"
   ]
  },
  {
   "cell_type": "code",
   "execution_count": null,
   "metadata": {},
   "outputs": [],
   "source": [
    "a = 3\n",
    "\n",
    "b = 2 * a\n",
    "\n",
    "a = 5\n",
    "\n",
    "print(a,b)"
   ]
  },
  {
   "cell_type": "markdown",
   "metadata": {},
   "source": [
    "Implémenter le code précédent en python et afficher les valeurs des variables. Êtes-vous surpris ? "
   ]
  },
  {
   "cell_type": "code",
   "execution_count": null,
   "metadata": {},
   "outputs": [],
   "source": []
  },
  {
   "cell_type": "markdown",
   "metadata": {},
   "source": [
    "Voici de nouvelles variables :"
   ]
  },
  {
   "cell_type": "code",
   "execution_count": null,
   "metadata": {},
   "outputs": [],
   "source": [
    "d=\"Je suis un texte\"\n",
    "e=True\n",
    "f=False\n",
    "g=1.2"
   ]
  },
  {
   "cell_type": "markdown",
   "metadata": {},
   "source": [
    "A l'aide de la fonction type afficher le type des variables ci-dessus :"
   ]
  },
  {
   "cell_type": "code",
   "execution_count": null,
   "metadata": {},
   "outputs": [],
   "source": [
    "liste=[d,e,f,g]\n",
    "for e in liste:\n",
    "    print(type(e))"
   ]
  },
  {
   "cell_type": "markdown",
   "metadata": {},
   "source": [
    "## Les listes "
   ]
  },
  {
   "cell_type": "markdown",
   "metadata": {},
   "source": [
    "Les listes sont un type de structure de donnée qui permet de stocker un ensemble de valeur. Executer le code suivant, que fais-t-il ? "
   ]
  },
  {
   "cell_type": "code",
   "execution_count": null,
   "metadata": {},
   "outputs": [],
   "source": [
    "a = list(range(1000))\n",
    "print(a[0])\n",
    "print(a[-1])"
   ]
  },
  {
   "cell_type": "markdown",
   "metadata": {},
   "source": [
    "Récupérer l'avant dernier élément de la liste"
   ]
  },
  {
   "cell_type": "code",
   "execution_count": null,
   "metadata": {},
   "outputs": [],
   "source": [
    "a[-2]"
   ]
  },
  {
   "cell_type": "markdown",
   "metadata": {},
   "source": [
    "Executer le code suivant. Que fait-il ?"
   ]
  },
  {
   "cell_type": "code",
   "execution_count": null,
   "metadata": {},
   "outputs": [],
   "source": [
    "b = a + a\n",
    "print(b[-4:4:-1])"
   ]
  },
  {
   "cell_type": "markdown",
   "metadata": {},
   "source": [
    "A l'aide de la méthode append Executer le code suivant."
   ]
  },
  {
   "cell_type": "code",
   "execution_count": null,
   "metadata": {},
   "outputs": [],
   "source": [
    "a.append(5)\n",
    "print(a)"
   ]
  },
  {
   "cell_type": "markdown",
   "metadata": {},
   "source": [
    "Coder une fonction duplicate_last_item qui prend une liste en argument et qui lui ajoute le dernier élément. \n",
    "par exemple si l = [1, 2, 3] après application de la fonction l doit être égal à [1, 2, 3, 3]"
   ]
  },
  {
   "cell_type": "code",
   "execution_count": null,
   "metadata": {},
   "outputs": [],
   "source": []
  },
  {
   "cell_type": "markdown",
   "metadata": {},
   "source": [
    "Coder une fonction multiply_liste qui prend en argument une liste et retourne une liste dont tous les éléments sont multiplié par un coefficient $\\alpha$. Vous pourrez utiliser des compréhension de liste"
   ]
  },
  {
   "cell_type": "code",
   "execution_count": null,
   "metadata": {},
   "outputs": [],
   "source": []
  },
  {
   "cell_type": "markdown",
   "metadata": {},
   "source": [
    "Executer le code suivant. Que fait-il ? "
   ]
  },
  {
   "cell_type": "code",
   "execution_count": null,
   "metadata": {},
   "outputs": [],
   "source": [
    "l1 = ['a', 'b', 'c']\n",
    "l2 = [1, 2, 3]\n",
    "\n",
    "print(zip(l1, l2))\n",
    "print(list(zip(l1, l2)))"
   ]
  },
  {
   "cell_type": "markdown",
   "metadata": {},
   "source": [
    "Coder une fonction add_lists qui prend en argument deux listes l1 et l2 et qui retourne une liste r avec r[i] = l1[i] + l2[i]. Vous pouvez utiliser la fonction zip"
   ]
  },
  {
   "cell_type": "code",
   "execution_count": null,
   "metadata": {},
   "outputs": [],
   "source": []
  },
  {
   "cell_type": "markdown",
   "metadata": {},
   "source": [
    "Coder une fonction filter_even_values qui filtre toutes les valeurs paire d'une liste"
   ]
  },
  {
   "cell_type": "code",
   "execution_count": 31,
   "metadata": {},
   "outputs": [
    {
     "name": "stdout",
     "output_type": "stream",
     "text": [
      "[0, 1, 2, 3, 4, 5, 6, 7, 8, 9, 10, 11, 12, 13, 14, 15, 16, 17, 18, 19]\n"
     ]
    }
   ],
   "source": [
    "liste_teste=list(range(20))\n",
    "print(liste_teste)"
   ]
  },
  {
   "cell_type": "code",
   "execution_count": 37,
   "metadata": {},
   "outputs": [
    {
     "data": {
      "text/plain": [
       "[1, 3, 5, 7, 9, 11, 13, 15, 17, 19]"
      ]
     },
     "execution_count": 37,
     "metadata": {},
     "output_type": "execute_result"
    }
   ],
   "source": [
    "def est_paire(n):\n",
    "    return n%2\n",
    "\n",
    "aaa=list(filter(est_paire, liste_teste))\n",
    "aaa"
   ]
  },
  {
   "cell_type": "markdown",
   "metadata": {},
   "source": [
    "## Les chaînes de caractères. \n",
    "\n",
    "Créer les variables t1 et t2 contenant des chaînes de caractères. Afficher t1 + t2"
   ]
  },
  {
   "cell_type": "code",
   "execution_count": null,
   "metadata": {},
   "outputs": [],
   "source": []
  },
  {
   "cell_type": "markdown",
   "metadata": {},
   "source": [
    "Dans cet exercice on mixe listes et chaînes de caractères. Créer une chaîne de caractère avec le texte suivant : \n",
    "\n",
    "\"Bonjour, l'intelligence artificielle c'est trop bien\"\n",
    "\n",
    "Utiliser la fonction split pour découper la chaîne de caractère en mots. "
   ]
  },
  {
   "cell_type": "code",
   "execution_count": null,
   "metadata": {},
   "outputs": [],
   "source": []
  },
  {
   "cell_type": "markdown",
   "metadata": {},
   "source": [
    "##  Les Sets\n",
    "\n",
    "Les sets sont un type de donnée similaire aux listes mais avec une petite particularité. Créer une liste contenant les valeurs suivantes : [1, 2, 1, 3, 5, 6, 3]"
   ]
  },
  {
   "cell_type": "markdown",
   "metadata": {},
   "source": []
  },
  {
   "cell_type": "markdown",
   "metadata": {},
   "source": [
    "A partir de la liste précédente créer un set. Parcourir la liste précédente et le set et afficher les éléments. Quelle est la différence en liste et Set ?"
   ]
  },
  {
   "cell_type": "code",
   "execution_count": null,
   "metadata": {},
   "outputs": [],
   "source": []
  },
  {
   "cell_type": "markdown",
   "metadata": {},
   "source": [
    "## Les dictionnaires\n",
    "\n",
    "Executer le code suivant"
   ]
  },
  {
   "cell_type": "code",
   "execution_count": 82,
   "metadata": {},
   "outputs": [
    {
     "name": "stdout",
     "output_type": "stream",
     "text": [
      "replace this sentence with your first name\n"
     ]
    }
   ],
   "source": [
    "a = {\n",
    "    'firstname': 'replace this sentence with your first name',\n",
    "    'lastname': 'replace this sentence with your last name'\n",
    "}\n",
    "\n",
    "print(a['firstname'])"
   ]
  },
  {
   "cell_type": "markdown",
   "metadata": {},
   "source": [
    "Ajouter un champ \"age\" au dictionnaire et vérifier qu'il a bien été ajouté"
   ]
  },
  {
   "cell_type": "code",
   "execution_count": 83,
   "metadata": {},
   "outputs": [],
   "source": [
    "a[\"age\"]='replace this sentence with your age'"
   ]
  },
  {
   "cell_type": "markdown",
   "metadata": {},
   "source": [
    "# Les fonctions\n",
    "\n",
    "Une fonction qu'elle soit mathématique ou informatique est tout simplement une machine qui convertie une entrée en une sortie. Pour prendre une image, vous pouvez considérer un distributeur de boisson : en entrée vous mettez une pièce et en sortie vous avez une boisson généralement trop sucrée et mauvaise pour votre santée. Et bien une fonction c'est un distributeur dans lequel vous mettez un objet en entrée et vous obtenez une sortie.\n",
    "\n",
    "Créer la fonction square qui prend en entrée un nombre et qui retourne le nombre multiplié par lui même. "
   ]
  },
  {
   "cell_type": "code",
   "execution_count": null,
   "metadata": {},
   "outputs": [],
   "source": []
  },
  {
   "cell_type": "markdown",
   "metadata": {},
   "source": [
    "Créer la fonction ceslusToFahrenheit qui convertis une temperature en Celsus en Fahreneit et qui affiche \"14 C° est égale à 57.2 °F\" (utiliser la fonction format() pour l'affichage)"
   ]
  },
  {
   "cell_type": "code",
   "execution_count": null,
   "metadata": {},
   "outputs": [],
   "source": []
  },
  {
   "cell_type": "markdown",
   "metadata": {},
   "source": [
    "# Branchement conditionnel a.k.a les if\n",
    "\n",
    "Coder la fonction is_even qui renvoie True si le nombre en entré est pair et False sinon"
   ]
  },
  {
   "cell_type": "code",
   "execution_count": 86,
   "metadata": {},
   "outputs": [],
   "source": [
    "def is_even(n):\n",
    "    return True if n%2==0 else False"
   ]
  },
  {
   "cell_type": "markdown",
   "metadata": {},
   "source": [
    "Coder la fonction is_adult qui affiche \"mineur\" si le nombre en entré est inférieur à 18, \"adulte\" si supérieur ou égale à 18 et inférieur à 65 et \"senior\" sinon"
   ]
  },
  {
   "cell_type": "code",
   "execution_count": null,
   "metadata": {},
   "outputs": [],
   "source": [
    "[i for i in liste if]\n",
    "[i if else for i in liste]"
   ]
  },
  {
   "cell_type": "markdown",
   "metadata": {},
   "source": [
    "# Les boucles for\n",
    "\n",
    "A l'aide d'une boucle for (sans utiliser la fonction native sum), coder la fonction element_sum qui prend en argument une liste de nombre et qui retourne la somme des élements d'une liste"
   ]
  },
  {
   "cell_type": "code",
   "execution_count": null,
   "metadata": {},
   "outputs": [],
   "source": []
  },
  {
   "cell_type": "markdown",
   "metadata": {},
   "source": [
    "La fonction enumerate permet à la fois d'obtenir les élements d'une liste mais aussi l'indice (la position de l'élément dans la liste). Faire une boucle for en utilisant aussi enumerate et afficher à la fois la valeur et l'indice de la liste [1, 7, 3, \"coucou\", \"j'aime\", \"l'ia\"]"
   ]
  },
  {
   "cell_type": "code",
   "execution_count": null,
   "metadata": {},
   "outputs": [],
   "source": []
  },
  {
   "cell_type": "markdown",
   "metadata": {},
   "source": [
    "# Les boucles while\n",
    "\n",
    "A l'aide d'une boucle while (sans utiliser la fonction native sum), coder la fonction element_sum qui prend en argument une liste de nombre et qui retourne la somme des élements d'une liste"
   ]
  },
  {
   "cell_type": "code",
   "execution_count": 91,
   "metadata": {},
   "outputs": [
    {
     "name": "stdout",
     "output_type": "stream",
     "text": [
      "20\n"
     ]
    }
   ],
   "source": [
    "liste=[2,3,4,5,6]\n",
    "somme=0\n",
    "while liste:\n",
    "    somme+=liste.pop()\n",
    "print(somme)\n"
   ]
  },
  {
   "cell_type": "markdown",
   "metadata": {},
   "source": [
    "# Le juste prix"
   ]
  },
  {
   "cell_type": "markdown",
   "metadata": {},
   "source": [
    "Faire un jeu qui demande à l'utilisateur de deviner un chiffre généré aléatoirement entre 1 et 10 et qui précise si le chiffre rentré est plus grand ou plus petit que le chiffre généré. Exemple : le programme a généré le chiffre 8 aléatoirement \"Entrer un chiffre\" =>5 \"Le chiffre mystère est plus élevé\"=>9 \"Le chiffre mystère est plus petit\"=>8 \"Vous avez trouvé le bon chiffre !\""
   ]
  },
  {
   "cell_type": "code",
   "execution_count": 41,
   "metadata": {},
   "outputs": [
    {
     "name": "stdout",
     "output_type": "stream",
     "text": [
      "faites un essai: 1\n",
      "Le chiffre mystère est plus élevé\n",
      "faites un essai: 2\n",
      "Le chiffre mystère est plus élevé\n",
      "faites un essai: 3\n",
      "Le chiffre mystère est plus élevé\n",
      "faites un essai: 4\n",
      "Le chiffre mystère est plus élevé\n",
      "faites un essai: 5\n",
      "Le chiffre mystère est plus élevé\n",
      "faites un essai: 6\n",
      "Le chiffre mystère est plus élevé\n",
      "faites un essai: 6\n",
      "Le chiffre mystère est plus élevé\n",
      "faites un essai: 7\n",
      "Le chiffre mystère est plus élevé\n",
      "faites un essai: 8\n",
      "Le chiffre mystère est plus élevé\n",
      "faites un essai: 9\n",
      "Le chiffre mystère est plus élevé\n",
      "faites un essai: 10\n",
      "ous avez trouvé le bon chiffre !\n"
     ]
    }
   ],
   "source": [
    "from random import randint\n",
    "def jeu():\n",
    "    bingo=randint(1,10)\n",
    "    trouve=True\n",
    "    while trouve:\n",
    "        proposition=int(input('faites un essai: '))\n",
    "        if proposition==bingo:\n",
    "            print('Vous avez trouvé le bon chiffre !')\n",
    "            trouve=False\n",
    "            break\n",
    "        elif proposition<bingo:\n",
    "            print('Le chiffre mystère est plus élevé')\n",
    "        else:\n",
    "            print(\"Le chiffre mystère est plus petit\")\n",
    "jeu()    "
   ]
  },
  {
   "cell_type": "markdown",
   "metadata": {},
   "source": [
    "# Dictionnaire 2 \n",
    "\n",
    "Créer le dictionnaire suivant et le stocker dans une variable t1 : \n",
    "\n",
    "- age: 20\n",
    "- nom: \"Doe\"\n",
    "\n",
    "\n",
    "Créer un second dictionnaire d2 contenant les valeurs suivantes : \n",
    "\n",
    "- age: 22\n",
    "- firstname: \"John\"\n",
    "- sex: Male\n",
    "- town: \"Paris\"\n",
    "\n",
    "Fusionner le dictionnaire d1 dans d2\n"
   ]
  },
  {
   "cell_type": "code",
   "execution_count": 71,
   "metadata": {},
   "outputs": [
    {
     "name": "stdout",
     "output_type": "stream",
     "text": [
      "ChainMap({'age': 20, 'nom': 'Doe'}, {'age': 22, 'firstname': 'Jhon', 'sex': 'Male', 'town': 'Paris'})\n",
      "d= {'age': 20, 'firstname': 'Jhon', 'sex': 'Male', 'town': 'Paris', 'nom': 'Doe'}\n"
     ]
    }
   ],
   "source": [
    "##### import collections\n",
    "dic1 = { 'age' : 20, 'nom' : \"Doe\" } \n",
    "dic2 = { 'age' : 22, 'firstname' : \"Jhon\",\"sex\":\"Male\", 'town':\"Paris\" } \n",
    "# initializing ChainMap \n",
    "chain = collections.ChainMap(dic1, dic2) \n",
    "print (chain)\n",
    "\n",
    "d={**d2,**d1}\n",
    "print(f'd= {d}')"
   ]
  },
  {
   "cell_type": "markdown",
   "metadata": {},
   "source": [
    "A l'aide d'une boucle for afficher à la fois la clé du dictionnaire d2 et sa valeur pour chaque élément"
   ]
  },
  {
   "cell_type": "code",
   "execution_count": 93,
   "metadata": {},
   "outputs": [
    {
     "name": "stdout",
     "output_type": "stream",
     "text": [
      "age 22\n",
      "firstname Jhon\n",
      "sex Male\n"
     ]
    }
   ],
   "source": [
    "for i in d2:\n",
    "    print(i, d2[i])"
   ]
  },
  {
   "cell_type": "markdown",
   "metadata": {},
   "source": [
    "Supprimer la clé town du dictionnaire d2"
   ]
  },
  {
   "cell_type": "code",
   "execution_count": 72,
   "metadata": {},
   "outputs": [
    {
     "data": {
      "text/plain": [
       "{'age': 22, 'firstname': 'Jhon', 'sex': 'Male'}"
      ]
     },
     "execution_count": 72,
     "metadata": {},
     "output_type": "execute_result"
    }
   ],
   "source": [
    "del d2['town']\n",
    "d2"
   ]
  },
  {
   "cell_type": "markdown",
   "metadata": {},
   "source": [
    "Créer une liste l1 contenant les valeur [1, 2, 3, 4] et créer une liste l2 contenant les valeur 0 et -1. \n",
    "\n",
    "utilise l1.append et l1.extend sur l2 et notez la difference"
   ]
  },
  {
   "cell_type": "code",
   "execution_count": 94,
   "metadata": {},
   "outputs": [
    {
     "data": {
      "text/plain": [
       "[2, 3, 4, 5, -1, 1]"
      ]
     },
     "execution_count": 94,
     "metadata": {},
     "output_type": "execute_result"
    }
   ],
   "source": [
    "l1=[2,3,4,5]\n",
    "l2=[-1,1]\n",
    "l1+l2"
   ]
  },
  {
   "cell_type": "markdown",
   "metadata": {},
   "source": [
    "# Fonctions 2"
   ]
  },
  {
   "cell_type": "markdown",
   "metadata": {},
   "source": [
    "Faire une fonction qui prend un nombre en argument et qui retourn sa racine carrée (usuellement notée sqrt pour \"square root\"). Pour cela on pourra aller rechercher comment importer un module (une librairie) en python et import la librairie que vous jugez utile ! "
   ]
  },
  {
   "cell_type": "code",
   "execution_count": 74,
   "metadata": {},
   "outputs": [],
   "source": [
    "from math import sqrt,cos\n",
    "def racine(n):\n",
    "    return sqrt(n)"
   ]
  },
  {
   "cell_type": "markdown",
   "metadata": {},
   "source": [
    "Code la fonction qui prend un nombre x en entrée et retourne cosinus de x"
   ]
  },
  {
   "cell_type": "code",
   "execution_count": 75,
   "metadata": {},
   "outputs": [],
   "source": [
    "def cosinus(n):\n",
    "    return cos(n)"
   ]
  },
  {
   "cell_type": "markdown",
   "metadata": {},
   "source": [
    "Créer une fonction en réutilisant les deux précédents qui à un nombre x retourne cos(sqrt(x)) (sqrt = racine carrée)"
   ]
  },
  {
   "cell_type": "code",
   "execution_count": 76,
   "metadata": {},
   "outputs": [
    {
     "data": {
      "text/plain": [
       "0.004425697988050785"
      ]
     },
     "execution_count": 76,
     "metadata": {},
     "output_type": "execute_result"
    }
   ],
   "source": [
    "def cossqrt(n):\n",
    "    return cosinus(racine(n))\n",
    "cossqrt(121)"
   ]
  },
  {
   "cell_type": "markdown",
   "metadata": {},
   "source": [
    "Faire une fonction qui prend en argument une liste de nombre et retourne une nouvelle liste contenant cos(sqrt(x)) des éléments de la première. \n"
   ]
  },
  {
   "cell_type": "code",
   "execution_count": 81,
   "metadata": {},
   "outputs": [
    {
     "data": {
      "text/plain": [
       "[2, 3, 5, 6]"
      ]
     },
     "execution_count": 81,
     "metadata": {},
     "output_type": "execute_result"
    }
   ],
   "source": [
    "liste_test=[2,3,5,6]\n",
    "list(filter(cossqrt,liste_test))"
   ]
  },
  {
   "cell_type": "markdown",
   "metadata": {},
   "source": [
    "coder la fonction average qui prend en argument une liste de nombre et qui retourne la moyenne de celle-ci. On utilisera une boucle for obligatoirement"
   ]
  },
  {
   "cell_type": "code",
   "execution_count": null,
   "metadata": {},
   "outputs": [],
   "source": []
  },
  {
   "cell_type": "markdown",
   "metadata": {},
   "source": [
    "Coder la fonction are_same_length(list1, list2) qui renvoie True si les deux listes ont la même taille et False sinon"
   ]
  },
  {
   "cell_type": "code",
   "execution_count": null,
   "metadata": {},
   "outputs": [],
   "source": []
  },
  {
   "cell_type": "markdown",
   "metadata": {},
   "source": [
    "Faire une fonction qui prend une chaîne de caractère en entrée et qui renvoie True si le caractère @ se trouve dedans et False sinon. Vous pourrez utiliser pour cela le mot clé \"in\""
   ]
  },
  {
   "cell_type": "code",
   "execution_count": null,
   "metadata": {},
   "outputs": [],
   "source": []
  },
  {
   "cell_type": "markdown",
   "metadata": {},
   "source": [
    "Faire une fonction reverse_string qui prend en argument une chaîne de caractère et qui retourne la chaîne retournée."
   ]
  },
  {
   "cell_type": "code",
   "execution_count": null,
   "metadata": {},
   "outputs": [],
   "source": []
  }
 ],
 "metadata": {
  "kernelspec": {
   "display_name": "Python 3",
   "language": "python",
   "name": "python3"
  },
  "language_info": {
   "codemirror_mode": {
    "name": "ipython",
    "version": 3
   },
   "file_extension": ".py",
   "mimetype": "text/x-python",
   "name": "python",
   "nbconvert_exporter": "python",
   "pygments_lexer": "ipython3",
   "version": "3.6.9"
  }
 },
 "nbformat": 4,
 "nbformat_minor": 2
}
