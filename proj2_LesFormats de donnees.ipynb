{
 "cells": [
  {
   "cell_type": "markdown",
   "metadata": {},
   "source": [
    "# Projet 2 - Les fichiers CSV, JSON\n",
    "\n",
    "### Objectifs:\n",
    "Apprendre à manipuler des diff Formats de données \n",
    "\n",
    "Continuer la prise en main du langage Python"
   ]
  },
  {
   "cell_type": "markdown",
   "metadata": {},
   "source": [
    "\n",
    "## Le format JSON\n",
    "\n",
    "### 1. Historique \n",
    "\n",
    "Le format JSON est apparu pendant la première moitié des années 2000 et a été développé pour alléger la communication de données \"simples\" sur le web. Il est né dans le contexte du langage JavaScript mais est aujourd'hui utilisé dans l'ensemble des langages fortement utilisés (python, java, ruby, php, etc.)\n",
    "\n",
    "Le JSON est aujourd'hui présent dans 99% des requêtes du web sans que vous vous en rendiez compte ! Il est en effet le format privilégié par les développeurs pour communiquer entre le client et le serveur une fois la page affichée. "
   ]
  },
  {
   "cell_type": "markdown",
   "metadata": {},
   "source": [
    "### 2. Structure\n",
    "\n",
    "Vous reconnaissez ? JSON est en fait très proche de la manière de décrire des dictionnaires ou des listes en python. Et de fait, l'objet racine de JSON peut être une liste ou un dictionnaire et peut contenir :\n",
    "- des listes,\n",
    "- des dictionnaires,\n",
    "- des booléens,\n",
    "- des chaines de caractères\n",
    "- des entiers et des décimaux\n",
    "- des objets \"vides\" (`null`, l'équivalent de `None` en Python)\n",
    "\n",
    "Voici un exemple simple en commençant par une liste comme élément source:\n",
    "\n",
    "```json\n",
    "[\n",
    "    {\"vers\": 1, \"texte\": \"Après l'insurrection du 17 juin,\"},\n",
    "    {\"vers\": 2, \"texte\": \"Le secrétaire de l'Union des Écrivains\"},\n",
    "    {\"vers\": 3, \"texte\": \"Fit distribuer des tracts dans la Stalinallée.\"},\n",
    "    {\"vers\": 4, \"texte\": \"Le peuple, y lisait-on, a par sa faute\"},\n",
    "    {\"vers\": 5, \"texte\": \"Perdu la confiance du gouvernement\"},\n",
    "    {\"vers\": 6, \"texte\": \"Et ce n'est qu'en redoublant d'efforts\"},\n",
    "    {\"vers\": 7, \"texte\": \"Qu'il peut la regagner.\"},\n",
    "    {\"vers\": 8, \"texte\": \"Ne serait-il pas\"},\n",
    "    {\"vers\": 9, \"texte\": \"Plus simple alors pour le gouvernement\"},\n",
    "    {\"vers\": 10, \"texte\": \"De dissoudre le peuple\"},\n",
    "    {\"vers\": 11, \"texte\": \"Et d'en élire un autre ?\"}\n",
    "]\n",
    "```\n",
    "\n",
    "et un exemple en commençant par un dictionnaire : \n",
    "\n",
    "```json\n",
    "{\n",
    "    \"titre\": {\"fre\": \"La Solution\", \"ger\": \"Die Lösung\"},\n",
    "    \"auteur\": \"Bertold Brecht\",\n",
    "    \"annee\": 1953,\n",
    "    \"source\": \"https://fr.wikipedia.org/wiki/Die_L%C3%B6sung\",\n",
    "    \"vers\": [\n",
    "        {\"n\": 1, \"texte\": \"Après l'insurrection du 17 juin,\"},\n",
    "        {\"n\": 2, \"texte\": \"Le secrétaire de l'Union des Écrivains\"},\n",
    "        {\"n\": 3, \"texte\": \"Fit distribuer des tracts dans la Stalinallée.\"},\n",
    "        {\"n\": 4, \"texte\": \"Le peuple, y lisait-on, a par sa faute\"},\n",
    "        {\"n\": 5, \"texte\": \"Perdu la confiance du gouvernement\"},\n",
    "        {\"n\": 6, \"texte\": \"Et ce n'est qu'en redoublant d'efforts\"},\n",
    "        {\"n\": 7, \"texte\": \"Qu'il peut la regagner.\"},\n",
    "        {\"n\": 8, \"texte\": \"Ne serait-il pas\"},\n",
    "        {\"n\": 9, \"texte\": \"Plus simple alors pour le gouvernement\"},\n",
    "        {\"n\": 10, \"texte\": \"De dissoudre le peuple\"},\n",
    "        {\"n\": 11, \"texte\": \"Et d'en élire un autre ?\"}\n",
    "    ]\n",
    "}\n",
    "```"
   ]
  },
  {
   "cell_type": "markdown",
   "metadata": {},
   "source": [
    "### 3. JSON et Python\n",
    "\n",
    "Tout comme pour `csv`, Python propose son propre module. Le module [`json`](https://docs.python.org/3.5/library/json.html). Et tout comme pour `csv`, il propose un outil pour lire et un pour écrire !"
   ]
  },
  {
   "cell_type": "markdown",
   "metadata": {},
   "source": [
    "#### a. Lire\n",
    "\n",
    "Python propose deux fonctions pour lire du JSON : `json.load()` et `json.loads()`. La différence entre les deux est très ténue : la première prend une instance de fichier en cours de lecture, l'autre une chaine de caractère (d'où le `s` à la fin pour `str`):"
   ]
  },
  {
   "cell_type": "markdown",
   "metadata": {},
   "source": [
    "* Etudier / interpréter / Comprendre les diff syntaxes ci dessous :"
   ]
  },
  {
   "cell_type": "code",
   "execution_count": 2,
   "metadata": {},
   "outputs": [
    {
     "name": "stdout",
     "output_type": "stream",
     "text": [
      "{'titre': {'fre': 'La Solution', 'ger': 'Die Lösung'}, 'auteur': 'Bertold Brecht', 'annee': 1953, 'source': 'https://fr.wikipedia.org/wiki/Die_L%C3%B6sung', 'vers': [{'n': 1, 'texte': \"Après l'insurrection du 17 juin,\"}, {'n': 2, 'texte': \"Le secrétaire de l'Union des Écrivains\"}, {'n': 3, 'texte': 'Fit distribuer des tracts dans la Stalinallée.'}, {'n': 4, 'texte': 'Le peuple, y lisait-on, a par sa faute'}, {'n': 5, 'texte': 'Perdu la confiance du gouvernement'}, {'n': 6, 'texte': \"Et ce n'est qu'en redoublant d'efforts\"}, {'n': 7, 'texte': \"Qu'il peut la regagner.\"}, {'n': 8, 'texte': 'Ne serait-il pas'}, {'n': 9, 'texte': 'Plus simple alors pour le gouvernement'}, {'n': 10, 'texte': 'De dissoudre le peuple'}, {'n': 11, 'texte': \"Et d'en élire un autre ?\"}]}\n",
      "***************************\n",
      "{'titre': {'fre': 'La Solution', 'ger': 'Die Lösung'}, 'auteur': 'Bertold Brecht', 'annee': 1953, 'source': 'https://fr.wikipedia.org/wiki/Die_L%C3%B6sung', 'vers': [{'n': 1, 'texte': \"Après l'insurrection du 17 juin,\"}, {'n': 2, 'texte': \"Le secrétaire de l'Union des Écrivains\"}, {'n': 3, 'texte': 'Fit distribuer des tracts dans la Stalinallée.'}, {'n': 4, 'texte': 'Le peuple, y lisait-on, a par sa faute'}, {'n': 5, 'texte': 'Perdu la confiance du gouvernement'}, {'n': 6, 'texte': \"Et ce n'est qu'en redoublant d'efforts\"}, {'n': 7, 'texte': \"Qu'il peut la regagner.\"}, {'n': 8, 'texte': 'Ne serait-il pas'}, {'n': 9, 'texte': 'Plus simple alors pour le gouvernement'}, {'n': 10, 'texte': 'De dissoudre le peuple'}, {'n': 11, 'texte': \"Et d'en élire un autre ?\"}]}\n",
      "***************************\n",
      "La Solution\n",
      "-- Bertold Brecht\n",
      "(1) Après l'insurrection du 17 juin,\n",
      "(2) Le secrétaire de l'Union des Écrivains\n",
      "(3) Fit distribuer des tracts dans la Stalinallée.\n",
      "(4) Le peuple, y lisait-on, a par sa faute\n",
      "(5) Perdu la confiance du gouvernement\n",
      "(6) Et ce n'est qu'en redoublant d'efforts\n",
      "(7) Qu'il peut la regagner.\n",
      "(8) Ne serait-il pas\n",
      "(9) Plus simple alors pour le gouvernement\n",
      "(10) De dissoudre le peuple\n",
      "(11) Et d'en élire un autre ?\n",
      "******************************************\n",
      "Brecht a écrit le poème 'Solution'. Brecht est allemand.\n"
     ]
    }
   ],
   "source": [
    "import json\n",
    "\n",
    "# A partir d'un wrapper de fichier\n",
    "with open(\"brecht.json\") as f:\n",
    "    poeme=json.load(f)\n",
    "    print(poeme)\n",
    "    \n",
    "print(\"***************************\")\n",
    "# A partir d'une chaîne\n",
    "with open(\"brecht.json\") as f:\n",
    "    chaine = f.read()\n",
    "    print(json.loads(chaine))\n",
    "    \n",
    "print(\"***************************\")\n",
    "    \n",
    "print(poeme[\"titre\"][\"fre\"])\n",
    "print(\"-- \" + poeme[\"auteur\"])\n",
    "for line in poeme[\"vers\"]:\n",
    "    print(\"({0}) {1}\".format(line[\"n\"], line[\"texte\"]))\n",
    "\n",
    "print(\"******************************************\")\n",
    "print(\"{nom} a écrit le poème '{titre}'. {nom} est {nationalite}.\".format(\n",
    "    nom=\"Brecht\", titre=\"Solution\", nationalite=\"allemand\")\n",
    ")"
   ]
  },
  {
   "cell_type": "markdown",
   "metadata": {},
   "source": [
    "#### b. Écrire\n",
    "\n",
    "Tout comme pour la lecture, le module JSON propose deux fonctions pour l'écriture qui correspondent à l'écriture dans une chaine de caractère (`json.dumps()`) ou dans un fichier (`dump`):"
   ]
  },
  {
   "cell_type": "code",
   "execution_count": null,
   "metadata": {},
   "outputs": [],
   "source": [
    "import json\n",
    "\n",
    "mon_objet = [\n",
    "    {\n",
    "        \"titre\": \"Hacking Websites with SQL Injection - Computerphile\",\n",
    "        \"lien\" : \"https://www.youtube.com/watch?v=_jKylhJtPmI\"\n",
    "    },\n",
    "    {\n",
    "        \"titre\": \"Cross Site Request Forgery - Computerphile\",\n",
    "        \"lien\": \"https://www.youtube.com/watch?v=vRBihr41JTo\"\n",
    "    }\n",
    "]"
   ]
  },
  {
   "cell_type": "code",
   "execution_count": null,
   "metadata": {},
   "outputs": [],
   "source": [
    "# Avec une chaîne de caractère comme objectif\n",
    "chaine_json = json.dumps(mon_objet)\n",
    "print(chaine_json)\n",
    "print(type(chaine_json))"
   ]
  },
  {
   "cell_type": "code",
   "execution_count": null,
   "metadata": {},
   "outputs": [],
   "source": [
    "# Avec un fichier commme objectif\n",
    "with open(\"data/json/youtube.exemple.json\", \"w\") as f:\n",
    "    json.dump(mon_objet, f)\n",
    "    \n",
    "# On vérifie que cela marche bien :\n",
    "with open(\"data/json/youtube.exemple.json\") as f:\n",
    "    chaine = f.read()\n",
    "    objet_recharge = json.loads(chaine)\n",
    "    print(objet_recharge[0][\"titre\"])"
   ]
  },
  {
   "cell_type": "markdown",
   "metadata": {},
   "source": [
    "#### d. Do it by yourself:\n",
    "#### part1:\n",
    "\n",
    "Le fichier [data/json/twitter.humanitesnumeriques.json](data/json/twitter.humanitesnumeriques.json) contient quelques tweets comprenant la mention \"humanites numeriques\". \n",
    "\n",
    "1. Lisez le fichier (*utilisez si nécessaire un formateur comme [JSON Formatter](https://jsonformatter.curiousconcept.com/)*)\n",
    "2. Essayez de comprendre la structure\n",
    "3. Afficher grâce à une boucle les tweets en suivant l'exemple suivant :\n",
    "4. Rechercher des tweets \n",
    "5. supprimer des tweets particuliers\n",
    "6. etre force de proposition sur d'autres fonctionnalités à proposer à votre utilisateur..\n",
    "```\n",
    "http://twitter.com/statuses/(939096874388262912) AnthonyMasure RT @entroispoints: Présentation du livre d’@AnthonyMasure Design et humanités numériques #DesignDH @letankparis avec @nicolasthely et @Edit…\n",
    "```"
   ]
  },
  {
   "cell_type": "code",
   "execution_count": null,
   "metadata": {},
   "outputs": [],
   "source": [
    "# TBD"
   ]
  },
  {
   "cell_type": "markdown",
   "metadata": {},
   "source": [
    "#### e.part2\n",
    "\n",
    "À partir du code précédent, transformez l'exercice en chargeant le même fichier JSON et en écrivant un fichier CSV reprenant la structure en colonne `Lien | Auteur | Date | Tweet`"
   ]
  },
  {
   "cell_type": "code",
   "execution_count": null,
   "metadata": {},
   "outputs": [],
   "source": [
    "# TBD"
   ]
  },
  {
   "cell_type": "markdown",
   "metadata": {},
   "source": [
    "----\n",
    "\n",
    "#### Ce que l'on a appris:\n",
    "\n",
    "voici un récapitulatif des concepts appris.\n",
    "\n",
    "- La structure d'un fichier json\n",
    "- `json.load`\n",
    "- `json.loads`\n",
    "- `json.dump`\n",
    "- `json.dumps`\n",
    "- `from ___ import ___`\n",
    "- la notion de librairie/module/package\n",
    "- `csv.reader()`\n",
    "- `csv.writer()`\n",
    "- `enumerate()`\n",
    "- Lire une documentation et ses exemples\n",
    "\n",
    "#### Ce que l'on recommande d'approfondir\n",
    "\n",
    "Si les fonctions `csv.reader()` et `csv.writer()` sont sympathiques, les fonctions `DictReader` et `DictWriter` le sont beaucoup plus : elles stockent les noms de colonnes ! *cf.* [la documentation](https://docs.python.org/3.5/library/csv.html#csv.DictReader)"
   ]
  },
  {
   "cell_type": "code",
   "execution_count": null,
   "metadata": {},
   "outputs": [],
   "source": []
  }
 ],
 "metadata": {
  "kernelspec": {
   "display_name": "Python 3",
   "language": "python",
   "name": "python3"
  },
  "language_info": {
   "codemirror_mode": {
    "name": "ipython",
    "version": 3
   },
   "file_extension": ".py",
   "mimetype": "text/x-python",
   "name": "python",
   "nbconvert_exporter": "python",
   "pygments_lexer": "ipython3",
   "version": "3.6.9"
  }
 },
 "nbformat": 4,
 "nbformat_minor": 2
}
