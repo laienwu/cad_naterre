{
 "cells": [
  {
   "cell_type": "markdown",
   "metadata": {
    "colab_type": "text",
    "id": "1NF4500eXx69"
   },
   "source": [
    "# Projet 1 : Text Parser"
   ]
  },
  {
   "cell_type": "markdown",
   "metadata": {
    "colab_type": "text",
    "id": "S3_pvoMJXx7E"
   },
   "source": [
    "### Objectifs:\n",
    "\n",
    "Mettre en pratique à travers un projet les connaissances acquises sur les fondamenteaux du langage Python\n",
    "\n",
    "Continuer la prise en main du langage python\n"
   ]
  },
  {
   "cell_type": "markdown",
   "metadata": {
    "colab_type": "text",
    "id": "LF8FqhLBXx7J"
   },
   "source": [
    "## Enoncé\n",
    "\n",
    "Mettons en place un parseur de texte, On considère le poème fourni en PJ (lanuitdelamort.michel.txt sur le drive)\n",
    "\n",
    "Suivre les étapes de projets suivantes:\n"
   ]
  },
  {
   "cell_type": "markdown",
   "metadata": {
    "colab_type": "text",
    "id": "bj8A-r3kXx7N"
   },
   "source": [
    "### 1\n",
    "* Écrire une fonction qui, part d'un chemin de fichier qui contient un poème, numérotera les lignes du poèmes suivi d'une tabulation (marquée par \"\\t\") et retournera la nouvelle version du texte.\n",
    "\n",
    "Les lignes vides ne seront pas numérotées.\n",
    "\n",
    "**indication**  \n",
    "- `.split()` peut prendre un argument correspondant à la valeur sur laquelle découper un texte. `.split('\\n')` découpera un texte sur les nouvelles lignes"
   ]
  },
  {
   "cell_type": "code",
   "execution_count": null,
   "metadata": {},
   "outputs": [],
   "source": [
    "#first solution to proj1_1\n",
    "def numeroter_poeme(chemin_de_fichier):\n",
    "    with open(chemin_de_fichier) as f:\n",
    "        mylist = [line.rstrip('\\n') for line in f]\n",
    "    mylist2=[i for i in mylist if i!='']\n",
    "    #print(mylist2)\n",
    "    for i, j in enumerate(mylist2):\n",
    "        mylist[i]=str(i+1)+'\\t'+mylist2[i]\n",
    "    return mylist\n",
    "aaa=numeroter_poeme('lanuitdelamort.michel.txt')\n",
    "for i in aaa:\n",
    "    print(i)"
   ]
  },
  {
   "cell_type": "code",
   "execution_count": null,
   "metadata": {},
   "outputs": [],
   "source": [
    "#second solution to proj1_1\n",
    "def numeroter_poeme(chemin_de_fichier):\n",
    "    f=open(chemin_de_fichier,'r')\n",
    "    data=f.readlines()\n",
    "    f.close()\n",
    "    poem=[]\n",
    "    i=0\n",
    "    for line in data:\n",
    "        tmp=line.split('\\n')[0]\n",
    "        if tmp:\n",
    "            poem.append(str(i+1)+'\\t'+tmp)\n",
    "            i=i+1\n",
    "    return poem\n",
    "\n",
    "aaa=numeroter_poeme('lanuitdelamort.michel.txt')\n",
    "print(aaa)"
   ]
  },
  {
   "cell_type": "code",
   "execution_count": null,
   "metadata": {
    "colab": {},
    "colab_type": "code",
    "id": "YFtzV-erXx7k",
    "outputId": "11fabcef-7018-4ca3-80f5-62e90dc993e2"
   },
   "outputs": [],
   "source": [
    "# Code pour tester le résultat\n",
    "poeme = numeroter_poeme(\"lanuitdelamort.michel.txt\")\n",
    "\n",
    "# Pour débugguer\n",
    "print(poeme)\n",
    "\n",
    "# Pour tester\n",
    "assert \"5\\tJamais, jamais le dernier jour\" in poeme\n",
    "assert \"13\\tElle monte et les couvrira.\" in poeme"
   ]
  },
  {
   "cell_type": "markdown",
   "metadata": {
    "colab_type": "text",
    "id": "ckUH7Qz7a5U_"
   },
   "source": [
    "# New Section"
   ]
  },
  {
   "cell_type": "markdown",
   "metadata": {
    "colab_type": "text",
    "id": "XVN7OFYdXx7v"
   },
   "source": [
    "###  2\n",
    "\n",
    "Ecrire une fonction qui renvoie une liste de vers annotés en tuples."
   ]
  },
  {
   "cell_type": "code",
   "execution_count": 167,
   "metadata": {
    "colab": {},
    "colab_type": "code",
    "id": "Nizuu2ydXx7y"
   },
   "outputs": [],
   "source": [
    "#solution to proj1_2\n",
    "def numeroter_poeme(chemin_de_fichier):\n",
    "    with open(chemin_de_fichier) as f:\n",
    "        mylist = [line.split('\\n')[0] for line in f if line]\n",
    "    mylist2 = []\n",
    "    i=1\n",
    "    for j in mylist:\n",
    "        if j:\n",
    "            mylist2.append((i,j))\n",
    "            i+=1\n",
    "    return mylist2\n",
    "aaa=numeroter_poeme('lanuitdelamort.michel.txt')\n"
   ]
  },
  {
   "cell_type": "code",
   "execution_count": 168,
   "metadata": {
    "colab": {},
    "colab_type": "code",
    "id": "B7CCQFCjXx78",
    "outputId": "c1e71878-15c1-4634-9a66-0d5a443fb575"
   },
   "outputs": [
    {
     "name": "stdout",
     "output_type": "stream",
     "text": [
      "[(1, 'Dies irœ, Dies illa'), (2, 'Solvet scelum in favilla.'), (3, 'Jamais ne viendra donc la fin ?'), (4, 'Dorment-ils tous, les meurt-de-faim ?'), (5, 'Jamais, jamais le dernier jour'), (6, 'Ne les jettera-t-il à leur tour'), (7, 'Dans les angoisses de la mort,'), (8, 'Ces bandits que la rage mord ?'), (9, 'Toujours, esclaves et bourreaux,'), (10, 'Pâtiront-ils leurs échafauds ?'), (11, 'Amis, dans l’ombre entendez-vous'), (12, 'Gronder la mer aux noirs remous ?'), (13, 'Elle monte et les couvrira.'), (14, 'Dies irae, Dies illa...'), (15, 'Elle couvre, pourpre de sang,'), (16, 'L’Elysée et le Vatican.'), (17, 'Compagnons, arrachons nos cœurs,'), (18, 'Ne soyons plus que des vengeurs.'), (19, 'Passons, effrayants et maudits,'), (20, 'Afin que les maux soient finis.'), (21, 'Comblons l’abîme avec nos corps.'), (22, 'Amis, n’oubliez pas les morts...'), (23, 'La légende des temps nouveaux'), (24, 'Fleurira parmi les tombeaux.'), (25, 'C’est le destin ; le maître est dur.'), (26, 'C’est pourquoi le fer sera pur.'), (27, 'Dies irae, Dies illa,'), (28, 'Solvet scelum, in favina.')]\n"
     ]
    }
   ],
   "source": [
    "#Code pour tester le résultat\n",
    "poeme = numeroter_poeme(\"lanuitdelamort.michel.txt\")\n",
    "\n",
    "print(poeme)\n",
    "assert (5, \"Jamais, jamais le dernier jour\") == poeme[4]\n",
    "assert (13, \"Elle monte et les couvrira.\") == poeme[12]"
   ]
  },
  {
   "cell_type": "markdown",
   "metadata": {
    "colab_type": "text",
    "id": "JZ2b_rJ4Xx8E"
   },
   "source": [
    "3\n",
    "\n",
    "Maintenant, on traitera à la fois les vers et les strophes. Pour faire ceci, la fonction `numeroter_poeme_avec_strophe` devra prendre en compte que deux sauts de ligne (ou une ligne vide) équivaut à un changement de strophe.\n",
    "\n",
    "La valeur de retour de la fonction sera une liste de listes correspondant aux strophes de tuples correspondant aux vers avec numéros. \n",
    "\n",
    "Exemple :\n",
    "\n",
    "```python\n",
    "[[(1, 'Mon doulz ami, vueilliez moy pardonner,'),\n",
    "  (2, 'Se je ne puis, si tost com je vouldroye,'),\n",
    "  (3, 'Parler a vous, car ainçois ordener'),\n",
    "  (4, 'Me fault comment sera, ne par quel voye.'),\n",
    "  (5, 'Car mesdisans me vont gaitant'),\n",
    "  (6, 'Qui du meschief et du mal me font tant,'),\n",
    "  (7, 'Que je ne puis joye ne bien avoir,'),\n",
    "  (8, 'Pour le desir que j’ay de vous veoir.')],\n",
    " [(9, 'Si pry a Dieu qu’il leur vueille donner'),\n",
    "  (10, 'La mort briefment ; car leur vie m’anoye,'),\n",
    "  (11, 'Pour ce qu’en dueil me font mes jours finer'),\n",
    "  (12, 'Sanz vous veoir, ou est toute ma joye'),\n",
    "  (13, 'Car ilz se vont entremettant'),\n",
    "  (14, 'De moy gaitier nuit et jour, mais pourtant'),\n",
    "  (15, 'Ne vous oubli, ce pouez vous savoir,'),\n",
    "  (16, 'Pour le desir que j’ay de vous veoir.')],\n",
    " [(17, 'Mais ne sçaront ja eulx si fort pener,'),\n",
    "  (18, 'Que, maugré tous, bien briefment ne vous voie.'),\n",
    "  (19, 'Car tant feray, se g’y puis assener,'),\n",
    "  (20, 'Que vous verray, quoy qu’avenir m’en doye,'),\n",
    "  (21, 'Et vous feray savoir quant.'),\n",
    "  (22, 'Mon doulz ami, deportez vous atant.'),\n",
    "  (23, 'Car g’y mettray peine, sachiez de voir,'),\n",
    "  (24, 'Pour le desir que j’ay de vous veoir.')]]\n",
    "```\n",
    "\n",
    "**indication** \n",
    "- une ligne vide est équivalent à `False` "
   ]
  },
  {
   "cell_type": "code",
   "execution_count": 169,
   "metadata": {},
   "outputs": [
    {
     "name": "stdout",
     "output_type": "stream",
     "text": [
      "[(1, 'Mon doulz ami, vueilliez moy pardonner,'), (2, 'Se je ne puis, si tost com je vouldroye,'), (3, 'Parler a vous, car ainçois ordener'), (4, 'Me fault comment sera, ne par quel voye.'), (5, 'Car mesdisans me vont gaitant'), (6, 'Qui du meschief et du mal me font tant,'), (7, 'Que je ne puis joye ne bien avoir,'), (8, 'Pour le desir que j’ay de vous veoir.')]\n",
      "[(9, 'Si pry a Dieu qu’il leur vueille donner'), (10, 'La mort briefment ; car leur vie m’anoye,'), (11, 'Pour ce qu’en dueil me font mes jours finer'), (12, \"Sanz vous veoir, ou est toute ma joye'),\"), (13, 'Car ilz se vont entremettant'), (14, 'De moy gaitier nuit et jour, mais pourtant'), (15, 'Ne vous oubli, ce pouez vous savoir,'), (16, 'Pour le desir que j’ay de vpyous veoir.')]\n",
      "[(17, 'Mais ne sçaront ja eulx si fort pener,'), (18, 'Que, maugré tous, bien briefment ne vous voie.'), (19, 'Car tant feray, se g’y puis assener,'), (20, 'Que vous verray, quoy qu’avenir m’en doye,'), (21, 'Et vous feray savoir quant.'), (22, 'Mon doulz ami, deportez vous atant.'), (23, 'Car g’y mettray peine, sachiez de voir,'), (24, 'Pour le desir que j’ay de vous veoir.'), (25, 'Car g’y mettray peine, sachiez de voir,'), (26, 'Car g’y mettray peine, vous de voir,')]\n",
      "[(27, 'Dies irae, Dies illa,'), (28, 'Solvet scelum, in favina.')]\n"
     ]
    }
   ],
   "source": [
    "#1st solution to proj1_3\n",
    "def numeroter_poeme_avec_strophe(chemin_de_fichier):\n",
    "    full = []\n",
    "    k=0\n",
    "    strophe = []\n",
    "    with open(chemin_de_fichier) as f:\n",
    "        mylist = [line.rstrip('\\n') for line in f]\n",
    "    for i in mylist:\n",
    "        if i == '':\n",
    "            full.append(strophe)\n",
    "            strophe = []\n",
    "        else:\n",
    "            strophe.append((k+1,i))\n",
    "            k+=1\n",
    "    full.append(strophe)\n",
    "    return full\n",
    "\n",
    "for s in numeroter_poeme_avec_strophe('lanuitdelamort.michel.txt'):\n",
    "    print(s)\n"
   ]
  },
  {
   "cell_type": "code",
   "execution_count": 170,
   "metadata": {
    "colab": {},
    "colab_type": "code",
    "id": "0ets3-UeXx8G",
    "outputId": "75d73606-07a5-4ab6-af26-6cac6f29ba79",
    "scrolled": true
   },
   "outputs": [
    {
     "name": "stdout",
     "output_type": "stream",
     "text": [
      "[[(1, 'Dies irœ, Dies illa'), (2, 'Solvet scelum in favilla.'), (3, 'Jamais ne viendra donc la fin ?'), (4, 'Dorment-ils tous, les meurt-de-faim ?'), (5, 'Jamais, jamais le dernier jour'), (6, 'Ne les jettera-t-il à leur tour'), (7, 'Dans les angoisses de la mort,'), (8, 'Ces bandits que la rage mord ?')], [(9, 'Toujours, esclaves et bourreaux,'), (10, 'Pâtiront-ils leurs échafauds ?'), (11, 'Amis, dans l’ombre entendez-vous'), (12, 'Gronder la mer aux noirs remous ?'), (13, 'Elle monte et les couvrira.'), (14, 'Dies irae, Dies illa...'), (15, 'Elle couvre, pourpre de sang,'), (16, 'L’Elysée et le Vatican.'), (17, 'Compagnons, arrachons nos cœurs,'), (18, 'Ne soyons plus que des vengeurs.')], [(19, 'Passons, effrayants et maudits,'), (20, 'Afin que les maux soient finis.'), (21, 'Comblons l’abîme avec nos corps.'), (22, 'Amis, n’oubliez pas les morts...'), (23, 'La légende des temps nouveaux'), (24, 'Fleurira parmi les tombeaux.'), (25, 'C’est le destin ; le maître est dur.'), (26, 'C’est pourquoi le fer sera pur.')], [(27, 'Dies irae, Dies illa,'), (28, 'Solvet scelum, in favina.')]]\n"
     ]
    }
   ],
   "source": [
    "poeme = numeroter_poeme_avec_strophe(\"lanuitdelamort.michel.txt\")\n",
    "print (poeme)\n",
    "assert poeme[3] == [(27, 'Dies irae, Dies illa,'), (28, 'Solvet scelum, in favina.')]\n",
    "  "
   ]
  },
  {
   "cell_type": "markdown",
   "metadata": {
    "colab_type": "text",
    "id": "DRhYVh7mXx8P"
   },
   "source": [
    "=> Vérifier et tester votre code sur un 2ème texte!\n",
    "\n"
   ]
  },
  {
   "cell_type": "code",
   "execution_count": null,
   "metadata": {},
   "outputs": [],
   "source": [
    "#2nd solution to proj1_3\n",
    "def numeroter_poeme_avec_strophe(chemin_de_fichier):\n",
    "    with open(chemin_de_fichier, 'r') as fichier:\n",
    "        poemecharge = list(fichier)\n",
    "        num = 1         \n",
    "        listenum = []\n",
    "        listevers = []\n",
    "        for vers in poemecharge:\n",
    "            if vers != \"\\n\":\n",
    "                listevers.append(vers)\n",
    "                listenum.append(num)\n",
    "                num=num+1\n",
    "            else:\n",
    "                listevers.append('')\n",
    "                listenum.append(\"\")\n",
    "        poemetuple = list(zip(listenum, listevers))\n",
    "        strophe =[]\n",
    "        listestrophe = []\n",
    "        #print(poemetuple)\n",
    "        for element in poemetuple:\n",
    "            if element!=('',''):\n",
    "                #print(element)\n",
    "                strophe.append(element)\n",
    "            else:\n",
    "                #if strophe:\n",
    "                listestrophe.append(strophe)\n",
    "                strophe=[]\n",
    "                        \n",
    "    return listestrophe  \n",
    "poeme = numeroter_poeme_avec_strophe(\"lanuitdelamort.michel.txt\")\n",
    "for i in poeme:     \n",
    "    print (i)"
   ]
  },
  {
   "cell_type": "code",
   "execution_count": 174,
   "metadata": {},
   "outputs": [
    {
     "name": "stdout",
     "output_type": "stream",
     "text": [
      "strophe>>>> [(1, 'Dies irœ, Dies illa'), (2, 'Solvet scelum in favilla.'), (3, 'Jamais ne viendra donc la fin ?'), (4, 'Dorment-ils tous, les meurt-de-faim ?'), (5, 'Jamais, jamais le dernier jour'), (6, 'Ne les jettera-t-il à leur tour'), (7, 'Dans les angoisses de la mort,'), (8, 'Ces bandits que la rage mord ?')]\n",
      "strophe>>>> [(9, 'Toujours, esclaves et bourreaux,'), (10, 'Pâtiront-ils leurs échafauds ?'), (11, 'Amis, dans l’ombre entendez-vous'), (12, 'Gronder la mer aux noirs remous ?'), (13, 'Elle monte et les couvrira.'), (14, 'Dies irae, Dies illa...'), (15, 'Elle couvre, pourpre de sang,'), (16, 'L’Elysée et le Vatican.'), (17, 'Compagnons, arrachons nos cœurs,'), (18, 'Ne soyons plus que des vengeurs.')]\n",
      "strophe>>>> [(19, 'Passons, effrayants et maudits,'), (20, 'Afin que les maux soient finis.'), (21, 'Comblons l’abîme avec nos corps.'), (22, 'Amis, n’oubliez pas les morts...'), (23, 'La légende des temps nouveaux'), (24, 'Fleurira parmi les tombeaux.'), (25, 'C’est le destin ; le maître est dur.'), (26, 'C’est pourquoi le fer sera pur.')]\n",
      "strophe>>>> [(27, 'Dies irae, Dies illa,'), (28, 'Solvet scelum, in favina.')]\n"
     ]
    }
   ],
   "source": [
    "#3rd solution to proj1_3\n",
    "def numeroter_poeme_avec_strophe(chemin_de_fichier):  \n",
    "    with open(chemin_de_fichier,'r') as f:\n",
    "        data=f.read().split('\\n')\n",
    "    i=1\n",
    "    text=[[]]\n",
    "    for j in data:\n",
    "        if j:\n",
    "            ligne=(i,j)\n",
    "            i+=1\n",
    "            text[-1].append(ligne)\n",
    "        else:\n",
    "            text.append([])\n",
    "    return text[:-1]\n",
    "\n",
    "poeme = numeroter_poeme_avec_strophe(\"lanuitdelamort.michel.txt\")\n",
    "for i in poeme:     \n",
    "    print (\"strophe>>>>\",i)"
   ]
  },
  {
   "cell_type": "code",
   "execution_count": 212,
   "metadata": {},
   "outputs": [],
   "source": [
    "#fct used in 4th proj1_3 solution\n",
    "def numeroter_bloc_lignes(strophe_raw,t=0):\n",
    "    liste_vers=strophe_raw.split('\\n')\n",
    "    vers_annote = []\n",
    "    for vers in liste_vers:\n",
    "        #print(i+1, j)\n",
    "        vers_annote.append((t+1,vers))\n",
    "        t+=1\n",
    "    return vers_annote,t"
   ]
  },
  {
   "cell_type": "code",
   "execution_count": 213,
   "metadata": {},
   "outputs": [
    {
     "data": {
      "text/plain": [
       "[[(1, 'Dies irœ, Dies illa'),\n",
       "  (2, 'Solvet scelum in favilla.'),\n",
       "  (3, 'Jamais ne viendra donc la fin ?'),\n",
       "  (4, 'Dorment-ils tous, les meurt-de-faim ?'),\n",
       "  (5, 'Jamais, jamais le dernier jour'),\n",
       "  (6, 'Ne les jettera-t-il à leur tour'),\n",
       "  (7, 'Dans les angoisses de la mort,'),\n",
       "  (8, 'Ces bandits que la rage mord ?')],\n",
       " [(9, 'Toujours, esclaves et bourreaux,'),\n",
       "  (10, 'Pâtiront-ils leurs échafauds ?'),\n",
       "  (11, 'Amis, dans l’ombre entendez-vous'),\n",
       "  (12, 'Gronder la mer aux noirs remous ?'),\n",
       "  (13, 'Elle monte et les couvrira.'),\n",
       "  (14, 'Dies irae, Dies illa...'),\n",
       "  (15, 'Elle couvre, pourpre de sang,'),\n",
       "  (16, 'L’Elysée et le Vatican.'),\n",
       "  (17, 'Compagnons, arrachons nos cœurs,'),\n",
       "  (18, 'Ne soyons plus que des vengeurs.')],\n",
       " [(19, 'Passons, effrayants et maudits,'),\n",
       "  (20, 'Afin que les maux soient finis.'),\n",
       "  (21, 'Comblons l’abîme avec nos corps.'),\n",
       "  (22, 'Amis, n’oubliez pas les morts...'),\n",
       "  (23, 'La légende des temps nouveaux'),\n",
       "  (24, 'Fleurira parmi les tombeaux.'),\n",
       "  (25, 'C’est le destin ; le maître est dur.'),\n",
       "  (26, 'C’est pourquoi le fer sera pur.')],\n",
       " [(27, 'Dies irae, Dies illa,'), (28, 'Solvet scelum, in favina.')]]"
      ]
     },
     "execution_count": 213,
     "metadata": {},
     "output_type": "execute_result"
    }
   ],
   "source": [
    "def numeroter_poeme_avec_strophe(chemin_de_fichier):  \n",
    "    with open(chemin_de_fichier,'r') as f:\n",
    "#with open(\"lanuitdelamort.michel.txt\",'r') as f:\n",
    "        poeme_en_strophe=f.read().rstrip('\\n').split('\\n\\n')\n",
    "    annotation=0\n",
    "    poeme_annote=[]\n",
    "    for strophe in poeme_en_strophe:\n",
    "        texte,annotation=numeroter_bloc_lignes(strophe,annotation)\n",
    "        poeme_annote.append(texte)\n",
    "    return poeme_annote\n",
    "numeroter_poeme_avec_strophe('lanuitdelamort.michel.txt')"
   ]
  }
 ],
 "metadata": {
  "colab": {
   "name": "proj1_LesBases.ipynb",
   "provenance": []
  },
  "kernelspec": {
   "display_name": "Python 3",
   "language": "python",
   "name": "python3"
  },
  "language_info": {
   "codemirror_mode": {
    "name": "ipython",
    "version": 3
   },
   "file_extension": ".py",
   "mimetype": "text/x-python",
   "name": "python",
   "nbconvert_exporter": "python",
   "pygments_lexer": "ipython3",
   "version": "3.6.9"
  }
 },
 "nbformat": 4,
 "nbformat_minor": 1
}
